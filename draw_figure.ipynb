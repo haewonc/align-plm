{
 "cells": [
  {
   "cell_type": "markdown",
   "metadata": {},
   "source": [
    "### Reproduction of Figures"
   ]
  },
  {
   "cell_type": "code",
   "execution_count": 18,
   "metadata": {},
   "outputs": [],
   "source": [
    "import pandas as pd \n",
    "import plotly.express as px\n",
    "import plotly.io as pio"
   ]
  },
  {
   "cell_type": "code",
   "execution_count": 19,
   "metadata": {},
   "outputs": [],
   "source": [
    "df = pd.read_csv('total.csv')"
   ]
  },
  {
   "cell_type": "code",
   "execution_count": 20,
   "metadata": {},
   "outputs": [
    {
     "data": {
      "text/html": [
       "<div>\n",
       "<style scoped>\n",
       "    .dataframe tbody tr th:only-of-type {\n",
       "        vertical-align: middle;\n",
       "    }\n",
       "\n",
       "    .dataframe tbody tr th {\n",
       "        vertical-align: top;\n",
       "    }\n",
       "\n",
       "    .dataframe thead th {\n",
       "        text-align: right;\n",
       "    }\n",
       "</style>\n",
       "<table border=\"1\" class=\"dataframe\">\n",
       "  <thead>\n",
       "    <tr style=\"text-align: right;\">\n",
       "      <th></th>\n",
       "      <th>DMS_id</th>\n",
       "      <th>Ours</th>\n",
       "      <th>Alpha-Missense</th>\n",
       "      <th>Tranception_L_no_retrieval</th>\n",
       "      <th>Tranception_L_retrieval</th>\n",
       "      <th>EVE_single</th>\n",
       "      <th>ESM1v_single</th>\n",
       "    </tr>\n",
       "  </thead>\n",
       "  <tbody>\n",
       "    <tr>\n",
       "      <th>0</th>\n",
       "      <td>A0A1I9GEU1_NEIME_Kennouche_2019</td>\n",
       "      <td>0.074</td>\n",
       "      <td>0.080240</td>\n",
       "      <td>0.099</td>\n",
       "      <td>0.057</td>\n",
       "      <td>0.053</td>\n",
       "      <td>0.068</td>\n",
       "    </tr>\n",
       "    <tr>\n",
       "      <th>1</th>\n",
       "      <td>BRCA1_HUMAN_Findlay_2018</td>\n",
       "      <td>0.143</td>\n",
       "      <td>0.580620</td>\n",
       "      <td>0.409</td>\n",
       "      <td>0.514</td>\n",
       "      <td>0.424</td>\n",
       "      <td>0.404</td>\n",
       "    </tr>\n",
       "    <tr>\n",
       "      <th>2</th>\n",
       "      <td>MK01_HUMAN_Brenan_2016</td>\n",
       "      <td>0.218</td>\n",
       "      <td>0.219123</td>\n",
       "      <td>0.004</td>\n",
       "      <td>0.093</td>\n",
       "      <td>0.223</td>\n",
       "      <td>0.167</td>\n",
       "    </tr>\n",
       "    <tr>\n",
       "      <th>3</th>\n",
       "      <td>CALM1_HUMAN_Weile_2017</td>\n",
       "      <td>0.289</td>\n",
       "      <td>0.183611</td>\n",
       "      <td>0.291</td>\n",
       "      <td>0.266</td>\n",
       "      <td>0.238</td>\n",
       "      <td>0.235</td>\n",
       "    </tr>\n",
       "    <tr>\n",
       "      <th>4</th>\n",
       "      <td>TPK1_HUMAN_Weile_2017</td>\n",
       "      <td>0.296</td>\n",
       "      <td>0.303685</td>\n",
       "      <td>0.301</td>\n",
       "      <td>0.305</td>\n",
       "      <td>0.230</td>\n",
       "      <td>0.270</td>\n",
       "    </tr>\n",
       "    <tr>\n",
       "      <th>...</th>\n",
       "      <td>...</td>\n",
       "      <td>...</td>\n",
       "      <td>...</td>\n",
       "      <td>...</td>\n",
       "      <td>...</td>\n",
       "      <td>...</td>\n",
       "      <td>...</td>\n",
       "    </tr>\n",
       "    <tr>\n",
       "      <th>80</th>\n",
       "      <td>CCDB_ECOLI_Adkar_2012</td>\n",
       "      <td>0.774</td>\n",
       "      <td>0.510964</td>\n",
       "      <td>0.310</td>\n",
       "      <td>0.458</td>\n",
       "      <td>0.528</td>\n",
       "      <td>0.351</td>\n",
       "    </tr>\n",
       "    <tr>\n",
       "      <th>81</th>\n",
       "      <td>A4_HUMAN_Seuma_2021</td>\n",
       "      <td>0.784</td>\n",
       "      <td>0.442637</td>\n",
       "      <td>0.363</td>\n",
       "      <td>0.452</td>\n",
       "      <td>0.305</td>\n",
       "      <td>0.309</td>\n",
       "    </tr>\n",
       "    <tr>\n",
       "      <th>82</th>\n",
       "      <td>TADBP_HUMAN_Bolognesi_2019</td>\n",
       "      <td>0.788</td>\n",
       "      <td>0.053396</td>\n",
       "      <td>0.121</td>\n",
       "      <td>0.121</td>\n",
       "      <td>0.080</td>\n",
       "      <td>0.051</td>\n",
       "    </tr>\n",
       "    <tr>\n",
       "      <th>83</th>\n",
       "      <td>PABP_YEAST_Melamed_2013</td>\n",
       "      <td>0.801</td>\n",
       "      <td>0.750252</td>\n",
       "      <td>0.640</td>\n",
       "      <td>0.688</td>\n",
       "      <td>0.654</td>\n",
       "      <td>0.662</td>\n",
       "    </tr>\n",
       "    <tr>\n",
       "      <th>84</th>\n",
       "      <td>SPG1_STRSG_Olson_2014</td>\n",
       "      <td>0.832</td>\n",
       "      <td>0.471057</td>\n",
       "      <td>0.279</td>\n",
       "      <td>0.289</td>\n",
       "      <td>0.247</td>\n",
       "      <td>0.237</td>\n",
       "    </tr>\n",
       "  </tbody>\n",
       "</table>\n",
       "<p>85 rows × 7 columns</p>\n",
       "</div>"
      ],
      "text/plain": [
       "                             DMS_id   Ours  Alpha-Missense  \\\n",
       "0   A0A1I9GEU1_NEIME_Kennouche_2019  0.074        0.080240   \n",
       "1          BRCA1_HUMAN_Findlay_2018  0.143        0.580620   \n",
       "2            MK01_HUMAN_Brenan_2016  0.218        0.219123   \n",
       "3            CALM1_HUMAN_Weile_2017  0.289        0.183611   \n",
       "4             TPK1_HUMAN_Weile_2017  0.296        0.303685   \n",
       "..                              ...    ...             ...   \n",
       "80            CCDB_ECOLI_Adkar_2012  0.774        0.510964   \n",
       "81              A4_HUMAN_Seuma_2021  0.784        0.442637   \n",
       "82       TADBP_HUMAN_Bolognesi_2019  0.788        0.053396   \n",
       "83          PABP_YEAST_Melamed_2013  0.801        0.750252   \n",
       "84            SPG1_STRSG_Olson_2014  0.832        0.471057   \n",
       "\n",
       "    Tranception_L_no_retrieval  Tranception_L_retrieval  EVE_single  \\\n",
       "0                        0.099                    0.057       0.053   \n",
       "1                        0.409                    0.514       0.424   \n",
       "2                        0.004                    0.093       0.223   \n",
       "3                        0.291                    0.266       0.238   \n",
       "4                        0.301                    0.305       0.230   \n",
       "..                         ...                      ...         ...   \n",
       "80                       0.310                    0.458       0.528   \n",
       "81                       0.363                    0.452       0.305   \n",
       "82                       0.121                    0.121       0.080   \n",
       "83                       0.640                    0.688       0.654   \n",
       "84                       0.279                    0.289       0.247   \n",
       "\n",
       "    ESM1v_single  \n",
       "0          0.068  \n",
       "1          0.404  \n",
       "2          0.167  \n",
       "3          0.235  \n",
       "4          0.270  \n",
       "..           ...  \n",
       "80         0.351  \n",
       "81         0.309  \n",
       "82         0.051  \n",
       "83         0.662  \n",
       "84         0.237  \n",
       "\n",
       "[85 rows x 7 columns]"
      ]
     },
     "execution_count": 20,
     "metadata": {},
     "output_type": "execute_result"
    }
   ],
   "source": [
    "df"
   ]
  },
  {
   "cell_type": "code",
   "execution_count": 21,
   "metadata": {},
   "outputs": [
    {
     "data": {
      "application/vnd.plotly.v1+json": {
       "config": {
        "plotlyServerURL": "https://plot.ly"
       },
       "data": [
        {
         "alignmentgroup": "True",
         "box": {
          "visible": false
         },
         "hovertemplate": "Method=%{x}<br>Value=%{y}<extra></extra>",
         "legendgroup": "Ours",
         "marker": {
          "color": "#636efa"
         },
         "name": "Ours",
         "offsetgroup": "Ours",
         "orientation": "v",
         "points": false,
         "scalegroup": "True",
         "showlegend": true,
         "side": "positive",
         "type": "violin",
         "width": 1,
         "x": [
          "Ours",
          "Ours",
          "Ours",
          "Ours",
          "Ours",
          "Ours",
          "Ours",
          "Ours",
          "Ours",
          "Ours",
          "Ours",
          "Ours",
          "Ours",
          "Ours",
          "Ours",
          "Ours",
          "Ours",
          "Ours",
          "Ours",
          "Ours",
          "Ours",
          "Ours",
          "Ours",
          "Ours",
          "Ours",
          "Ours",
          "Ours",
          "Ours",
          "Ours",
          "Ours",
          "Ours",
          "Ours",
          "Ours",
          "Ours",
          "Ours",
          "Ours",
          "Ours",
          "Ours",
          "Ours",
          "Ours",
          "Ours",
          "Ours",
          "Ours",
          "Ours",
          "Ours",
          "Ours",
          "Ours",
          "Ours",
          "Ours",
          "Ours",
          "Ours",
          "Ours",
          "Ours",
          "Ours",
          "Ours",
          "Ours",
          "Ours",
          "Ours",
          "Ours",
          "Ours",
          "Ours",
          "Ours",
          "Ours",
          "Ours",
          "Ours",
          "Ours",
          "Ours",
          "Ours",
          "Ours",
          "Ours",
          "Ours",
          "Ours",
          "Ours",
          "Ours",
          "Ours",
          "Ours",
          "Ours",
          "Ours",
          "Ours",
          "Ours",
          "Ours",
          "Ours",
          "Ours",
          "Ours",
          "Ours"
         ],
         "x0": " ",
         "xaxis": "x",
         "y": [
          0.074,
          0.143,
          0.218,
          0.289,
          0.296,
          0.362,
          0.369,
          0.373,
          0.378,
          0.381,
          0.381,
          0.382,
          0.383,
          0.391,
          0.416,
          0.427,
          0.427,
          0.44,
          0.46,
          0.461,
          0.463,
          0.474,
          0.479,
          0.479,
          0.483,
          0.494,
          0.508,
          0.519,
          0.527,
          0.529,
          0.53,
          0.531,
          0.531,
          0.542,
          0.548,
          0.552,
          0.554,
          0.554,
          0.555,
          0.565,
          0.572,
          0.575,
          0.58,
          0.587,
          0.602,
          0.603,
          0.608,
          0.62,
          0.623,
          0.625,
          0.63,
          0.63,
          0.633,
          0.652,
          0.659,
          0.661,
          0.663,
          0.666,
          0.667,
          0.669,
          0.67,
          0.672,
          0.677,
          0.681,
          0.684,
          0.691,
          0.692,
          0.696,
          0.701,
          0.704,
          0.705,
          0.705,
          0.71,
          0.726,
          0.727,
          0.73,
          0.734,
          0.746,
          0.75,
          0.759,
          0.774,
          0.784,
          0.788,
          0.801,
          0.832
         ],
         "y0": " ",
         "yaxis": "y"
        },
        {
         "alignmentgroup": "True",
         "box": {
          "visible": false
         },
         "hovertemplate": "Method=%{x}<br>Value=%{y}<extra></extra>",
         "legendgroup": "Alpha-Missense",
         "marker": {
          "color": "#EF553B"
         },
         "name": "Alpha-Missense",
         "offsetgroup": "Alpha-Missense",
         "orientation": "v",
         "points": false,
         "scalegroup": "True",
         "showlegend": true,
         "side": "positive",
         "type": "violin",
         "width": 1,
         "x": [
          "Alpha-Missense",
          "Alpha-Missense",
          "Alpha-Missense",
          "Alpha-Missense",
          "Alpha-Missense",
          "Alpha-Missense",
          "Alpha-Missense",
          "Alpha-Missense",
          "Alpha-Missense",
          "Alpha-Missense",
          "Alpha-Missense",
          "Alpha-Missense",
          "Alpha-Missense",
          "Alpha-Missense",
          "Alpha-Missense",
          "Alpha-Missense",
          "Alpha-Missense",
          "Alpha-Missense",
          "Alpha-Missense",
          "Alpha-Missense",
          "Alpha-Missense",
          "Alpha-Missense",
          "Alpha-Missense",
          "Alpha-Missense",
          "Alpha-Missense",
          "Alpha-Missense",
          "Alpha-Missense",
          "Alpha-Missense",
          "Alpha-Missense",
          "Alpha-Missense",
          "Alpha-Missense",
          "Alpha-Missense",
          "Alpha-Missense",
          "Alpha-Missense",
          "Alpha-Missense",
          "Alpha-Missense",
          "Alpha-Missense",
          "Alpha-Missense",
          "Alpha-Missense",
          "Alpha-Missense",
          "Alpha-Missense",
          "Alpha-Missense",
          "Alpha-Missense",
          "Alpha-Missense",
          "Alpha-Missense",
          "Alpha-Missense",
          "Alpha-Missense",
          "Alpha-Missense",
          "Alpha-Missense",
          "Alpha-Missense",
          "Alpha-Missense",
          "Alpha-Missense",
          "Alpha-Missense",
          "Alpha-Missense",
          "Alpha-Missense",
          "Alpha-Missense",
          "Alpha-Missense",
          "Alpha-Missense",
          "Alpha-Missense",
          "Alpha-Missense",
          "Alpha-Missense",
          "Alpha-Missense",
          "Alpha-Missense",
          "Alpha-Missense",
          "Alpha-Missense",
          "Alpha-Missense",
          "Alpha-Missense",
          "Alpha-Missense",
          "Alpha-Missense",
          "Alpha-Missense",
          "Alpha-Missense",
          "Alpha-Missense",
          "Alpha-Missense",
          "Alpha-Missense",
          "Alpha-Missense",
          "Alpha-Missense",
          "Alpha-Missense",
          "Alpha-Missense",
          "Alpha-Missense",
          "Alpha-Missense",
          "Alpha-Missense",
          "Alpha-Missense",
          "Alpha-Missense",
          "Alpha-Missense",
          "Alpha-Missense"
         ],
         "x0": " ",
         "xaxis": "x",
         "y": [
          0.0802401075160408,
          0.5806200212629288,
          0.2191227501435648,
          0.1836108051431387,
          0.30368527490157,
          0.3445769112322158,
          0.4182954024530929,
          0.4505181797619582,
          0.4150250615185993,
          0.536148971068221,
          0.4969304233081572,
          0.539246823134548,
          0.4325992712602728,
          0.3654446721048526,
          0.4986229949547539,
          0.4949006334131868,
          0.3625861815670031,
          0.5373778661904163,
          0.5677306993244723,
          0.694925811860491,
          0.5377334947401656,
          0.5886282602815189,
          0.584715826831515,
          0.1996627364461767,
          0.2526150571230843,
          0.4602922568120447,
          0.5607593908077135,
          0.4835286590072852,
          0.43014930986357,
          0.5576300117796028,
          0.7045548471669476,
          0.3896022677002642,
          0.5435128446243891,
          0.4475469379573326,
          0.5025165505685956,
          0.6341094381210263,
          0.617439165961678,
          0.551699480906166,
          0.5614221344048748,
          0.5650762680251498,
          0.4713258236758643,
          0.5803696578446942,
          0.4688253755846746,
          0.7352730167964082,
          0.3517883186332384,
          0.5628495410447633,
          0.5700170016793253,
          0.5982776581959092,
          0.780098125492694,
          0.4346563359416529,
          0.7641901292666416,
          0.4803687713188464,
          0.3856493517344284,
          0.6623985443240489,
          0.6102449805772618,
          0.6484148954965274,
          0.5399103474446839,
          0.6364517423377265,
          0.5965991108636907,
          0.6134921466966755,
          0.7059001960328869,
          0.8131386988436397,
          0.4505143288237697,
          0.6709288612360055,
          0.651552762541071,
          0.7717277644991574,
          0.6038329601336795,
          0.5530908455422907,
          0.7719642473940604,
          0.4177547366250582,
          0.5449720174949133,
          0.8162059199200633,
          0.5137198095967725,
          0.6194783355154183,
          0.4953238358621771,
          0.4665296470894985,
          0.6168273937801945,
          0.6459467316528785,
          0.6197958456423037,
          0.6007859358920048,
          0.5109638954167716,
          0.4426370818375096,
          0.0533959139107653,
          0.750251570720492,
          0.4710565029735217
         ],
         "y0": " ",
         "yaxis": "y"
        },
        {
         "alignmentgroup": "True",
         "box": {
          "visible": false
         },
         "hovertemplate": "Method=%{x}<br>Value=%{y}<extra></extra>",
         "legendgroup": "Tranception_L_no_retrieval",
         "marker": {
          "color": "#00cc96"
         },
         "name": "Tranception_L_no_retrieval",
         "offsetgroup": "Tranception_L_no_retrieval",
         "orientation": "v",
         "points": false,
         "scalegroup": "True",
         "showlegend": true,
         "side": "positive",
         "type": "violin",
         "width": 1,
         "x": [
          "Tranception_L_no_retrieval",
          "Tranception_L_no_retrieval",
          "Tranception_L_no_retrieval",
          "Tranception_L_no_retrieval",
          "Tranception_L_no_retrieval",
          "Tranception_L_no_retrieval",
          "Tranception_L_no_retrieval",
          "Tranception_L_no_retrieval",
          "Tranception_L_no_retrieval",
          "Tranception_L_no_retrieval",
          "Tranception_L_no_retrieval",
          "Tranception_L_no_retrieval",
          "Tranception_L_no_retrieval",
          "Tranception_L_no_retrieval",
          "Tranception_L_no_retrieval",
          "Tranception_L_no_retrieval",
          "Tranception_L_no_retrieval",
          "Tranception_L_no_retrieval",
          "Tranception_L_no_retrieval",
          "Tranception_L_no_retrieval",
          "Tranception_L_no_retrieval",
          "Tranception_L_no_retrieval",
          "Tranception_L_no_retrieval",
          "Tranception_L_no_retrieval",
          "Tranception_L_no_retrieval",
          "Tranception_L_no_retrieval",
          "Tranception_L_no_retrieval",
          "Tranception_L_no_retrieval",
          "Tranception_L_no_retrieval",
          "Tranception_L_no_retrieval",
          "Tranception_L_no_retrieval",
          "Tranception_L_no_retrieval",
          "Tranception_L_no_retrieval",
          "Tranception_L_no_retrieval",
          "Tranception_L_no_retrieval",
          "Tranception_L_no_retrieval",
          "Tranception_L_no_retrieval",
          "Tranception_L_no_retrieval",
          "Tranception_L_no_retrieval",
          "Tranception_L_no_retrieval",
          "Tranception_L_no_retrieval",
          "Tranception_L_no_retrieval",
          "Tranception_L_no_retrieval",
          "Tranception_L_no_retrieval",
          "Tranception_L_no_retrieval",
          "Tranception_L_no_retrieval",
          "Tranception_L_no_retrieval",
          "Tranception_L_no_retrieval",
          "Tranception_L_no_retrieval",
          "Tranception_L_no_retrieval",
          "Tranception_L_no_retrieval",
          "Tranception_L_no_retrieval",
          "Tranception_L_no_retrieval",
          "Tranception_L_no_retrieval",
          "Tranception_L_no_retrieval",
          "Tranception_L_no_retrieval",
          "Tranception_L_no_retrieval",
          "Tranception_L_no_retrieval",
          "Tranception_L_no_retrieval",
          "Tranception_L_no_retrieval",
          "Tranception_L_no_retrieval",
          "Tranception_L_no_retrieval",
          "Tranception_L_no_retrieval",
          "Tranception_L_no_retrieval",
          "Tranception_L_no_retrieval",
          "Tranception_L_no_retrieval",
          "Tranception_L_no_retrieval",
          "Tranception_L_no_retrieval",
          "Tranception_L_no_retrieval",
          "Tranception_L_no_retrieval",
          "Tranception_L_no_retrieval",
          "Tranception_L_no_retrieval",
          "Tranception_L_no_retrieval",
          "Tranception_L_no_retrieval",
          "Tranception_L_no_retrieval",
          "Tranception_L_no_retrieval",
          "Tranception_L_no_retrieval",
          "Tranception_L_no_retrieval",
          "Tranception_L_no_retrieval",
          "Tranception_L_no_retrieval",
          "Tranception_L_no_retrieval",
          "Tranception_L_no_retrieval",
          "Tranception_L_no_retrieval",
          "Tranception_L_no_retrieval",
          "Tranception_L_no_retrieval"
         ],
         "x0": " ",
         "xaxis": "x",
         "y": [
          0.099,
          0.409,
          0.004,
          0.291,
          0.301,
          0.358,
          0.322,
          0.337,
          0.281,
          0.355,
          0.415,
          0.404,
          0.37,
          0.262,
          0.272,
          0.417,
          0.24,
          0.299,
          0.519,
          0.216,
          0.424,
          0.392,
          0.541,
          0.265,
          0.181,
          0.203,
          0.411,
          0.343,
          0.433,
          0.506,
          0.42,
          0.404,
          0.491,
          0.261,
          0.355,
          0.523,
          0.555,
          0.329,
          0.514,
          0.406,
          0.347,
          0.373,
          0.36,
          0.634,
          0.511,
          0.428,
          0.348,
          0.569,
          0.508,
          0.419,
          0.665,
          0.505,
          0.217,
          0.325,
          0.307,
          0.572,
          0.368,
          0.551,
          0.505,
          0.405,
          0.586,
          0.48,
          0.377,
          0.575,
          0.383,
          0.629,
          0.585,
          0.351,
          0.629,
          0.448,
          0.355,
          0.475,
          0.408,
          0.558,
          0.404,
          0.492,
          0.527,
          0.58,
          0.427,
          0.536,
          0.31,
          0.363,
          0.121,
          0.64,
          0.279
         ],
         "y0": " ",
         "yaxis": "y"
        },
        {
         "alignmentgroup": "True",
         "box": {
          "visible": false
         },
         "hovertemplate": "Method=%{x}<br>Value=%{y}<extra></extra>",
         "legendgroup": "Tranception_L_retrieval",
         "marker": {
          "color": "#ab63fa"
         },
         "name": "Tranception_L_retrieval",
         "offsetgroup": "Tranception_L_retrieval",
         "orientation": "v",
         "points": false,
         "scalegroup": "True",
         "showlegend": true,
         "side": "positive",
         "type": "violin",
         "width": 1,
         "x": [
          "Tranception_L_retrieval",
          "Tranception_L_retrieval",
          "Tranception_L_retrieval",
          "Tranception_L_retrieval",
          "Tranception_L_retrieval",
          "Tranception_L_retrieval",
          "Tranception_L_retrieval",
          "Tranception_L_retrieval",
          "Tranception_L_retrieval",
          "Tranception_L_retrieval",
          "Tranception_L_retrieval",
          "Tranception_L_retrieval",
          "Tranception_L_retrieval",
          "Tranception_L_retrieval",
          "Tranception_L_retrieval",
          "Tranception_L_retrieval",
          "Tranception_L_retrieval",
          "Tranception_L_retrieval",
          "Tranception_L_retrieval",
          "Tranception_L_retrieval",
          "Tranception_L_retrieval",
          "Tranception_L_retrieval",
          "Tranception_L_retrieval",
          "Tranception_L_retrieval",
          "Tranception_L_retrieval",
          "Tranception_L_retrieval",
          "Tranception_L_retrieval",
          "Tranception_L_retrieval",
          "Tranception_L_retrieval",
          "Tranception_L_retrieval",
          "Tranception_L_retrieval",
          "Tranception_L_retrieval",
          "Tranception_L_retrieval",
          "Tranception_L_retrieval",
          "Tranception_L_retrieval",
          "Tranception_L_retrieval",
          "Tranception_L_retrieval",
          "Tranception_L_retrieval",
          "Tranception_L_retrieval",
          "Tranception_L_retrieval",
          "Tranception_L_retrieval",
          "Tranception_L_retrieval",
          "Tranception_L_retrieval",
          "Tranception_L_retrieval",
          "Tranception_L_retrieval",
          "Tranception_L_retrieval",
          "Tranception_L_retrieval",
          "Tranception_L_retrieval",
          "Tranception_L_retrieval",
          "Tranception_L_retrieval",
          "Tranception_L_retrieval",
          "Tranception_L_retrieval",
          "Tranception_L_retrieval",
          "Tranception_L_retrieval",
          "Tranception_L_retrieval",
          "Tranception_L_retrieval",
          "Tranception_L_retrieval",
          "Tranception_L_retrieval",
          "Tranception_L_retrieval",
          "Tranception_L_retrieval",
          "Tranception_L_retrieval",
          "Tranception_L_retrieval",
          "Tranception_L_retrieval",
          "Tranception_L_retrieval",
          "Tranception_L_retrieval",
          "Tranception_L_retrieval",
          "Tranception_L_retrieval",
          "Tranception_L_retrieval",
          "Tranception_L_retrieval",
          "Tranception_L_retrieval",
          "Tranception_L_retrieval",
          "Tranception_L_retrieval",
          "Tranception_L_retrieval",
          "Tranception_L_retrieval",
          "Tranception_L_retrieval",
          "Tranception_L_retrieval",
          "Tranception_L_retrieval",
          "Tranception_L_retrieval",
          "Tranception_L_retrieval",
          "Tranception_L_retrieval",
          "Tranception_L_retrieval",
          "Tranception_L_retrieval",
          "Tranception_L_retrieval",
          "Tranception_L_retrieval",
          "Tranception_L_retrieval"
         ],
         "x0": " ",
         "xaxis": "x",
         "y": [
          0.057,
          0.514,
          0.093,
          0.266,
          0.305,
          0.362,
          0.346,
          0.348,
          0.346,
          0.413,
          0.424,
          0.393,
          0.401,
          0.39,
          0.351,
          0.466,
          0.236,
          0.418,
          0.541,
          0.401,
          0.532,
          0.433,
          0.572,
          0.278,
          0.159,
          0.237,
          0.478,
          0.412,
          0.425,
          0.533,
          0.564,
          0.407,
          0.53,
          0.326,
          0.4,
          0.537,
          0.527,
          0.41,
          0.513,
          0.501,
          0.423,
          0.473,
          0.379,
          0.657,
          0.538,
          0.475,
          0.492,
          0.624,
          0.647,
          0.451,
          0.638,
          0.548,
          0.359,
          0.557,
          0.443,
          0.638,
          0.398,
          0.621,
          0.528,
          0.438,
          0.588,
          0.637,
          0.45,
          0.604,
          0.367,
          0.672,
          0.616,
          0.408,
          0.652,
          0.438,
          0.317,
          0.629,
          0.433,
          0.591,
          0.436,
          0.473,
          0.495,
          0.667,
          0.449,
          0.547,
          0.458,
          0.452,
          0.121,
          0.688,
          0.289
         ],
         "y0": " ",
         "yaxis": "y"
        },
        {
         "alignmentgroup": "True",
         "box": {
          "visible": false
         },
         "hovertemplate": "Method=%{x}<br>Value=%{y}<extra></extra>",
         "legendgroup": "EVE_single",
         "marker": {
          "color": "#FFA15A"
         },
         "name": "EVE_single",
         "offsetgroup": "EVE_single",
         "orientation": "v",
         "points": false,
         "scalegroup": "True",
         "showlegend": true,
         "side": "positive",
         "type": "violin",
         "width": 1,
         "x": [
          "EVE_single",
          "EVE_single",
          "EVE_single",
          "EVE_single",
          "EVE_single",
          "EVE_single",
          "EVE_single",
          "EVE_single",
          "EVE_single",
          "EVE_single",
          "EVE_single",
          "EVE_single",
          "EVE_single",
          "EVE_single",
          "EVE_single",
          "EVE_single",
          "EVE_single",
          "EVE_single",
          "EVE_single",
          "EVE_single",
          "EVE_single",
          "EVE_single",
          "EVE_single",
          "EVE_single",
          "EVE_single",
          "EVE_single",
          "EVE_single",
          "EVE_single",
          "EVE_single",
          "EVE_single",
          "EVE_single",
          "EVE_single",
          "EVE_single",
          "EVE_single",
          "EVE_single",
          "EVE_single",
          "EVE_single",
          "EVE_single",
          "EVE_single",
          "EVE_single",
          "EVE_single",
          "EVE_single",
          "EVE_single",
          "EVE_single",
          "EVE_single",
          "EVE_single",
          "EVE_single",
          "EVE_single",
          "EVE_single",
          "EVE_single",
          "EVE_single",
          "EVE_single",
          "EVE_single",
          "EVE_single",
          "EVE_single",
          "EVE_single",
          "EVE_single",
          "EVE_single",
          "EVE_single",
          "EVE_single",
          "EVE_single",
          "EVE_single",
          "EVE_single",
          "EVE_single",
          "EVE_single",
          "EVE_single",
          "EVE_single",
          "EVE_single",
          "EVE_single",
          "EVE_single",
          "EVE_single",
          "EVE_single",
          "EVE_single",
          "EVE_single",
          "EVE_single",
          "EVE_single",
          "EVE_single",
          "EVE_single",
          "EVE_single",
          "EVE_single",
          "EVE_single",
          "EVE_single",
          "EVE_single",
          "EVE_single",
          "EVE_single"
         ],
         "x0": " ",
         "xaxis": "x",
         "y": [
          0.053,
          0.424,
          0.223,
          0.238,
          0.23,
          0.339,
          0.352,
          0.364,
          0.383,
          0.46,
          0.363,
          0.409,
          0.413,
          0.463,
          0.394,
          0.487,
          0.216,
          0.536,
          0.506,
          0.6,
          0.517,
          0.433,
          0.539,
          0.242,
          0.131,
          0.319,
          0.499,
          0.397,
          0.428,
          0.497,
          0.555,
          0.388,
          0.504,
          0.387,
          0.432,
          0.545,
          0.481,
          0.48,
          0.509,
          0.495,
          0.476,
          0.507,
          0.383,
          0.654,
          0.211,
          0.508,
          0.496,
          0.596,
          0.703,
          0.288,
          0.696,
          0.437,
          0.449,
          0.486,
          0.526,
          0.616,
          0.38,
          0.584,
          0.543,
          0.477,
          0.599,
          0.709,
          0.466,
          0.591,
          0.445,
          0.679,
          0.533,
          0.331,
          0.623,
          0.416,
          0.249,
          0.711,
          0.479,
          0.575,
          0.54,
          0.346,
          0.527,
          0.609,
          0.43,
          0.564,
          0.528,
          0.305,
          0.08,
          0.654,
          0.247
         ],
         "y0": " ",
         "yaxis": "y"
        },
        {
         "alignmentgroup": "True",
         "box": {
          "visible": false
         },
         "hovertemplate": "Method=%{x}<br>Value=%{y}<extra></extra>",
         "legendgroup": "ESM1v_single",
         "marker": {
          "color": "#19d3f3"
         },
         "name": "ESM1v_single",
         "offsetgroup": "ESM1v_single",
         "orientation": "v",
         "points": false,
         "scalegroup": "True",
         "showlegend": true,
         "side": "positive",
         "type": "violin",
         "width": 1,
         "x": [
          "ESM1v_single",
          "ESM1v_single",
          "ESM1v_single",
          "ESM1v_single",
          "ESM1v_single",
          "ESM1v_single",
          "ESM1v_single",
          "ESM1v_single",
          "ESM1v_single",
          "ESM1v_single",
          "ESM1v_single",
          "ESM1v_single",
          "ESM1v_single",
          "ESM1v_single",
          "ESM1v_single",
          "ESM1v_single",
          "ESM1v_single",
          "ESM1v_single",
          "ESM1v_single",
          "ESM1v_single",
          "ESM1v_single",
          "ESM1v_single",
          "ESM1v_single",
          "ESM1v_single",
          "ESM1v_single",
          "ESM1v_single",
          "ESM1v_single",
          "ESM1v_single",
          "ESM1v_single",
          "ESM1v_single",
          "ESM1v_single",
          "ESM1v_single",
          "ESM1v_single",
          "ESM1v_single",
          "ESM1v_single",
          "ESM1v_single",
          "ESM1v_single",
          "ESM1v_single",
          "ESM1v_single",
          "ESM1v_single",
          "ESM1v_single",
          "ESM1v_single",
          "ESM1v_single",
          "ESM1v_single",
          "ESM1v_single",
          "ESM1v_single",
          "ESM1v_single",
          "ESM1v_single",
          "ESM1v_single",
          "ESM1v_single",
          "ESM1v_single",
          "ESM1v_single",
          "ESM1v_single",
          "ESM1v_single",
          "ESM1v_single",
          "ESM1v_single",
          "ESM1v_single",
          "ESM1v_single",
          "ESM1v_single",
          "ESM1v_single",
          "ESM1v_single",
          "ESM1v_single",
          "ESM1v_single",
          "ESM1v_single",
          "ESM1v_single",
          "ESM1v_single",
          "ESM1v_single",
          "ESM1v_single",
          "ESM1v_single",
          "ESM1v_single",
          "ESM1v_single",
          "ESM1v_single",
          "ESM1v_single",
          "ESM1v_single",
          "ESM1v_single",
          "ESM1v_single",
          "ESM1v_single",
          "ESM1v_single",
          "ESM1v_single",
          "ESM1v_single",
          "ESM1v_single",
          "ESM1v_single",
          "ESM1v_single",
          "ESM1v_single",
          "ESM1v_single"
         ],
         "x0": " ",
         "xaxis": "x",
         "y": [
          0.068,
          0.404,
          0.167,
          0.235,
          0.27,
          0.32,
          0.351,
          0.018,
          0.38,
          -0.059,
          0.019,
          0.026,
          0.427,
          0.447,
          -0.052,
          0.483,
          0.245,
          0.469,
          0.461,
          -0.03,
          0.435,
          0.428,
          0.054,
          0.272,
          0.242,
          0.343,
          0.517,
          0.409,
          0.382,
          0.526,
          0.538,
          0.415,
          0.531,
          0.305,
          0.457,
          0.516,
          0.537,
          0.467,
          0.492,
          0.509,
          0.416,
          0.501,
          0.447,
          0.519,
          0.244,
          0.477,
          0.561,
          0.588,
          0.656,
          0.368,
          0.692,
          0.447,
          0.28,
          0.458,
          0.557,
          0.642,
          0.285,
          0.162,
          0.547,
          0.613,
          0.597,
          0.665,
          0.36,
          0.6,
          -0.023,
          0.098,
          0.411,
          0.24,
          0.647,
          0.478,
          -0.064,
          0.668,
          0.496,
          0.611,
          0.455,
          0.196,
          0.54,
          0.55,
          0.307,
          0.552,
          0.351,
          0.309,
          0.051,
          0.662,
          0.237
         ],
         "y0": " ",
         "yaxis": "y"
        }
       ],
       "layout": {
        "height": 500,
        "legend": {
         "title": {
          "text": "Method"
         },
         "tracegroupgap": 0
        },
        "margin": {
         "t": 60
        },
        "template": {
         "data": {
          "bar": [
           {
            "error_x": {
             "color": "#2a3f5f"
            },
            "error_y": {
             "color": "#2a3f5f"
            },
            "marker": {
             "line": {
              "color": "#E5ECF6",
              "width": 0.5
             },
             "pattern": {
              "fillmode": "overlay",
              "size": 10,
              "solidity": 0.2
             }
            },
            "type": "bar"
           }
          ],
          "barpolar": [
           {
            "marker": {
             "line": {
              "color": "#E5ECF6",
              "width": 0.5
             },
             "pattern": {
              "fillmode": "overlay",
              "size": 10,
              "solidity": 0.2
             }
            },
            "type": "barpolar"
           }
          ],
          "carpet": [
           {
            "aaxis": {
             "endlinecolor": "#2a3f5f",
             "gridcolor": "white",
             "linecolor": "white",
             "minorgridcolor": "white",
             "startlinecolor": "#2a3f5f"
            },
            "baxis": {
             "endlinecolor": "#2a3f5f",
             "gridcolor": "white",
             "linecolor": "white",
             "minorgridcolor": "white",
             "startlinecolor": "#2a3f5f"
            },
            "type": "carpet"
           }
          ],
          "choropleth": [
           {
            "colorbar": {
             "outlinewidth": 0,
             "ticks": ""
            },
            "type": "choropleth"
           }
          ],
          "contour": [
           {
            "colorbar": {
             "outlinewidth": 0,
             "ticks": ""
            },
            "colorscale": [
             [
              0,
              "#0d0887"
             ],
             [
              0.1111111111111111,
              "#46039f"
             ],
             [
              0.2222222222222222,
              "#7201a8"
             ],
             [
              0.3333333333333333,
              "#9c179e"
             ],
             [
              0.4444444444444444,
              "#bd3786"
             ],
             [
              0.5555555555555556,
              "#d8576b"
             ],
             [
              0.6666666666666666,
              "#ed7953"
             ],
             [
              0.7777777777777778,
              "#fb9f3a"
             ],
             [
              0.8888888888888888,
              "#fdca26"
             ],
             [
              1,
              "#f0f921"
             ]
            ],
            "type": "contour"
           }
          ],
          "contourcarpet": [
           {
            "colorbar": {
             "outlinewidth": 0,
             "ticks": ""
            },
            "type": "contourcarpet"
           }
          ],
          "heatmap": [
           {
            "colorbar": {
             "outlinewidth": 0,
             "ticks": ""
            },
            "colorscale": [
             [
              0,
              "#0d0887"
             ],
             [
              0.1111111111111111,
              "#46039f"
             ],
             [
              0.2222222222222222,
              "#7201a8"
             ],
             [
              0.3333333333333333,
              "#9c179e"
             ],
             [
              0.4444444444444444,
              "#bd3786"
             ],
             [
              0.5555555555555556,
              "#d8576b"
             ],
             [
              0.6666666666666666,
              "#ed7953"
             ],
             [
              0.7777777777777778,
              "#fb9f3a"
             ],
             [
              0.8888888888888888,
              "#fdca26"
             ],
             [
              1,
              "#f0f921"
             ]
            ],
            "type": "heatmap"
           }
          ],
          "heatmapgl": [
           {
            "colorbar": {
             "outlinewidth": 0,
             "ticks": ""
            },
            "colorscale": [
             [
              0,
              "#0d0887"
             ],
             [
              0.1111111111111111,
              "#46039f"
             ],
             [
              0.2222222222222222,
              "#7201a8"
             ],
             [
              0.3333333333333333,
              "#9c179e"
             ],
             [
              0.4444444444444444,
              "#bd3786"
             ],
             [
              0.5555555555555556,
              "#d8576b"
             ],
             [
              0.6666666666666666,
              "#ed7953"
             ],
             [
              0.7777777777777778,
              "#fb9f3a"
             ],
             [
              0.8888888888888888,
              "#fdca26"
             ],
             [
              1,
              "#f0f921"
             ]
            ],
            "type": "heatmapgl"
           }
          ],
          "histogram": [
           {
            "marker": {
             "pattern": {
              "fillmode": "overlay",
              "size": 10,
              "solidity": 0.2
             }
            },
            "type": "histogram"
           }
          ],
          "histogram2d": [
           {
            "colorbar": {
             "outlinewidth": 0,
             "ticks": ""
            },
            "colorscale": [
             [
              0,
              "#0d0887"
             ],
             [
              0.1111111111111111,
              "#46039f"
             ],
             [
              0.2222222222222222,
              "#7201a8"
             ],
             [
              0.3333333333333333,
              "#9c179e"
             ],
             [
              0.4444444444444444,
              "#bd3786"
             ],
             [
              0.5555555555555556,
              "#d8576b"
             ],
             [
              0.6666666666666666,
              "#ed7953"
             ],
             [
              0.7777777777777778,
              "#fb9f3a"
             ],
             [
              0.8888888888888888,
              "#fdca26"
             ],
             [
              1,
              "#f0f921"
             ]
            ],
            "type": "histogram2d"
           }
          ],
          "histogram2dcontour": [
           {
            "colorbar": {
             "outlinewidth": 0,
             "ticks": ""
            },
            "colorscale": [
             [
              0,
              "#0d0887"
             ],
             [
              0.1111111111111111,
              "#46039f"
             ],
             [
              0.2222222222222222,
              "#7201a8"
             ],
             [
              0.3333333333333333,
              "#9c179e"
             ],
             [
              0.4444444444444444,
              "#bd3786"
             ],
             [
              0.5555555555555556,
              "#d8576b"
             ],
             [
              0.6666666666666666,
              "#ed7953"
             ],
             [
              0.7777777777777778,
              "#fb9f3a"
             ],
             [
              0.8888888888888888,
              "#fdca26"
             ],
             [
              1,
              "#f0f921"
             ]
            ],
            "type": "histogram2dcontour"
           }
          ],
          "mesh3d": [
           {
            "colorbar": {
             "outlinewidth": 0,
             "ticks": ""
            },
            "type": "mesh3d"
           }
          ],
          "parcoords": [
           {
            "line": {
             "colorbar": {
              "outlinewidth": 0,
              "ticks": ""
             }
            },
            "type": "parcoords"
           }
          ],
          "pie": [
           {
            "automargin": true,
            "type": "pie"
           }
          ],
          "scatter": [
           {
            "fillpattern": {
             "fillmode": "overlay",
             "size": 10,
             "solidity": 0.2
            },
            "type": "scatter"
           }
          ],
          "scatter3d": [
           {
            "line": {
             "colorbar": {
              "outlinewidth": 0,
              "ticks": ""
             }
            },
            "marker": {
             "colorbar": {
              "outlinewidth": 0,
              "ticks": ""
             }
            },
            "type": "scatter3d"
           }
          ],
          "scattercarpet": [
           {
            "marker": {
             "colorbar": {
              "outlinewidth": 0,
              "ticks": ""
             }
            },
            "type": "scattercarpet"
           }
          ],
          "scattergeo": [
           {
            "marker": {
             "colorbar": {
              "outlinewidth": 0,
              "ticks": ""
             }
            },
            "type": "scattergeo"
           }
          ],
          "scattergl": [
           {
            "marker": {
             "colorbar": {
              "outlinewidth": 0,
              "ticks": ""
             }
            },
            "type": "scattergl"
           }
          ],
          "scattermapbox": [
           {
            "marker": {
             "colorbar": {
              "outlinewidth": 0,
              "ticks": ""
             }
            },
            "type": "scattermapbox"
           }
          ],
          "scatterpolar": [
           {
            "marker": {
             "colorbar": {
              "outlinewidth": 0,
              "ticks": ""
             }
            },
            "type": "scatterpolar"
           }
          ],
          "scatterpolargl": [
           {
            "marker": {
             "colorbar": {
              "outlinewidth": 0,
              "ticks": ""
             }
            },
            "type": "scatterpolargl"
           }
          ],
          "scatterternary": [
           {
            "marker": {
             "colorbar": {
              "outlinewidth": 0,
              "ticks": ""
             }
            },
            "type": "scatterternary"
           }
          ],
          "surface": [
           {
            "colorbar": {
             "outlinewidth": 0,
             "ticks": ""
            },
            "colorscale": [
             [
              0,
              "#0d0887"
             ],
             [
              0.1111111111111111,
              "#46039f"
             ],
             [
              0.2222222222222222,
              "#7201a8"
             ],
             [
              0.3333333333333333,
              "#9c179e"
             ],
             [
              0.4444444444444444,
              "#bd3786"
             ],
             [
              0.5555555555555556,
              "#d8576b"
             ],
             [
              0.6666666666666666,
              "#ed7953"
             ],
             [
              0.7777777777777778,
              "#fb9f3a"
             ],
             [
              0.8888888888888888,
              "#fdca26"
             ],
             [
              1,
              "#f0f921"
             ]
            ],
            "type": "surface"
           }
          ],
          "table": [
           {
            "cells": {
             "fill": {
              "color": "#EBF0F8"
             },
             "line": {
              "color": "white"
             }
            },
            "header": {
             "fill": {
              "color": "#C8D4E3"
             },
             "line": {
              "color": "white"
             }
            },
            "type": "table"
           }
          ]
         },
         "layout": {
          "annotationdefaults": {
           "arrowcolor": "#2a3f5f",
           "arrowhead": 0,
           "arrowwidth": 1
          },
          "autotypenumbers": "strict",
          "coloraxis": {
           "colorbar": {
            "outlinewidth": 0,
            "ticks": ""
           }
          },
          "colorscale": {
           "diverging": [
            [
             0,
             "#8e0152"
            ],
            [
             0.1,
             "#c51b7d"
            ],
            [
             0.2,
             "#de77ae"
            ],
            [
             0.3,
             "#f1b6da"
            ],
            [
             0.4,
             "#fde0ef"
            ],
            [
             0.5,
             "#f7f7f7"
            ],
            [
             0.6,
             "#e6f5d0"
            ],
            [
             0.7,
             "#b8e186"
            ],
            [
             0.8,
             "#7fbc41"
            ],
            [
             0.9,
             "#4d9221"
            ],
            [
             1,
             "#276419"
            ]
           ],
           "sequential": [
            [
             0,
             "#0d0887"
            ],
            [
             0.1111111111111111,
             "#46039f"
            ],
            [
             0.2222222222222222,
             "#7201a8"
            ],
            [
             0.3333333333333333,
             "#9c179e"
            ],
            [
             0.4444444444444444,
             "#bd3786"
            ],
            [
             0.5555555555555556,
             "#d8576b"
            ],
            [
             0.6666666666666666,
             "#ed7953"
            ],
            [
             0.7777777777777778,
             "#fb9f3a"
            ],
            [
             0.8888888888888888,
             "#fdca26"
            ],
            [
             1,
             "#f0f921"
            ]
           ],
           "sequentialminus": [
            [
             0,
             "#0d0887"
            ],
            [
             0.1111111111111111,
             "#46039f"
            ],
            [
             0.2222222222222222,
             "#7201a8"
            ],
            [
             0.3333333333333333,
             "#9c179e"
            ],
            [
             0.4444444444444444,
             "#bd3786"
            ],
            [
             0.5555555555555556,
             "#d8576b"
            ],
            [
             0.6666666666666666,
             "#ed7953"
            ],
            [
             0.7777777777777778,
             "#fb9f3a"
            ],
            [
             0.8888888888888888,
             "#fdca26"
            ],
            [
             1,
             "#f0f921"
            ]
           ]
          },
          "colorway": [
           "#636efa",
           "#EF553B",
           "#00cc96",
           "#ab63fa",
           "#FFA15A",
           "#19d3f3",
           "#FF6692",
           "#B6E880",
           "#FF97FF",
           "#FECB52"
          ],
          "font": {
           "color": "#2a3f5f"
          },
          "geo": {
           "bgcolor": "white",
           "lakecolor": "white",
           "landcolor": "#E5ECF6",
           "showlakes": true,
           "showland": true,
           "subunitcolor": "white"
          },
          "hoverlabel": {
           "align": "left"
          },
          "hovermode": "closest",
          "mapbox": {
           "style": "light"
          },
          "paper_bgcolor": "white",
          "plot_bgcolor": "#E5ECF6",
          "polar": {
           "angularaxis": {
            "gridcolor": "white",
            "linecolor": "white",
            "ticks": ""
           },
           "bgcolor": "#E5ECF6",
           "radialaxis": {
            "gridcolor": "white",
            "linecolor": "white",
            "ticks": ""
           }
          },
          "scene": {
           "xaxis": {
            "backgroundcolor": "#E5ECF6",
            "gridcolor": "white",
            "gridwidth": 2,
            "linecolor": "white",
            "showbackground": true,
            "ticks": "",
            "zerolinecolor": "white"
           },
           "yaxis": {
            "backgroundcolor": "#E5ECF6",
            "gridcolor": "white",
            "gridwidth": 2,
            "linecolor": "white",
            "showbackground": true,
            "ticks": "",
            "zerolinecolor": "white"
           },
           "zaxis": {
            "backgroundcolor": "#E5ECF6",
            "gridcolor": "white",
            "gridwidth": 2,
            "linecolor": "white",
            "showbackground": true,
            "ticks": "",
            "zerolinecolor": "white"
           }
          },
          "shapedefaults": {
           "line": {
            "color": "#2a3f5f"
           }
          },
          "ternary": {
           "aaxis": {
            "gridcolor": "white",
            "linecolor": "white",
            "ticks": ""
           },
           "baxis": {
            "gridcolor": "white",
            "linecolor": "white",
            "ticks": ""
           },
           "bgcolor": "#E5ECF6",
           "caxis": {
            "gridcolor": "white",
            "linecolor": "white",
            "ticks": ""
           }
          },
          "title": {
           "x": 0.05
          },
          "xaxis": {
           "automargin": true,
           "gridcolor": "white",
           "linecolor": "white",
           "ticks": "",
           "title": {
            "standoff": 15
           },
           "zerolinecolor": "white",
           "zerolinewidth": 2
          },
          "yaxis": {
           "automargin": true,
           "gridcolor": "white",
           "linecolor": "white",
           "ticks": "",
           "title": {
            "standoff": 15
           },
           "zerolinecolor": "white",
           "zerolinewidth": 2
          }
         }
        },
        "violinmode": "overlay",
        "width": 600,
        "xaxis": {
         "anchor": "y",
         "categoryarray": [
          "Ours",
          "Alpha-Missense",
          "Tranception_L_no_retrieval",
          "Tranception_L_retrieval",
          "EVE_single",
          "ESM1v_single"
         ],
         "categoryorder": "array",
         "domain": [
          0,
          1
         ],
         "showgrid": false,
         "title": {
          "text": "Method"
         },
         "zeroline": false
        },
        "yaxis": {
         "anchor": "x",
         "domain": [
          0,
          1
         ],
         "title": {
          "text": "Correlation"
         }
        }
       }
      },
      "text/html": [
       "<div>                            <div id=\"02b5bde2-860f-4d51-99ac-f949e829fd85\" class=\"plotly-graph-div\" style=\"height:500px; width:600px;\"></div>            <script type=\"text/javascript\">                require([\"plotly\"], function(Plotly) {                    window.PLOTLYENV=window.PLOTLYENV || {};                                    if (document.getElementById(\"02b5bde2-860f-4d51-99ac-f949e829fd85\")) {                    Plotly.newPlot(                        \"02b5bde2-860f-4d51-99ac-f949e829fd85\",                        [{\"alignmentgroup\":\"True\",\"box\":{\"visible\":false},\"hovertemplate\":\"Method=%{x}\\u003cbr\\u003eValue=%{y}\\u003cextra\\u003e\\u003c\\u002fextra\\u003e\",\"legendgroup\":\"Ours\",\"marker\":{\"color\":\"#636efa\"},\"name\":\"Ours\",\"offsetgroup\":\"Ours\",\"orientation\":\"v\",\"points\":false,\"scalegroup\":\"True\",\"showlegend\":true,\"x\":[\"Ours\",\"Ours\",\"Ours\",\"Ours\",\"Ours\",\"Ours\",\"Ours\",\"Ours\",\"Ours\",\"Ours\",\"Ours\",\"Ours\",\"Ours\",\"Ours\",\"Ours\",\"Ours\",\"Ours\",\"Ours\",\"Ours\",\"Ours\",\"Ours\",\"Ours\",\"Ours\",\"Ours\",\"Ours\",\"Ours\",\"Ours\",\"Ours\",\"Ours\",\"Ours\",\"Ours\",\"Ours\",\"Ours\",\"Ours\",\"Ours\",\"Ours\",\"Ours\",\"Ours\",\"Ours\",\"Ours\",\"Ours\",\"Ours\",\"Ours\",\"Ours\",\"Ours\",\"Ours\",\"Ours\",\"Ours\",\"Ours\",\"Ours\",\"Ours\",\"Ours\",\"Ours\",\"Ours\",\"Ours\",\"Ours\",\"Ours\",\"Ours\",\"Ours\",\"Ours\",\"Ours\",\"Ours\",\"Ours\",\"Ours\",\"Ours\",\"Ours\",\"Ours\",\"Ours\",\"Ours\",\"Ours\",\"Ours\",\"Ours\",\"Ours\",\"Ours\",\"Ours\",\"Ours\",\"Ours\",\"Ours\",\"Ours\",\"Ours\",\"Ours\",\"Ours\",\"Ours\",\"Ours\",\"Ours\"],\"x0\":\" \",\"xaxis\":\"x\",\"y\":[0.074,0.143,0.218,0.289,0.296,0.362,0.369,0.373,0.378,0.381,0.381,0.382,0.383,0.391,0.416,0.427,0.427,0.44,0.46,0.461,0.463,0.474,0.479,0.479,0.483,0.494,0.508,0.519,0.527,0.529,0.53,0.531,0.531,0.542,0.548,0.552,0.554,0.554,0.555,0.565,0.572,0.575,0.58,0.587,0.602,0.603,0.608,0.62,0.623,0.625,0.63,0.63,0.633,0.652,0.659,0.661,0.663,0.666,0.667,0.669,0.67,0.672,0.677,0.681,0.684,0.691,0.692,0.696,0.701,0.704,0.705,0.705,0.71,0.726,0.727,0.73,0.734,0.746,0.75,0.759,0.774,0.784,0.788,0.801,0.832],\"y0\":\" \",\"yaxis\":\"y\",\"type\":\"violin\",\"side\":\"positive\",\"width\":1},{\"alignmentgroup\":\"True\",\"box\":{\"visible\":false},\"hovertemplate\":\"Method=%{x}\\u003cbr\\u003eValue=%{y}\\u003cextra\\u003e\\u003c\\u002fextra\\u003e\",\"legendgroup\":\"Alpha-Missense\",\"marker\":{\"color\":\"#EF553B\"},\"name\":\"Alpha-Missense\",\"offsetgroup\":\"Alpha-Missense\",\"orientation\":\"v\",\"points\":false,\"scalegroup\":\"True\",\"showlegend\":true,\"x\":[\"Alpha-Missense\",\"Alpha-Missense\",\"Alpha-Missense\",\"Alpha-Missense\",\"Alpha-Missense\",\"Alpha-Missense\",\"Alpha-Missense\",\"Alpha-Missense\",\"Alpha-Missense\",\"Alpha-Missense\",\"Alpha-Missense\",\"Alpha-Missense\",\"Alpha-Missense\",\"Alpha-Missense\",\"Alpha-Missense\",\"Alpha-Missense\",\"Alpha-Missense\",\"Alpha-Missense\",\"Alpha-Missense\",\"Alpha-Missense\",\"Alpha-Missense\",\"Alpha-Missense\",\"Alpha-Missense\",\"Alpha-Missense\",\"Alpha-Missense\",\"Alpha-Missense\",\"Alpha-Missense\",\"Alpha-Missense\",\"Alpha-Missense\",\"Alpha-Missense\",\"Alpha-Missense\",\"Alpha-Missense\",\"Alpha-Missense\",\"Alpha-Missense\",\"Alpha-Missense\",\"Alpha-Missense\",\"Alpha-Missense\",\"Alpha-Missense\",\"Alpha-Missense\",\"Alpha-Missense\",\"Alpha-Missense\",\"Alpha-Missense\",\"Alpha-Missense\",\"Alpha-Missense\",\"Alpha-Missense\",\"Alpha-Missense\",\"Alpha-Missense\",\"Alpha-Missense\",\"Alpha-Missense\",\"Alpha-Missense\",\"Alpha-Missense\",\"Alpha-Missense\",\"Alpha-Missense\",\"Alpha-Missense\",\"Alpha-Missense\",\"Alpha-Missense\",\"Alpha-Missense\",\"Alpha-Missense\",\"Alpha-Missense\",\"Alpha-Missense\",\"Alpha-Missense\",\"Alpha-Missense\",\"Alpha-Missense\",\"Alpha-Missense\",\"Alpha-Missense\",\"Alpha-Missense\",\"Alpha-Missense\",\"Alpha-Missense\",\"Alpha-Missense\",\"Alpha-Missense\",\"Alpha-Missense\",\"Alpha-Missense\",\"Alpha-Missense\",\"Alpha-Missense\",\"Alpha-Missense\",\"Alpha-Missense\",\"Alpha-Missense\",\"Alpha-Missense\",\"Alpha-Missense\",\"Alpha-Missense\",\"Alpha-Missense\",\"Alpha-Missense\",\"Alpha-Missense\",\"Alpha-Missense\",\"Alpha-Missense\"],\"x0\":\" \",\"xaxis\":\"x\",\"y\":[0.0802401075160408,0.5806200212629288,0.2191227501435648,0.1836108051431387,0.30368527490157,0.3445769112322158,0.4182954024530929,0.4505181797619582,0.4150250615185993,0.536148971068221,0.4969304233081572,0.539246823134548,0.4325992712602728,0.3654446721048526,0.4986229949547539,0.4949006334131868,0.3625861815670031,0.5373778661904163,0.5677306993244723,0.694925811860491,0.5377334947401656,0.5886282602815189,0.584715826831515,0.1996627364461767,0.2526150571230843,0.4602922568120447,0.5607593908077135,0.4835286590072852,0.43014930986357,0.5576300117796028,0.7045548471669476,0.3896022677002642,0.5435128446243891,0.4475469379573326,0.5025165505685956,0.6341094381210263,0.617439165961678,0.551699480906166,0.5614221344048748,0.5650762680251498,0.4713258236758643,0.5803696578446942,0.4688253755846746,0.7352730167964082,0.3517883186332384,0.5628495410447633,0.5700170016793253,0.5982776581959092,0.780098125492694,0.4346563359416529,0.7641901292666416,0.4803687713188464,0.3856493517344284,0.6623985443240489,0.6102449805772618,0.6484148954965274,0.5399103474446839,0.6364517423377265,0.5965991108636907,0.6134921466966755,0.7059001960328869,0.8131386988436397,0.4505143288237697,0.6709288612360055,0.651552762541071,0.7717277644991574,0.6038329601336795,0.5530908455422907,0.7719642473940604,0.4177547366250582,0.5449720174949133,0.8162059199200633,0.5137198095967725,0.6194783355154183,0.4953238358621771,0.4665296470894985,0.6168273937801945,0.6459467316528785,0.6197958456423037,0.6007859358920048,0.5109638954167716,0.4426370818375096,0.0533959139107653,0.750251570720492,0.4710565029735217],\"y0\":\" \",\"yaxis\":\"y\",\"type\":\"violin\",\"side\":\"positive\",\"width\":1},{\"alignmentgroup\":\"True\",\"box\":{\"visible\":false},\"hovertemplate\":\"Method=%{x}\\u003cbr\\u003eValue=%{y}\\u003cextra\\u003e\\u003c\\u002fextra\\u003e\",\"legendgroup\":\"Tranception_L_no_retrieval\",\"marker\":{\"color\":\"#00cc96\"},\"name\":\"Tranception_L_no_retrieval\",\"offsetgroup\":\"Tranception_L_no_retrieval\",\"orientation\":\"v\",\"points\":false,\"scalegroup\":\"True\",\"showlegend\":true,\"x\":[\"Tranception_L_no_retrieval\",\"Tranception_L_no_retrieval\",\"Tranception_L_no_retrieval\",\"Tranception_L_no_retrieval\",\"Tranception_L_no_retrieval\",\"Tranception_L_no_retrieval\",\"Tranception_L_no_retrieval\",\"Tranception_L_no_retrieval\",\"Tranception_L_no_retrieval\",\"Tranception_L_no_retrieval\",\"Tranception_L_no_retrieval\",\"Tranception_L_no_retrieval\",\"Tranception_L_no_retrieval\",\"Tranception_L_no_retrieval\",\"Tranception_L_no_retrieval\",\"Tranception_L_no_retrieval\",\"Tranception_L_no_retrieval\",\"Tranception_L_no_retrieval\",\"Tranception_L_no_retrieval\",\"Tranception_L_no_retrieval\",\"Tranception_L_no_retrieval\",\"Tranception_L_no_retrieval\",\"Tranception_L_no_retrieval\",\"Tranception_L_no_retrieval\",\"Tranception_L_no_retrieval\",\"Tranception_L_no_retrieval\",\"Tranception_L_no_retrieval\",\"Tranception_L_no_retrieval\",\"Tranception_L_no_retrieval\",\"Tranception_L_no_retrieval\",\"Tranception_L_no_retrieval\",\"Tranception_L_no_retrieval\",\"Tranception_L_no_retrieval\",\"Tranception_L_no_retrieval\",\"Tranception_L_no_retrieval\",\"Tranception_L_no_retrieval\",\"Tranception_L_no_retrieval\",\"Tranception_L_no_retrieval\",\"Tranception_L_no_retrieval\",\"Tranception_L_no_retrieval\",\"Tranception_L_no_retrieval\",\"Tranception_L_no_retrieval\",\"Tranception_L_no_retrieval\",\"Tranception_L_no_retrieval\",\"Tranception_L_no_retrieval\",\"Tranception_L_no_retrieval\",\"Tranception_L_no_retrieval\",\"Tranception_L_no_retrieval\",\"Tranception_L_no_retrieval\",\"Tranception_L_no_retrieval\",\"Tranception_L_no_retrieval\",\"Tranception_L_no_retrieval\",\"Tranception_L_no_retrieval\",\"Tranception_L_no_retrieval\",\"Tranception_L_no_retrieval\",\"Tranception_L_no_retrieval\",\"Tranception_L_no_retrieval\",\"Tranception_L_no_retrieval\",\"Tranception_L_no_retrieval\",\"Tranception_L_no_retrieval\",\"Tranception_L_no_retrieval\",\"Tranception_L_no_retrieval\",\"Tranception_L_no_retrieval\",\"Tranception_L_no_retrieval\",\"Tranception_L_no_retrieval\",\"Tranception_L_no_retrieval\",\"Tranception_L_no_retrieval\",\"Tranception_L_no_retrieval\",\"Tranception_L_no_retrieval\",\"Tranception_L_no_retrieval\",\"Tranception_L_no_retrieval\",\"Tranception_L_no_retrieval\",\"Tranception_L_no_retrieval\",\"Tranception_L_no_retrieval\",\"Tranception_L_no_retrieval\",\"Tranception_L_no_retrieval\",\"Tranception_L_no_retrieval\",\"Tranception_L_no_retrieval\",\"Tranception_L_no_retrieval\",\"Tranception_L_no_retrieval\",\"Tranception_L_no_retrieval\",\"Tranception_L_no_retrieval\",\"Tranception_L_no_retrieval\",\"Tranception_L_no_retrieval\",\"Tranception_L_no_retrieval\"],\"x0\":\" \",\"xaxis\":\"x\",\"y\":[0.099,0.409,0.004,0.291,0.301,0.358,0.322,0.337,0.281,0.355,0.415,0.404,0.37,0.262,0.272,0.417,0.24,0.299,0.519,0.216,0.424,0.392,0.541,0.265,0.181,0.203,0.411,0.343,0.433,0.506,0.42,0.404,0.491,0.261,0.355,0.523,0.555,0.329,0.514,0.406,0.347,0.373,0.36,0.634,0.511,0.428,0.348,0.569,0.508,0.419,0.665,0.505,0.217,0.325,0.307,0.572,0.368,0.551,0.505,0.405,0.586,0.48,0.377,0.575,0.383,0.629,0.585,0.351,0.629,0.448,0.355,0.475,0.408,0.558,0.404,0.492,0.527,0.58,0.427,0.536,0.31,0.363,0.121,0.64,0.279],\"y0\":\" \",\"yaxis\":\"y\",\"type\":\"violin\",\"side\":\"positive\",\"width\":1},{\"alignmentgroup\":\"True\",\"box\":{\"visible\":false},\"hovertemplate\":\"Method=%{x}\\u003cbr\\u003eValue=%{y}\\u003cextra\\u003e\\u003c\\u002fextra\\u003e\",\"legendgroup\":\"Tranception_L_retrieval\",\"marker\":{\"color\":\"#ab63fa\"},\"name\":\"Tranception_L_retrieval\",\"offsetgroup\":\"Tranception_L_retrieval\",\"orientation\":\"v\",\"points\":false,\"scalegroup\":\"True\",\"showlegend\":true,\"x\":[\"Tranception_L_retrieval\",\"Tranception_L_retrieval\",\"Tranception_L_retrieval\",\"Tranception_L_retrieval\",\"Tranception_L_retrieval\",\"Tranception_L_retrieval\",\"Tranception_L_retrieval\",\"Tranception_L_retrieval\",\"Tranception_L_retrieval\",\"Tranception_L_retrieval\",\"Tranception_L_retrieval\",\"Tranception_L_retrieval\",\"Tranception_L_retrieval\",\"Tranception_L_retrieval\",\"Tranception_L_retrieval\",\"Tranception_L_retrieval\",\"Tranception_L_retrieval\",\"Tranception_L_retrieval\",\"Tranception_L_retrieval\",\"Tranception_L_retrieval\",\"Tranception_L_retrieval\",\"Tranception_L_retrieval\",\"Tranception_L_retrieval\",\"Tranception_L_retrieval\",\"Tranception_L_retrieval\",\"Tranception_L_retrieval\",\"Tranception_L_retrieval\",\"Tranception_L_retrieval\",\"Tranception_L_retrieval\",\"Tranception_L_retrieval\",\"Tranception_L_retrieval\",\"Tranception_L_retrieval\",\"Tranception_L_retrieval\",\"Tranception_L_retrieval\",\"Tranception_L_retrieval\",\"Tranception_L_retrieval\",\"Tranception_L_retrieval\",\"Tranception_L_retrieval\",\"Tranception_L_retrieval\",\"Tranception_L_retrieval\",\"Tranception_L_retrieval\",\"Tranception_L_retrieval\",\"Tranception_L_retrieval\",\"Tranception_L_retrieval\",\"Tranception_L_retrieval\",\"Tranception_L_retrieval\",\"Tranception_L_retrieval\",\"Tranception_L_retrieval\",\"Tranception_L_retrieval\",\"Tranception_L_retrieval\",\"Tranception_L_retrieval\",\"Tranception_L_retrieval\",\"Tranception_L_retrieval\",\"Tranception_L_retrieval\",\"Tranception_L_retrieval\",\"Tranception_L_retrieval\",\"Tranception_L_retrieval\",\"Tranception_L_retrieval\",\"Tranception_L_retrieval\",\"Tranception_L_retrieval\",\"Tranception_L_retrieval\",\"Tranception_L_retrieval\",\"Tranception_L_retrieval\",\"Tranception_L_retrieval\",\"Tranception_L_retrieval\",\"Tranception_L_retrieval\",\"Tranception_L_retrieval\",\"Tranception_L_retrieval\",\"Tranception_L_retrieval\",\"Tranception_L_retrieval\",\"Tranception_L_retrieval\",\"Tranception_L_retrieval\",\"Tranception_L_retrieval\",\"Tranception_L_retrieval\",\"Tranception_L_retrieval\",\"Tranception_L_retrieval\",\"Tranception_L_retrieval\",\"Tranception_L_retrieval\",\"Tranception_L_retrieval\",\"Tranception_L_retrieval\",\"Tranception_L_retrieval\",\"Tranception_L_retrieval\",\"Tranception_L_retrieval\",\"Tranception_L_retrieval\",\"Tranception_L_retrieval\"],\"x0\":\" \",\"xaxis\":\"x\",\"y\":[0.057,0.514,0.093,0.266,0.305,0.362,0.346,0.348,0.346,0.413,0.424,0.393,0.401,0.39,0.351,0.466,0.236,0.418,0.541,0.401,0.532,0.433,0.572,0.278,0.159,0.237,0.478,0.412,0.425,0.533,0.564,0.407,0.53,0.326,0.4,0.537,0.527,0.41,0.513,0.501,0.423,0.473,0.379,0.657,0.538,0.475,0.492,0.624,0.647,0.451,0.638,0.548,0.359,0.557,0.443,0.638,0.398,0.621,0.528,0.438,0.588,0.637,0.45,0.604,0.367,0.672,0.616,0.408,0.652,0.438,0.317,0.629,0.433,0.591,0.436,0.473,0.495,0.667,0.449,0.547,0.458,0.452,0.121,0.688,0.289],\"y0\":\" \",\"yaxis\":\"y\",\"type\":\"violin\",\"side\":\"positive\",\"width\":1},{\"alignmentgroup\":\"True\",\"box\":{\"visible\":false},\"hovertemplate\":\"Method=%{x}\\u003cbr\\u003eValue=%{y}\\u003cextra\\u003e\\u003c\\u002fextra\\u003e\",\"legendgroup\":\"EVE_single\",\"marker\":{\"color\":\"#FFA15A\"},\"name\":\"EVE_single\",\"offsetgroup\":\"EVE_single\",\"orientation\":\"v\",\"points\":false,\"scalegroup\":\"True\",\"showlegend\":true,\"x\":[\"EVE_single\",\"EVE_single\",\"EVE_single\",\"EVE_single\",\"EVE_single\",\"EVE_single\",\"EVE_single\",\"EVE_single\",\"EVE_single\",\"EVE_single\",\"EVE_single\",\"EVE_single\",\"EVE_single\",\"EVE_single\",\"EVE_single\",\"EVE_single\",\"EVE_single\",\"EVE_single\",\"EVE_single\",\"EVE_single\",\"EVE_single\",\"EVE_single\",\"EVE_single\",\"EVE_single\",\"EVE_single\",\"EVE_single\",\"EVE_single\",\"EVE_single\",\"EVE_single\",\"EVE_single\",\"EVE_single\",\"EVE_single\",\"EVE_single\",\"EVE_single\",\"EVE_single\",\"EVE_single\",\"EVE_single\",\"EVE_single\",\"EVE_single\",\"EVE_single\",\"EVE_single\",\"EVE_single\",\"EVE_single\",\"EVE_single\",\"EVE_single\",\"EVE_single\",\"EVE_single\",\"EVE_single\",\"EVE_single\",\"EVE_single\",\"EVE_single\",\"EVE_single\",\"EVE_single\",\"EVE_single\",\"EVE_single\",\"EVE_single\",\"EVE_single\",\"EVE_single\",\"EVE_single\",\"EVE_single\",\"EVE_single\",\"EVE_single\",\"EVE_single\",\"EVE_single\",\"EVE_single\",\"EVE_single\",\"EVE_single\",\"EVE_single\",\"EVE_single\",\"EVE_single\",\"EVE_single\",\"EVE_single\",\"EVE_single\",\"EVE_single\",\"EVE_single\",\"EVE_single\",\"EVE_single\",\"EVE_single\",\"EVE_single\",\"EVE_single\",\"EVE_single\",\"EVE_single\",\"EVE_single\",\"EVE_single\",\"EVE_single\"],\"x0\":\" \",\"xaxis\":\"x\",\"y\":[0.053,0.424,0.223,0.238,0.23,0.339,0.352,0.364,0.383,0.46,0.363,0.409,0.413,0.463,0.394,0.487,0.216,0.536,0.506,0.6,0.517,0.433,0.539,0.242,0.131,0.319,0.499,0.397,0.428,0.497,0.555,0.388,0.504,0.387,0.432,0.545,0.481,0.48,0.509,0.495,0.476,0.507,0.383,0.654,0.211,0.508,0.496,0.596,0.703,0.288,0.696,0.437,0.449,0.486,0.526,0.616,0.38,0.584,0.543,0.477,0.599,0.709,0.466,0.591,0.445,0.679,0.533,0.331,0.623,0.416,0.249,0.711,0.479,0.575,0.54,0.346,0.527,0.609,0.43,0.564,0.528,0.305,0.08,0.654,0.247],\"y0\":\" \",\"yaxis\":\"y\",\"type\":\"violin\",\"side\":\"positive\",\"width\":1},{\"alignmentgroup\":\"True\",\"box\":{\"visible\":false},\"hovertemplate\":\"Method=%{x}\\u003cbr\\u003eValue=%{y}\\u003cextra\\u003e\\u003c\\u002fextra\\u003e\",\"legendgroup\":\"ESM1v_single\",\"marker\":{\"color\":\"#19d3f3\"},\"name\":\"ESM1v_single\",\"offsetgroup\":\"ESM1v_single\",\"orientation\":\"v\",\"points\":false,\"scalegroup\":\"True\",\"showlegend\":true,\"x\":[\"ESM1v_single\",\"ESM1v_single\",\"ESM1v_single\",\"ESM1v_single\",\"ESM1v_single\",\"ESM1v_single\",\"ESM1v_single\",\"ESM1v_single\",\"ESM1v_single\",\"ESM1v_single\",\"ESM1v_single\",\"ESM1v_single\",\"ESM1v_single\",\"ESM1v_single\",\"ESM1v_single\",\"ESM1v_single\",\"ESM1v_single\",\"ESM1v_single\",\"ESM1v_single\",\"ESM1v_single\",\"ESM1v_single\",\"ESM1v_single\",\"ESM1v_single\",\"ESM1v_single\",\"ESM1v_single\",\"ESM1v_single\",\"ESM1v_single\",\"ESM1v_single\",\"ESM1v_single\",\"ESM1v_single\",\"ESM1v_single\",\"ESM1v_single\",\"ESM1v_single\",\"ESM1v_single\",\"ESM1v_single\",\"ESM1v_single\",\"ESM1v_single\",\"ESM1v_single\",\"ESM1v_single\",\"ESM1v_single\",\"ESM1v_single\",\"ESM1v_single\",\"ESM1v_single\",\"ESM1v_single\",\"ESM1v_single\",\"ESM1v_single\",\"ESM1v_single\",\"ESM1v_single\",\"ESM1v_single\",\"ESM1v_single\",\"ESM1v_single\",\"ESM1v_single\",\"ESM1v_single\",\"ESM1v_single\",\"ESM1v_single\",\"ESM1v_single\",\"ESM1v_single\",\"ESM1v_single\",\"ESM1v_single\",\"ESM1v_single\",\"ESM1v_single\",\"ESM1v_single\",\"ESM1v_single\",\"ESM1v_single\",\"ESM1v_single\",\"ESM1v_single\",\"ESM1v_single\",\"ESM1v_single\",\"ESM1v_single\",\"ESM1v_single\",\"ESM1v_single\",\"ESM1v_single\",\"ESM1v_single\",\"ESM1v_single\",\"ESM1v_single\",\"ESM1v_single\",\"ESM1v_single\",\"ESM1v_single\",\"ESM1v_single\",\"ESM1v_single\",\"ESM1v_single\",\"ESM1v_single\",\"ESM1v_single\",\"ESM1v_single\",\"ESM1v_single\"],\"x0\":\" \",\"xaxis\":\"x\",\"y\":[0.068,0.404,0.167,0.235,0.27,0.32,0.351,0.018,0.38,-0.059,0.019,0.026,0.427,0.447,-0.052,0.483,0.245,0.469,0.461,-0.03,0.435,0.428,0.054,0.272,0.242,0.343,0.517,0.409,0.382,0.526,0.538,0.415,0.531,0.305,0.457,0.516,0.537,0.467,0.492,0.509,0.416,0.501,0.447,0.519,0.244,0.477,0.561,0.588,0.656,0.368,0.692,0.447,0.28,0.458,0.557,0.642,0.285,0.162,0.547,0.613,0.597,0.665,0.36,0.6,-0.023,0.098,0.411,0.24,0.647,0.478,-0.064,0.668,0.496,0.611,0.455,0.196,0.54,0.55,0.307,0.552,0.351,0.309,0.051,0.662,0.237],\"y0\":\" \",\"yaxis\":\"y\",\"type\":\"violin\",\"side\":\"positive\",\"width\":1}],                        {\"template\":{\"data\":{\"histogram2dcontour\":[{\"type\":\"histogram2dcontour\",\"colorbar\":{\"outlinewidth\":0,\"ticks\":\"\"},\"colorscale\":[[0.0,\"#0d0887\"],[0.1111111111111111,\"#46039f\"],[0.2222222222222222,\"#7201a8\"],[0.3333333333333333,\"#9c179e\"],[0.4444444444444444,\"#bd3786\"],[0.5555555555555556,\"#d8576b\"],[0.6666666666666666,\"#ed7953\"],[0.7777777777777778,\"#fb9f3a\"],[0.8888888888888888,\"#fdca26\"],[1.0,\"#f0f921\"]]}],\"choropleth\":[{\"type\":\"choropleth\",\"colorbar\":{\"outlinewidth\":0,\"ticks\":\"\"}}],\"histogram2d\":[{\"type\":\"histogram2d\",\"colorbar\":{\"outlinewidth\":0,\"ticks\":\"\"},\"colorscale\":[[0.0,\"#0d0887\"],[0.1111111111111111,\"#46039f\"],[0.2222222222222222,\"#7201a8\"],[0.3333333333333333,\"#9c179e\"],[0.4444444444444444,\"#bd3786\"],[0.5555555555555556,\"#d8576b\"],[0.6666666666666666,\"#ed7953\"],[0.7777777777777778,\"#fb9f3a\"],[0.8888888888888888,\"#fdca26\"],[1.0,\"#f0f921\"]]}],\"heatmap\":[{\"type\":\"heatmap\",\"colorbar\":{\"outlinewidth\":0,\"ticks\":\"\"},\"colorscale\":[[0.0,\"#0d0887\"],[0.1111111111111111,\"#46039f\"],[0.2222222222222222,\"#7201a8\"],[0.3333333333333333,\"#9c179e\"],[0.4444444444444444,\"#bd3786\"],[0.5555555555555556,\"#d8576b\"],[0.6666666666666666,\"#ed7953\"],[0.7777777777777778,\"#fb9f3a\"],[0.8888888888888888,\"#fdca26\"],[1.0,\"#f0f921\"]]}],\"heatmapgl\":[{\"type\":\"heatmapgl\",\"colorbar\":{\"outlinewidth\":0,\"ticks\":\"\"},\"colorscale\":[[0.0,\"#0d0887\"],[0.1111111111111111,\"#46039f\"],[0.2222222222222222,\"#7201a8\"],[0.3333333333333333,\"#9c179e\"],[0.4444444444444444,\"#bd3786\"],[0.5555555555555556,\"#d8576b\"],[0.6666666666666666,\"#ed7953\"],[0.7777777777777778,\"#fb9f3a\"],[0.8888888888888888,\"#fdca26\"],[1.0,\"#f0f921\"]]}],\"contourcarpet\":[{\"type\":\"contourcarpet\",\"colorbar\":{\"outlinewidth\":0,\"ticks\":\"\"}}],\"contour\":[{\"type\":\"contour\",\"colorbar\":{\"outlinewidth\":0,\"ticks\":\"\"},\"colorscale\":[[0.0,\"#0d0887\"],[0.1111111111111111,\"#46039f\"],[0.2222222222222222,\"#7201a8\"],[0.3333333333333333,\"#9c179e\"],[0.4444444444444444,\"#bd3786\"],[0.5555555555555556,\"#d8576b\"],[0.6666666666666666,\"#ed7953\"],[0.7777777777777778,\"#fb9f3a\"],[0.8888888888888888,\"#fdca26\"],[1.0,\"#f0f921\"]]}],\"surface\":[{\"type\":\"surface\",\"colorbar\":{\"outlinewidth\":0,\"ticks\":\"\"},\"colorscale\":[[0.0,\"#0d0887\"],[0.1111111111111111,\"#46039f\"],[0.2222222222222222,\"#7201a8\"],[0.3333333333333333,\"#9c179e\"],[0.4444444444444444,\"#bd3786\"],[0.5555555555555556,\"#d8576b\"],[0.6666666666666666,\"#ed7953\"],[0.7777777777777778,\"#fb9f3a\"],[0.8888888888888888,\"#fdca26\"],[1.0,\"#f0f921\"]]}],\"mesh3d\":[{\"type\":\"mesh3d\",\"colorbar\":{\"outlinewidth\":0,\"ticks\":\"\"}}],\"scatter\":[{\"fillpattern\":{\"fillmode\":\"overlay\",\"size\":10,\"solidity\":0.2},\"type\":\"scatter\"}],\"parcoords\":[{\"type\":\"parcoords\",\"line\":{\"colorbar\":{\"outlinewidth\":0,\"ticks\":\"\"}}}],\"scatterpolargl\":[{\"type\":\"scatterpolargl\",\"marker\":{\"colorbar\":{\"outlinewidth\":0,\"ticks\":\"\"}}}],\"bar\":[{\"error_x\":{\"color\":\"#2a3f5f\"},\"error_y\":{\"color\":\"#2a3f5f\"},\"marker\":{\"line\":{\"color\":\"#E5ECF6\",\"width\":0.5},\"pattern\":{\"fillmode\":\"overlay\",\"size\":10,\"solidity\":0.2}},\"type\":\"bar\"}],\"scattergeo\":[{\"type\":\"scattergeo\",\"marker\":{\"colorbar\":{\"outlinewidth\":0,\"ticks\":\"\"}}}],\"scatterpolar\":[{\"type\":\"scatterpolar\",\"marker\":{\"colorbar\":{\"outlinewidth\":0,\"ticks\":\"\"}}}],\"histogram\":[{\"marker\":{\"pattern\":{\"fillmode\":\"overlay\",\"size\":10,\"solidity\":0.2}},\"type\":\"histogram\"}],\"scattergl\":[{\"type\":\"scattergl\",\"marker\":{\"colorbar\":{\"outlinewidth\":0,\"ticks\":\"\"}}}],\"scatter3d\":[{\"type\":\"scatter3d\",\"line\":{\"colorbar\":{\"outlinewidth\":0,\"ticks\":\"\"}},\"marker\":{\"colorbar\":{\"outlinewidth\":0,\"ticks\":\"\"}}}],\"scattermapbox\":[{\"type\":\"scattermapbox\",\"marker\":{\"colorbar\":{\"outlinewidth\":0,\"ticks\":\"\"}}}],\"scatterternary\":[{\"type\":\"scatterternary\",\"marker\":{\"colorbar\":{\"outlinewidth\":0,\"ticks\":\"\"}}}],\"scattercarpet\":[{\"type\":\"scattercarpet\",\"marker\":{\"colorbar\":{\"outlinewidth\":0,\"ticks\":\"\"}}}],\"carpet\":[{\"aaxis\":{\"endlinecolor\":\"#2a3f5f\",\"gridcolor\":\"white\",\"linecolor\":\"white\",\"minorgridcolor\":\"white\",\"startlinecolor\":\"#2a3f5f\"},\"baxis\":{\"endlinecolor\":\"#2a3f5f\",\"gridcolor\":\"white\",\"linecolor\":\"white\",\"minorgridcolor\":\"white\",\"startlinecolor\":\"#2a3f5f\"},\"type\":\"carpet\"}],\"table\":[{\"cells\":{\"fill\":{\"color\":\"#EBF0F8\"},\"line\":{\"color\":\"white\"}},\"header\":{\"fill\":{\"color\":\"#C8D4E3\"},\"line\":{\"color\":\"white\"}},\"type\":\"table\"}],\"barpolar\":[{\"marker\":{\"line\":{\"color\":\"#E5ECF6\",\"width\":0.5},\"pattern\":{\"fillmode\":\"overlay\",\"size\":10,\"solidity\":0.2}},\"type\":\"barpolar\"}],\"pie\":[{\"automargin\":true,\"type\":\"pie\"}]},\"layout\":{\"autotypenumbers\":\"strict\",\"colorway\":[\"#636efa\",\"#EF553B\",\"#00cc96\",\"#ab63fa\",\"#FFA15A\",\"#19d3f3\",\"#FF6692\",\"#B6E880\",\"#FF97FF\",\"#FECB52\"],\"font\":{\"color\":\"#2a3f5f\"},\"hovermode\":\"closest\",\"hoverlabel\":{\"align\":\"left\"},\"paper_bgcolor\":\"white\",\"plot_bgcolor\":\"#E5ECF6\",\"polar\":{\"bgcolor\":\"#E5ECF6\",\"angularaxis\":{\"gridcolor\":\"white\",\"linecolor\":\"white\",\"ticks\":\"\"},\"radialaxis\":{\"gridcolor\":\"white\",\"linecolor\":\"white\",\"ticks\":\"\"}},\"ternary\":{\"bgcolor\":\"#E5ECF6\",\"aaxis\":{\"gridcolor\":\"white\",\"linecolor\":\"white\",\"ticks\":\"\"},\"baxis\":{\"gridcolor\":\"white\",\"linecolor\":\"white\",\"ticks\":\"\"},\"caxis\":{\"gridcolor\":\"white\",\"linecolor\":\"white\",\"ticks\":\"\"}},\"coloraxis\":{\"colorbar\":{\"outlinewidth\":0,\"ticks\":\"\"}},\"colorscale\":{\"sequential\":[[0.0,\"#0d0887\"],[0.1111111111111111,\"#46039f\"],[0.2222222222222222,\"#7201a8\"],[0.3333333333333333,\"#9c179e\"],[0.4444444444444444,\"#bd3786\"],[0.5555555555555556,\"#d8576b\"],[0.6666666666666666,\"#ed7953\"],[0.7777777777777778,\"#fb9f3a\"],[0.8888888888888888,\"#fdca26\"],[1.0,\"#f0f921\"]],\"sequentialminus\":[[0.0,\"#0d0887\"],[0.1111111111111111,\"#46039f\"],[0.2222222222222222,\"#7201a8\"],[0.3333333333333333,\"#9c179e\"],[0.4444444444444444,\"#bd3786\"],[0.5555555555555556,\"#d8576b\"],[0.6666666666666666,\"#ed7953\"],[0.7777777777777778,\"#fb9f3a\"],[0.8888888888888888,\"#fdca26\"],[1.0,\"#f0f921\"]],\"diverging\":[[0,\"#8e0152\"],[0.1,\"#c51b7d\"],[0.2,\"#de77ae\"],[0.3,\"#f1b6da\"],[0.4,\"#fde0ef\"],[0.5,\"#f7f7f7\"],[0.6,\"#e6f5d0\"],[0.7,\"#b8e186\"],[0.8,\"#7fbc41\"],[0.9,\"#4d9221\"],[1,\"#276419\"]]},\"xaxis\":{\"gridcolor\":\"white\",\"linecolor\":\"white\",\"ticks\":\"\",\"title\":{\"standoff\":15},\"zerolinecolor\":\"white\",\"automargin\":true,\"zerolinewidth\":2},\"yaxis\":{\"gridcolor\":\"white\",\"linecolor\":\"white\",\"ticks\":\"\",\"title\":{\"standoff\":15},\"zerolinecolor\":\"white\",\"automargin\":true,\"zerolinewidth\":2},\"scene\":{\"xaxis\":{\"backgroundcolor\":\"#E5ECF6\",\"gridcolor\":\"white\",\"linecolor\":\"white\",\"showbackground\":true,\"ticks\":\"\",\"zerolinecolor\":\"white\",\"gridwidth\":2},\"yaxis\":{\"backgroundcolor\":\"#E5ECF6\",\"gridcolor\":\"white\",\"linecolor\":\"white\",\"showbackground\":true,\"ticks\":\"\",\"zerolinecolor\":\"white\",\"gridwidth\":2},\"zaxis\":{\"backgroundcolor\":\"#E5ECF6\",\"gridcolor\":\"white\",\"linecolor\":\"white\",\"showbackground\":true,\"ticks\":\"\",\"zerolinecolor\":\"white\",\"gridwidth\":2}},\"shapedefaults\":{\"line\":{\"color\":\"#2a3f5f\"}},\"annotationdefaults\":{\"arrowcolor\":\"#2a3f5f\",\"arrowhead\":0,\"arrowwidth\":1},\"geo\":{\"bgcolor\":\"white\",\"landcolor\":\"#E5ECF6\",\"subunitcolor\":\"white\",\"showland\":true,\"showlakes\":true,\"lakecolor\":\"white\"},\"title\":{\"x\":0.05},\"mapbox\":{\"style\":\"light\"}}},\"xaxis\":{\"anchor\":\"y\",\"domain\":[0.0,1.0],\"title\":{\"text\":\"Method\"},\"categoryorder\":\"array\",\"categoryarray\":[\"Ours\",\"Alpha-Missense\",\"Tranception_L_no_retrieval\",\"Tranception_L_retrieval\",\"EVE_single\",\"ESM1v_single\"],\"showgrid\":false,\"zeroline\":false},\"yaxis\":{\"anchor\":\"x\",\"domain\":[0.0,1.0],\"title\":{\"text\":\"Correlation\"}},\"legend\":{\"title\":{\"text\":\"Method\"},\"tracegroupgap\":0},\"margin\":{\"t\":60},\"violinmode\":\"overlay\",\"width\":600,\"height\":500},                        {\"responsive\": true}                    ).then(function(){\n",
       "                            \n",
       "var gd = document.getElementById('02b5bde2-860f-4d51-99ac-f949e829fd85');\n",
       "var x = new MutationObserver(function (mutations, observer) {{\n",
       "        var display = window.getComputedStyle(gd).display;\n",
       "        if (!display || display === 'none') {{\n",
       "            console.log([gd, 'removed!']);\n",
       "            Plotly.purge(gd);\n",
       "            observer.disconnect();\n",
       "        }}\n",
       "}});\n",
       "\n",
       "// Listen for the removal of the full notebook cells\n",
       "var notebookContainer = gd.closest('#notebook-container');\n",
       "if (notebookContainer) {{\n",
       "    x.observe(notebookContainer, {childList: true});\n",
       "}}\n",
       "\n",
       "// Listen for the clearing of the current output cell\n",
       "var outputEl = gd.closest('.output');\n",
       "if (outputEl) {{\n",
       "    x.observe(outputEl, {childList: true});\n",
       "}}\n",
       "\n",
       "                        })                };                });            </script>        </div>"
      ]
     },
     "metadata": {},
     "output_type": "display_data"
    }
   ],
   "source": [
    "# Figure 4\n",
    "df_melted = df.drop('DMS_id',axis=1).melt(var_name='Method', value_name='Value')\n",
    "fig = px.violin(df_melted, y='Value', x='Method', color='Method', box=False, points=False)\n",
    "fig.update_traces(side='positive', width=1, points=False)\n",
    "fig.update_layout(xaxis_showgrid=False, xaxis_zeroline=False, yaxis_title='Correlation', xaxis_title='Method', width=600, height=500)\n",
    "fig.show()\n",
    "# pio.write_image(fig, 'violin_plot.png',scale=2)"
   ]
  },
  {
   "cell_type": "code",
   "execution_count": 22,
   "metadata": {},
   "outputs": [
    {
     "data": {
      "application/vnd.plotly.v1+json": {
       "config": {
        "plotlyServerURL": "https://plot.ly"
       },
       "data": [
        {
         "hovertemplate": "variable=Ours<br>value=%{x}<br>DMS_id=%{y}<extra></extra>",
         "legendgroup": "Ours",
         "marker": {
          "color": "#636efa",
          "symbol": "circle"
         },
         "mode": "markers",
         "name": "Ours",
         "orientation": "h",
         "showlegend": true,
         "type": "scatter",
         "x": [
          0.074,
          0.143,
          0.218,
          0.289,
          0.296,
          0.362,
          0.369,
          0.373,
          0.378,
          0.381,
          0.381,
          0.382,
          0.383,
          0.391,
          0.416,
          0.427,
          0.427,
          0.44,
          0.46,
          0.461,
          0.463,
          0.474,
          0.479,
          0.479,
          0.483,
          0.494,
          0.508,
          0.519,
          0.527,
          0.529,
          0.53,
          0.531,
          0.531,
          0.542,
          0.548,
          0.552,
          0.554,
          0.554,
          0.555,
          0.565,
          0.572,
          0.575,
          0.58,
          0.587,
          0.602,
          0.603,
          0.608,
          0.62,
          0.623,
          0.625,
          0.63,
          0.63,
          0.633,
          0.652,
          0.659,
          0.661,
          0.663,
          0.666,
          0.667,
          0.669,
          0.67,
          0.672,
          0.677,
          0.681,
          0.684,
          0.691,
          0.692,
          0.696,
          0.701,
          0.704,
          0.705,
          0.705,
          0.71,
          0.726,
          0.727,
          0.73,
          0.734,
          0.746,
          0.75,
          0.759,
          0.774,
          0.784,
          0.788,
          0.801,
          0.832
         ],
         "xaxis": "x",
         "y": [
          "A0A1I9GEU1_NEIME_Kennouche_2019",
          "BRCA1_HUMAN_Findlay_2018",
          "MK01_HUMAN_Brenan_2016",
          "CALM1_HUMAN_Weile_2017",
          "TPK1_HUMAN_Weile_2017",
          "ENV_HV1BR_Haddox_2016",
          "HSP82_YEAST_Flynn_2019",
          "I6TAH8_I68A0_Doud_2015",
          "MSH2_HUMAN_Jia_2020",
          "NCAP_I34A1_Doud_2015",
          "POLG_CXB3N_Mattenberger_2021",
          "A4D664_9INFA_Soh_CCL141_2019",
          "VKOR1_HUMAN_Chiasson_activity_2020",
          "UBE4B_MOUSE_Starita_2013",
          "A0A140D2T1_ZIKV_Sourisseau_growth_2019",
          "AACC1_PSEAI_Dandage_2018",
          "REV_HV1H2_Fernandes_2016",
          "PTEN_HUMAN_Mighell_2018",
          "A0A2Z5U3Z0_9INFA_Wu_2014",
          "R1AB_SARS2_Flynn_growth_2022",
          "CCDB_ECOLI_Tripathi_2016",
          "C6KNH7_9INFA_Lee_2018",
          "PA_I34A1_Wu_2015",
          "GCN4_YEAST_Staller_induction_2018",
          "SYUA_HUMAN_Newberry_2020",
          "TAT_HV1BR_Fernandes_2016",
          "TPMT_HUMAN_Matreyek_2018",
          "PTEN_HUMAN_Matreyek_2021",
          "F7YBW8_MESOW_Aakre_2015",
          "ADRB2_HUMAN_Jones_2020",
          "P53_HUMAN_Kotler_2018",
          "SC6A4_HUMAN_Young_2021",
          "ENV_HV1B9_DuenasDecamp_2016",
          "ESTA_BACSU_Nutschel_2020",
          "P53_HUMAN_Giacomelli_NULL_Etoposide_2018",
          "A0A2Z5U3Z0_9INFA_Doud_2016",
          "B3VI55_LIPST_Klesmith_2015",
          "SUMO1_HUMAN_Weile_2017",
          "A0A192B1T2_9HIV1_Haddox_2018",
          "Q2N0S5_9HIV1_Haddox_2018",
          "DYR_ECOLI_Thompson_plusLon_2019",
          "BLAT_ECOLX_Deng_2012",
          "P53_HUMAN_Giacomelli_NULL_Nutlin_2018",
          "Q59976_STRSQ_Romero_2015",
          "KCNH2_HUMAN_Kozek_2020",
          "UBC9_HUMAN_Weile_2017",
          "SRC_HUMAN_Ahler_CD_2019",
          "CP2C9_HUMAN_Amorosi_abundance_2021",
          "BLAT_ECOLX_Jacquier_2013",
          "TPOR_HUMAN_Bridgford_S505N_2020",
          "MTH3_HAEAE_Rockah-Shmuel_2015",
          "VKOR1_HUMAN_Chiasson_abundance_2020",
          "YAP1_HUMAN_Araya_2012",
          "GAL4_YEAST_Kitzman_2015",
          "DLG4_RAT_McLaughlin_2012",
          "CP2C9_HUMAN_Amorosi_activity_2021",
          "RL401_YEAST_Mavor_2016",
          "NRAM_I33A0_Jiang_standard_2016",
          "HSP82_YEAST_Mishra_2016",
          "AMIE_PSEAE_Wrenbeck_2017",
          "KKA2_KLEPN_Melnikov_2014",
          "BLAT_ECOLX_Firnberg_2014",
          "RASH_HUMAN_Bandaru_2017",
          "NUD15_HUMAN_Suiter_2020",
          "SPIKE_SARS2_Starr_expr_2020",
          "GFP_AEQVI_Sarkisyan_2016",
          "HIS7_YEAST_Pokusaeva_2019",
          "RL401_YEAST_Roscoe_2014",
          "A4GRB6_PSEAI_Chen_2020",
          "TRPC_THEMA_Chan_2017",
          "SPIKE_SARS2_Starr_bind_2020",
          "BLAT_ECOLX_Stiffler_2015",
          "P53_HUMAN_Giacomelli_WT_Nutlin_2018",
          "TRPC_SACS2_Chan_2017",
          "GRB2_HUMAN_Faure_2021",
          "CAPSD_AAV2S_Sinai_substitutions_2021",
          "IF1_ECOLI_Kelsic_2016",
          "DLG4_HUMAN_Faure_2021",
          "RL401_YEAST_Roscoe_2013",
          "P84126_THETH_Chan_2017",
          "CCDB_ECOLI_Adkar_2012",
          "A4_HUMAN_Seuma_2021",
          "TADBP_HUMAN_Bolognesi_2019",
          "PABP_YEAST_Melamed_2013",
          "SPG1_STRSG_Olson_2014"
         ],
         "yaxis": "y"
        },
        {
         "hovertemplate": "variable=Alpha-Missense<br>value=%{x}<br>DMS_id=%{y}<extra></extra>",
         "legendgroup": "Alpha-Missense",
         "marker": {
          "color": "#EF553B",
          "symbol": "circle"
         },
         "mode": "markers",
         "name": "Alpha-Missense",
         "orientation": "h",
         "showlegend": true,
         "type": "scatter",
         "x": [
          0.0802401075160408,
          0.5806200212629288,
          0.2191227501435648,
          0.1836108051431387,
          0.30368527490157,
          0.3445769112322158,
          0.4182954024530929,
          0.4505181797619582,
          0.4150250615185993,
          0.4969304233081572,
          0.536148971068221,
          0.539246823134548,
          0.4325992712602728,
          0.3654446721048526,
          0.4986229949547539,
          0.4949006334131868,
          0.3625861815670031,
          0.5373778661904163,
          0.5677306993244723,
          0.694925811860491,
          0.5377334947401656,
          0.5886282602815189,
          0.584715826831515,
          0.1996627364461767,
          0.2526150571230843,
          0.4602922568120447,
          0.5607593908077135,
          0.4835286590072852,
          0.43014930986357,
          0.5576300117796028,
          0.7045548471669476,
          0.5435128446243891,
          0.3896022677002642,
          0.4475469379573326,
          0.5025165505685956,
          0.6341094381210263,
          0.617439165961678,
          0.551699480906166,
          0.5614221344048748,
          0.5650762680251498,
          0.4713258236758643,
          0.5803696578446942,
          0.4688253755846746,
          0.7352730167964082,
          0.3517883186332384,
          0.5628495410447633,
          0.5700170016793253,
          0.5982776581959092,
          0.780098125492694,
          0.4346563359416529,
          0.7641901292666416,
          0.4803687713188464,
          0.3856493517344284,
          0.6623985443240489,
          0.6102449805772618,
          0.6484148954965274,
          0.5399103474446839,
          0.6364517423377265,
          0.5965991108636907,
          0.6134921466966755,
          0.7059001960328869,
          0.8131386988436397,
          0.4505143288237697,
          0.6709288612360055,
          0.651552762541071,
          0.7717277644991574,
          0.6038329601336795,
          0.5530908455422907,
          0.7719642473940604,
          0.4177547366250582,
          0.5449720174949133,
          0.8162059199200633,
          0.5137198095967725,
          0.6194783355154183,
          0.4953238358621771,
          0.4665296470894985,
          0.6168273937801945,
          0.6459467316528785,
          0.6197958456423037,
          0.6007859358920048,
          0.5109638954167716,
          0.4426370818375096,
          0.0533959139107653,
          0.750251570720492,
          0.4710565029735217
         ],
         "xaxis": "x",
         "y": [
          "A0A1I9GEU1_NEIME_Kennouche_2019",
          "BRCA1_HUMAN_Findlay_2018",
          "MK01_HUMAN_Brenan_2016",
          "CALM1_HUMAN_Weile_2017",
          "TPK1_HUMAN_Weile_2017",
          "ENV_HV1BR_Haddox_2016",
          "HSP82_YEAST_Flynn_2019",
          "I6TAH8_I68A0_Doud_2015",
          "MSH2_HUMAN_Jia_2020",
          "NCAP_I34A1_Doud_2015",
          "POLG_CXB3N_Mattenberger_2021",
          "A4D664_9INFA_Soh_CCL141_2019",
          "VKOR1_HUMAN_Chiasson_activity_2020",
          "UBE4B_MOUSE_Starita_2013",
          "A0A140D2T1_ZIKV_Sourisseau_growth_2019",
          "AACC1_PSEAI_Dandage_2018",
          "REV_HV1H2_Fernandes_2016",
          "PTEN_HUMAN_Mighell_2018",
          "A0A2Z5U3Z0_9INFA_Wu_2014",
          "R1AB_SARS2_Flynn_growth_2022",
          "CCDB_ECOLI_Tripathi_2016",
          "C6KNH7_9INFA_Lee_2018",
          "PA_I34A1_Wu_2015",
          "GCN4_YEAST_Staller_induction_2018",
          "SYUA_HUMAN_Newberry_2020",
          "TAT_HV1BR_Fernandes_2016",
          "TPMT_HUMAN_Matreyek_2018",
          "PTEN_HUMAN_Matreyek_2021",
          "F7YBW8_MESOW_Aakre_2015",
          "ADRB2_HUMAN_Jones_2020",
          "P53_HUMAN_Kotler_2018",
          "SC6A4_HUMAN_Young_2021",
          "ENV_HV1B9_DuenasDecamp_2016",
          "ESTA_BACSU_Nutschel_2020",
          "P53_HUMAN_Giacomelli_NULL_Etoposide_2018",
          "A0A2Z5U3Z0_9INFA_Doud_2016",
          "B3VI55_LIPST_Klesmith_2015",
          "SUMO1_HUMAN_Weile_2017",
          "A0A192B1T2_9HIV1_Haddox_2018",
          "Q2N0S5_9HIV1_Haddox_2018",
          "DYR_ECOLI_Thompson_plusLon_2019",
          "BLAT_ECOLX_Deng_2012",
          "P53_HUMAN_Giacomelli_NULL_Nutlin_2018",
          "Q59976_STRSQ_Romero_2015",
          "KCNH2_HUMAN_Kozek_2020",
          "UBC9_HUMAN_Weile_2017",
          "SRC_HUMAN_Ahler_CD_2019",
          "CP2C9_HUMAN_Amorosi_abundance_2021",
          "BLAT_ECOLX_Jacquier_2013",
          "TPOR_HUMAN_Bridgford_S505N_2020",
          "MTH3_HAEAE_Rockah-Shmuel_2015",
          "VKOR1_HUMAN_Chiasson_abundance_2020",
          "YAP1_HUMAN_Araya_2012",
          "GAL4_YEAST_Kitzman_2015",
          "DLG4_RAT_McLaughlin_2012",
          "CP2C9_HUMAN_Amorosi_activity_2021",
          "RL401_YEAST_Mavor_2016",
          "NRAM_I33A0_Jiang_standard_2016",
          "HSP82_YEAST_Mishra_2016",
          "AMIE_PSEAE_Wrenbeck_2017",
          "KKA2_KLEPN_Melnikov_2014",
          "BLAT_ECOLX_Firnberg_2014",
          "RASH_HUMAN_Bandaru_2017",
          "NUD15_HUMAN_Suiter_2020",
          "SPIKE_SARS2_Starr_expr_2020",
          "GFP_AEQVI_Sarkisyan_2016",
          "HIS7_YEAST_Pokusaeva_2019",
          "RL401_YEAST_Roscoe_2014",
          "A4GRB6_PSEAI_Chen_2020",
          "TRPC_THEMA_Chan_2017",
          "SPIKE_SARS2_Starr_bind_2020",
          "BLAT_ECOLX_Stiffler_2015",
          "P53_HUMAN_Giacomelli_WT_Nutlin_2018",
          "TRPC_SACS2_Chan_2017",
          "GRB2_HUMAN_Faure_2021",
          "CAPSD_AAV2S_Sinai_substitutions_2021",
          "IF1_ECOLI_Kelsic_2016",
          "DLG4_HUMAN_Faure_2021",
          "RL401_YEAST_Roscoe_2013",
          "P84126_THETH_Chan_2017",
          "CCDB_ECOLI_Adkar_2012",
          "A4_HUMAN_Seuma_2021",
          "TADBP_HUMAN_Bolognesi_2019",
          "PABP_YEAST_Melamed_2013",
          "SPG1_STRSG_Olson_2014"
         ],
         "yaxis": "y"
        },
        {
         "hovertemplate": "variable=Tranception_L_no_retrieval<br>value=%{x}<br>DMS_id=%{y}<extra></extra>",
         "legendgroup": "Tranception_L_no_retrieval",
         "marker": {
          "color": "#00cc96",
          "symbol": "circle"
         },
         "mode": "markers",
         "name": "Tranception_L_no_retrieval",
         "orientation": "h",
         "showlegend": true,
         "type": "scatter",
         "x": [
          0.099,
          0.409,
          0.004,
          0.291,
          0.301,
          0.358,
          0.322,
          0.337,
          0.281,
          0.415,
          0.355,
          0.404,
          0.37,
          0.262,
          0.272,
          0.417,
          0.24,
          0.299,
          0.519,
          0.216,
          0.424,
          0.392,
          0.541,
          0.265,
          0.181,
          0.203,
          0.411,
          0.343,
          0.433,
          0.506,
          0.42,
          0.491,
          0.404,
          0.261,
          0.355,
          0.523,
          0.555,
          0.329,
          0.514,
          0.406,
          0.347,
          0.373,
          0.36,
          0.634,
          0.511,
          0.428,
          0.348,
          0.569,
          0.508,
          0.419,
          0.665,
          0.505,
          0.217,
          0.325,
          0.307,
          0.572,
          0.368,
          0.551,
          0.505,
          0.405,
          0.586,
          0.48,
          0.377,
          0.575,
          0.383,
          0.629,
          0.585,
          0.351,
          0.629,
          0.448,
          0.355,
          0.475,
          0.408,
          0.558,
          0.404,
          0.492,
          0.527,
          0.58,
          0.427,
          0.536,
          0.31,
          0.363,
          0.121,
          0.64,
          0.279
         ],
         "xaxis": "x",
         "y": [
          "A0A1I9GEU1_NEIME_Kennouche_2019",
          "BRCA1_HUMAN_Findlay_2018",
          "MK01_HUMAN_Brenan_2016",
          "CALM1_HUMAN_Weile_2017",
          "TPK1_HUMAN_Weile_2017",
          "ENV_HV1BR_Haddox_2016",
          "HSP82_YEAST_Flynn_2019",
          "I6TAH8_I68A0_Doud_2015",
          "MSH2_HUMAN_Jia_2020",
          "NCAP_I34A1_Doud_2015",
          "POLG_CXB3N_Mattenberger_2021",
          "A4D664_9INFA_Soh_CCL141_2019",
          "VKOR1_HUMAN_Chiasson_activity_2020",
          "UBE4B_MOUSE_Starita_2013",
          "A0A140D2T1_ZIKV_Sourisseau_growth_2019",
          "AACC1_PSEAI_Dandage_2018",
          "REV_HV1H2_Fernandes_2016",
          "PTEN_HUMAN_Mighell_2018",
          "A0A2Z5U3Z0_9INFA_Wu_2014",
          "R1AB_SARS2_Flynn_growth_2022",
          "CCDB_ECOLI_Tripathi_2016",
          "C6KNH7_9INFA_Lee_2018",
          "PA_I34A1_Wu_2015",
          "GCN4_YEAST_Staller_induction_2018",
          "SYUA_HUMAN_Newberry_2020",
          "TAT_HV1BR_Fernandes_2016",
          "TPMT_HUMAN_Matreyek_2018",
          "PTEN_HUMAN_Matreyek_2021",
          "F7YBW8_MESOW_Aakre_2015",
          "ADRB2_HUMAN_Jones_2020",
          "P53_HUMAN_Kotler_2018",
          "SC6A4_HUMAN_Young_2021",
          "ENV_HV1B9_DuenasDecamp_2016",
          "ESTA_BACSU_Nutschel_2020",
          "P53_HUMAN_Giacomelli_NULL_Etoposide_2018",
          "A0A2Z5U3Z0_9INFA_Doud_2016",
          "B3VI55_LIPST_Klesmith_2015",
          "SUMO1_HUMAN_Weile_2017",
          "A0A192B1T2_9HIV1_Haddox_2018",
          "Q2N0S5_9HIV1_Haddox_2018",
          "DYR_ECOLI_Thompson_plusLon_2019",
          "BLAT_ECOLX_Deng_2012",
          "P53_HUMAN_Giacomelli_NULL_Nutlin_2018",
          "Q59976_STRSQ_Romero_2015",
          "KCNH2_HUMAN_Kozek_2020",
          "UBC9_HUMAN_Weile_2017",
          "SRC_HUMAN_Ahler_CD_2019",
          "CP2C9_HUMAN_Amorosi_abundance_2021",
          "BLAT_ECOLX_Jacquier_2013",
          "TPOR_HUMAN_Bridgford_S505N_2020",
          "MTH3_HAEAE_Rockah-Shmuel_2015",
          "VKOR1_HUMAN_Chiasson_abundance_2020",
          "YAP1_HUMAN_Araya_2012",
          "GAL4_YEAST_Kitzman_2015",
          "DLG4_RAT_McLaughlin_2012",
          "CP2C9_HUMAN_Amorosi_activity_2021",
          "RL401_YEAST_Mavor_2016",
          "NRAM_I33A0_Jiang_standard_2016",
          "HSP82_YEAST_Mishra_2016",
          "AMIE_PSEAE_Wrenbeck_2017",
          "KKA2_KLEPN_Melnikov_2014",
          "BLAT_ECOLX_Firnberg_2014",
          "RASH_HUMAN_Bandaru_2017",
          "NUD15_HUMAN_Suiter_2020",
          "SPIKE_SARS2_Starr_expr_2020",
          "GFP_AEQVI_Sarkisyan_2016",
          "HIS7_YEAST_Pokusaeva_2019",
          "RL401_YEAST_Roscoe_2014",
          "A4GRB6_PSEAI_Chen_2020",
          "TRPC_THEMA_Chan_2017",
          "SPIKE_SARS2_Starr_bind_2020",
          "BLAT_ECOLX_Stiffler_2015",
          "P53_HUMAN_Giacomelli_WT_Nutlin_2018",
          "TRPC_SACS2_Chan_2017",
          "GRB2_HUMAN_Faure_2021",
          "CAPSD_AAV2S_Sinai_substitutions_2021",
          "IF1_ECOLI_Kelsic_2016",
          "DLG4_HUMAN_Faure_2021",
          "RL401_YEAST_Roscoe_2013",
          "P84126_THETH_Chan_2017",
          "CCDB_ECOLI_Adkar_2012",
          "A4_HUMAN_Seuma_2021",
          "TADBP_HUMAN_Bolognesi_2019",
          "PABP_YEAST_Melamed_2013",
          "SPG1_STRSG_Olson_2014"
         ],
         "yaxis": "y"
        },
        {
         "hovertemplate": "variable=Tranception_L_retrieval<br>value=%{x}<br>DMS_id=%{y}<extra></extra>",
         "legendgroup": "Tranception_L_retrieval",
         "marker": {
          "color": "#ab63fa",
          "symbol": "circle"
         },
         "mode": "markers",
         "name": "Tranception_L_retrieval",
         "orientation": "h",
         "showlegend": true,
         "type": "scatter",
         "x": [
          0.057,
          0.514,
          0.093,
          0.266,
          0.305,
          0.362,
          0.346,
          0.348,
          0.346,
          0.424,
          0.413,
          0.393,
          0.401,
          0.39,
          0.351,
          0.466,
          0.236,
          0.418,
          0.541,
          0.401,
          0.532,
          0.433,
          0.572,
          0.278,
          0.159,
          0.237,
          0.478,
          0.412,
          0.425,
          0.533,
          0.564,
          0.53,
          0.407,
          0.326,
          0.4,
          0.537,
          0.527,
          0.41,
          0.513,
          0.501,
          0.423,
          0.473,
          0.379,
          0.657,
          0.538,
          0.475,
          0.492,
          0.624,
          0.647,
          0.451,
          0.638,
          0.548,
          0.359,
          0.557,
          0.443,
          0.638,
          0.398,
          0.621,
          0.528,
          0.438,
          0.588,
          0.637,
          0.45,
          0.604,
          0.367,
          0.672,
          0.616,
          0.408,
          0.652,
          0.438,
          0.317,
          0.629,
          0.433,
          0.591,
          0.436,
          0.473,
          0.495,
          0.667,
          0.449,
          0.547,
          0.458,
          0.452,
          0.121,
          0.688,
          0.289
         ],
         "xaxis": "x",
         "y": [
          "A0A1I9GEU1_NEIME_Kennouche_2019",
          "BRCA1_HUMAN_Findlay_2018",
          "MK01_HUMAN_Brenan_2016",
          "CALM1_HUMAN_Weile_2017",
          "TPK1_HUMAN_Weile_2017",
          "ENV_HV1BR_Haddox_2016",
          "HSP82_YEAST_Flynn_2019",
          "I6TAH8_I68A0_Doud_2015",
          "MSH2_HUMAN_Jia_2020",
          "NCAP_I34A1_Doud_2015",
          "POLG_CXB3N_Mattenberger_2021",
          "A4D664_9INFA_Soh_CCL141_2019",
          "VKOR1_HUMAN_Chiasson_activity_2020",
          "UBE4B_MOUSE_Starita_2013",
          "A0A140D2T1_ZIKV_Sourisseau_growth_2019",
          "AACC1_PSEAI_Dandage_2018",
          "REV_HV1H2_Fernandes_2016",
          "PTEN_HUMAN_Mighell_2018",
          "A0A2Z5U3Z0_9INFA_Wu_2014",
          "R1AB_SARS2_Flynn_growth_2022",
          "CCDB_ECOLI_Tripathi_2016",
          "C6KNH7_9INFA_Lee_2018",
          "PA_I34A1_Wu_2015",
          "GCN4_YEAST_Staller_induction_2018",
          "SYUA_HUMAN_Newberry_2020",
          "TAT_HV1BR_Fernandes_2016",
          "TPMT_HUMAN_Matreyek_2018",
          "PTEN_HUMAN_Matreyek_2021",
          "F7YBW8_MESOW_Aakre_2015",
          "ADRB2_HUMAN_Jones_2020",
          "P53_HUMAN_Kotler_2018",
          "SC6A4_HUMAN_Young_2021",
          "ENV_HV1B9_DuenasDecamp_2016",
          "ESTA_BACSU_Nutschel_2020",
          "P53_HUMAN_Giacomelli_NULL_Etoposide_2018",
          "A0A2Z5U3Z0_9INFA_Doud_2016",
          "B3VI55_LIPST_Klesmith_2015",
          "SUMO1_HUMAN_Weile_2017",
          "A0A192B1T2_9HIV1_Haddox_2018",
          "Q2N0S5_9HIV1_Haddox_2018",
          "DYR_ECOLI_Thompson_plusLon_2019",
          "BLAT_ECOLX_Deng_2012",
          "P53_HUMAN_Giacomelli_NULL_Nutlin_2018",
          "Q59976_STRSQ_Romero_2015",
          "KCNH2_HUMAN_Kozek_2020",
          "UBC9_HUMAN_Weile_2017",
          "SRC_HUMAN_Ahler_CD_2019",
          "CP2C9_HUMAN_Amorosi_abundance_2021",
          "BLAT_ECOLX_Jacquier_2013",
          "TPOR_HUMAN_Bridgford_S505N_2020",
          "MTH3_HAEAE_Rockah-Shmuel_2015",
          "VKOR1_HUMAN_Chiasson_abundance_2020",
          "YAP1_HUMAN_Araya_2012",
          "GAL4_YEAST_Kitzman_2015",
          "DLG4_RAT_McLaughlin_2012",
          "CP2C9_HUMAN_Amorosi_activity_2021",
          "RL401_YEAST_Mavor_2016",
          "NRAM_I33A0_Jiang_standard_2016",
          "HSP82_YEAST_Mishra_2016",
          "AMIE_PSEAE_Wrenbeck_2017",
          "KKA2_KLEPN_Melnikov_2014",
          "BLAT_ECOLX_Firnberg_2014",
          "RASH_HUMAN_Bandaru_2017",
          "NUD15_HUMAN_Suiter_2020",
          "SPIKE_SARS2_Starr_expr_2020",
          "GFP_AEQVI_Sarkisyan_2016",
          "HIS7_YEAST_Pokusaeva_2019",
          "RL401_YEAST_Roscoe_2014",
          "A4GRB6_PSEAI_Chen_2020",
          "TRPC_THEMA_Chan_2017",
          "SPIKE_SARS2_Starr_bind_2020",
          "BLAT_ECOLX_Stiffler_2015",
          "P53_HUMAN_Giacomelli_WT_Nutlin_2018",
          "TRPC_SACS2_Chan_2017",
          "GRB2_HUMAN_Faure_2021",
          "CAPSD_AAV2S_Sinai_substitutions_2021",
          "IF1_ECOLI_Kelsic_2016",
          "DLG4_HUMAN_Faure_2021",
          "RL401_YEAST_Roscoe_2013",
          "P84126_THETH_Chan_2017",
          "CCDB_ECOLI_Adkar_2012",
          "A4_HUMAN_Seuma_2021",
          "TADBP_HUMAN_Bolognesi_2019",
          "PABP_YEAST_Melamed_2013",
          "SPG1_STRSG_Olson_2014"
         ],
         "yaxis": "y"
        },
        {
         "hovertemplate": "variable=EVE_single<br>value=%{x}<br>DMS_id=%{y}<extra></extra>",
         "legendgroup": "EVE_single",
         "marker": {
          "color": "#FFA15A",
          "symbol": "circle"
         },
         "mode": "markers",
         "name": "EVE_single",
         "orientation": "h",
         "showlegend": true,
         "type": "scatter",
         "x": [
          0.053,
          0.424,
          0.223,
          0.238,
          0.23,
          0.339,
          0.352,
          0.364,
          0.383,
          0.363,
          0.46,
          0.409,
          0.413,
          0.463,
          0.394,
          0.487,
          0.216,
          0.536,
          0.506,
          0.6,
          0.517,
          0.433,
          0.539,
          0.242,
          0.131,
          0.319,
          0.499,
          0.397,
          0.428,
          0.497,
          0.555,
          0.504,
          0.388,
          0.387,
          0.432,
          0.545,
          0.481,
          0.48,
          0.509,
          0.495,
          0.476,
          0.507,
          0.383,
          0.654,
          0.211,
          0.508,
          0.496,
          0.596,
          0.703,
          0.288,
          0.696,
          0.437,
          0.449,
          0.486,
          0.526,
          0.616,
          0.38,
          0.584,
          0.543,
          0.477,
          0.599,
          0.709,
          0.466,
          0.591,
          0.445,
          0.679,
          0.533,
          0.331,
          0.623,
          0.416,
          0.249,
          0.711,
          0.479,
          0.575,
          0.54,
          0.346,
          0.527,
          0.609,
          0.43,
          0.564,
          0.528,
          0.305,
          0.08,
          0.654,
          0.247
         ],
         "xaxis": "x",
         "y": [
          "A0A1I9GEU1_NEIME_Kennouche_2019",
          "BRCA1_HUMAN_Findlay_2018",
          "MK01_HUMAN_Brenan_2016",
          "CALM1_HUMAN_Weile_2017",
          "TPK1_HUMAN_Weile_2017",
          "ENV_HV1BR_Haddox_2016",
          "HSP82_YEAST_Flynn_2019",
          "I6TAH8_I68A0_Doud_2015",
          "MSH2_HUMAN_Jia_2020",
          "NCAP_I34A1_Doud_2015",
          "POLG_CXB3N_Mattenberger_2021",
          "A4D664_9INFA_Soh_CCL141_2019",
          "VKOR1_HUMAN_Chiasson_activity_2020",
          "UBE4B_MOUSE_Starita_2013",
          "A0A140D2T1_ZIKV_Sourisseau_growth_2019",
          "AACC1_PSEAI_Dandage_2018",
          "REV_HV1H2_Fernandes_2016",
          "PTEN_HUMAN_Mighell_2018",
          "A0A2Z5U3Z0_9INFA_Wu_2014",
          "R1AB_SARS2_Flynn_growth_2022",
          "CCDB_ECOLI_Tripathi_2016",
          "C6KNH7_9INFA_Lee_2018",
          "PA_I34A1_Wu_2015",
          "GCN4_YEAST_Staller_induction_2018",
          "SYUA_HUMAN_Newberry_2020",
          "TAT_HV1BR_Fernandes_2016",
          "TPMT_HUMAN_Matreyek_2018",
          "PTEN_HUMAN_Matreyek_2021",
          "F7YBW8_MESOW_Aakre_2015",
          "ADRB2_HUMAN_Jones_2020",
          "P53_HUMAN_Kotler_2018",
          "SC6A4_HUMAN_Young_2021",
          "ENV_HV1B9_DuenasDecamp_2016",
          "ESTA_BACSU_Nutschel_2020",
          "P53_HUMAN_Giacomelli_NULL_Etoposide_2018",
          "A0A2Z5U3Z0_9INFA_Doud_2016",
          "B3VI55_LIPST_Klesmith_2015",
          "SUMO1_HUMAN_Weile_2017",
          "A0A192B1T2_9HIV1_Haddox_2018",
          "Q2N0S5_9HIV1_Haddox_2018",
          "DYR_ECOLI_Thompson_plusLon_2019",
          "BLAT_ECOLX_Deng_2012",
          "P53_HUMAN_Giacomelli_NULL_Nutlin_2018",
          "Q59976_STRSQ_Romero_2015",
          "KCNH2_HUMAN_Kozek_2020",
          "UBC9_HUMAN_Weile_2017",
          "SRC_HUMAN_Ahler_CD_2019",
          "CP2C9_HUMAN_Amorosi_abundance_2021",
          "BLAT_ECOLX_Jacquier_2013",
          "TPOR_HUMAN_Bridgford_S505N_2020",
          "MTH3_HAEAE_Rockah-Shmuel_2015",
          "VKOR1_HUMAN_Chiasson_abundance_2020",
          "YAP1_HUMAN_Araya_2012",
          "GAL4_YEAST_Kitzman_2015",
          "DLG4_RAT_McLaughlin_2012",
          "CP2C9_HUMAN_Amorosi_activity_2021",
          "RL401_YEAST_Mavor_2016",
          "NRAM_I33A0_Jiang_standard_2016",
          "HSP82_YEAST_Mishra_2016",
          "AMIE_PSEAE_Wrenbeck_2017",
          "KKA2_KLEPN_Melnikov_2014",
          "BLAT_ECOLX_Firnberg_2014",
          "RASH_HUMAN_Bandaru_2017",
          "NUD15_HUMAN_Suiter_2020",
          "SPIKE_SARS2_Starr_expr_2020",
          "GFP_AEQVI_Sarkisyan_2016",
          "HIS7_YEAST_Pokusaeva_2019",
          "RL401_YEAST_Roscoe_2014",
          "A4GRB6_PSEAI_Chen_2020",
          "TRPC_THEMA_Chan_2017",
          "SPIKE_SARS2_Starr_bind_2020",
          "BLAT_ECOLX_Stiffler_2015",
          "P53_HUMAN_Giacomelli_WT_Nutlin_2018",
          "TRPC_SACS2_Chan_2017",
          "GRB2_HUMAN_Faure_2021",
          "CAPSD_AAV2S_Sinai_substitutions_2021",
          "IF1_ECOLI_Kelsic_2016",
          "DLG4_HUMAN_Faure_2021",
          "RL401_YEAST_Roscoe_2013",
          "P84126_THETH_Chan_2017",
          "CCDB_ECOLI_Adkar_2012",
          "A4_HUMAN_Seuma_2021",
          "TADBP_HUMAN_Bolognesi_2019",
          "PABP_YEAST_Melamed_2013",
          "SPG1_STRSG_Olson_2014"
         ],
         "yaxis": "y"
        },
        {
         "hovertemplate": "variable=ESM1v_single<br>value=%{x}<br>DMS_id=%{y}<extra></extra>",
         "legendgroup": "ESM1v_single",
         "marker": {
          "color": "#19d3f3",
          "symbol": "circle"
         },
         "mode": "markers",
         "name": "ESM1v_single",
         "orientation": "h",
         "showlegend": true,
         "type": "scatter",
         "x": [
          0.068,
          0.404,
          0.167,
          0.235,
          0.27,
          0.32,
          0.351,
          0.018,
          0.38,
          0.019,
          -0.059,
          0.026,
          0.427,
          0.447,
          -0.052,
          0.483,
          0.245,
          0.469,
          0.461,
          -0.03,
          0.435,
          0.428,
          0.054,
          0.272,
          0.242,
          0.343,
          0.517,
          0.409,
          0.382,
          0.526,
          0.538,
          0.531,
          0.415,
          0.305,
          0.457,
          0.516,
          0.537,
          0.467,
          0.492,
          0.509,
          0.416,
          0.501,
          0.447,
          0.519,
          0.244,
          0.477,
          0.561,
          0.588,
          0.656,
          0.368,
          0.692,
          0.447,
          0.28,
          0.458,
          0.557,
          0.642,
          0.285,
          0.162,
          0.547,
          0.613,
          0.597,
          0.665,
          0.36,
          0.6,
          -0.023,
          0.098,
          0.411,
          0.24,
          0.647,
          0.478,
          -0.064,
          0.668,
          0.496,
          0.611,
          0.455,
          0.196,
          0.54,
          0.55,
          0.307,
          0.552,
          0.351,
          0.309,
          0.051,
          0.662,
          0.237
         ],
         "xaxis": "x",
         "y": [
          "A0A1I9GEU1_NEIME_Kennouche_2019",
          "BRCA1_HUMAN_Findlay_2018",
          "MK01_HUMAN_Brenan_2016",
          "CALM1_HUMAN_Weile_2017",
          "TPK1_HUMAN_Weile_2017",
          "ENV_HV1BR_Haddox_2016",
          "HSP82_YEAST_Flynn_2019",
          "I6TAH8_I68A0_Doud_2015",
          "MSH2_HUMAN_Jia_2020",
          "NCAP_I34A1_Doud_2015",
          "POLG_CXB3N_Mattenberger_2021",
          "A4D664_9INFA_Soh_CCL141_2019",
          "VKOR1_HUMAN_Chiasson_activity_2020",
          "UBE4B_MOUSE_Starita_2013",
          "A0A140D2T1_ZIKV_Sourisseau_growth_2019",
          "AACC1_PSEAI_Dandage_2018",
          "REV_HV1H2_Fernandes_2016",
          "PTEN_HUMAN_Mighell_2018",
          "A0A2Z5U3Z0_9INFA_Wu_2014",
          "R1AB_SARS2_Flynn_growth_2022",
          "CCDB_ECOLI_Tripathi_2016",
          "C6KNH7_9INFA_Lee_2018",
          "PA_I34A1_Wu_2015",
          "GCN4_YEAST_Staller_induction_2018",
          "SYUA_HUMAN_Newberry_2020",
          "TAT_HV1BR_Fernandes_2016",
          "TPMT_HUMAN_Matreyek_2018",
          "PTEN_HUMAN_Matreyek_2021",
          "F7YBW8_MESOW_Aakre_2015",
          "ADRB2_HUMAN_Jones_2020",
          "P53_HUMAN_Kotler_2018",
          "SC6A4_HUMAN_Young_2021",
          "ENV_HV1B9_DuenasDecamp_2016",
          "ESTA_BACSU_Nutschel_2020",
          "P53_HUMAN_Giacomelli_NULL_Etoposide_2018",
          "A0A2Z5U3Z0_9INFA_Doud_2016",
          "B3VI55_LIPST_Klesmith_2015",
          "SUMO1_HUMAN_Weile_2017",
          "A0A192B1T2_9HIV1_Haddox_2018",
          "Q2N0S5_9HIV1_Haddox_2018",
          "DYR_ECOLI_Thompson_plusLon_2019",
          "BLAT_ECOLX_Deng_2012",
          "P53_HUMAN_Giacomelli_NULL_Nutlin_2018",
          "Q59976_STRSQ_Romero_2015",
          "KCNH2_HUMAN_Kozek_2020",
          "UBC9_HUMAN_Weile_2017",
          "SRC_HUMAN_Ahler_CD_2019",
          "CP2C9_HUMAN_Amorosi_abundance_2021",
          "BLAT_ECOLX_Jacquier_2013",
          "TPOR_HUMAN_Bridgford_S505N_2020",
          "MTH3_HAEAE_Rockah-Shmuel_2015",
          "VKOR1_HUMAN_Chiasson_abundance_2020",
          "YAP1_HUMAN_Araya_2012",
          "GAL4_YEAST_Kitzman_2015",
          "DLG4_RAT_McLaughlin_2012",
          "CP2C9_HUMAN_Amorosi_activity_2021",
          "RL401_YEAST_Mavor_2016",
          "NRAM_I33A0_Jiang_standard_2016",
          "HSP82_YEAST_Mishra_2016",
          "AMIE_PSEAE_Wrenbeck_2017",
          "KKA2_KLEPN_Melnikov_2014",
          "BLAT_ECOLX_Firnberg_2014",
          "RASH_HUMAN_Bandaru_2017",
          "NUD15_HUMAN_Suiter_2020",
          "SPIKE_SARS2_Starr_expr_2020",
          "GFP_AEQVI_Sarkisyan_2016",
          "HIS7_YEAST_Pokusaeva_2019",
          "RL401_YEAST_Roscoe_2014",
          "A4GRB6_PSEAI_Chen_2020",
          "TRPC_THEMA_Chan_2017",
          "SPIKE_SARS2_Starr_bind_2020",
          "BLAT_ECOLX_Stiffler_2015",
          "P53_HUMAN_Giacomelli_WT_Nutlin_2018",
          "TRPC_SACS2_Chan_2017",
          "GRB2_HUMAN_Faure_2021",
          "CAPSD_AAV2S_Sinai_substitutions_2021",
          "IF1_ECOLI_Kelsic_2016",
          "DLG4_HUMAN_Faure_2021",
          "RL401_YEAST_Roscoe_2013",
          "P84126_THETH_Chan_2017",
          "CCDB_ECOLI_Adkar_2012",
          "A4_HUMAN_Seuma_2021",
          "TADBP_HUMAN_Bolognesi_2019",
          "PABP_YEAST_Melamed_2013",
          "SPG1_STRSG_Olson_2014"
         ],
         "yaxis": "y"
        }
       ],
       "layout": {
        "height": 1800,
        "legend": {
         "title": {
          "text": "variable"
         },
         "tracegroupgap": 0
        },
        "margin": {
         "t": 60
        },
        "template": {
         "data": {
          "bar": [
           {
            "error_x": {
             "color": "#2a3f5f"
            },
            "error_y": {
             "color": "#2a3f5f"
            },
            "marker": {
             "line": {
              "color": "#E5ECF6",
              "width": 0.5
             },
             "pattern": {
              "fillmode": "overlay",
              "size": 10,
              "solidity": 0.2
             }
            },
            "type": "bar"
           }
          ],
          "barpolar": [
           {
            "marker": {
             "line": {
              "color": "#E5ECF6",
              "width": 0.5
             },
             "pattern": {
              "fillmode": "overlay",
              "size": 10,
              "solidity": 0.2
             }
            },
            "type": "barpolar"
           }
          ],
          "carpet": [
           {
            "aaxis": {
             "endlinecolor": "#2a3f5f",
             "gridcolor": "white",
             "linecolor": "white",
             "minorgridcolor": "white",
             "startlinecolor": "#2a3f5f"
            },
            "baxis": {
             "endlinecolor": "#2a3f5f",
             "gridcolor": "white",
             "linecolor": "white",
             "minorgridcolor": "white",
             "startlinecolor": "#2a3f5f"
            },
            "type": "carpet"
           }
          ],
          "choropleth": [
           {
            "colorbar": {
             "outlinewidth": 0,
             "ticks": ""
            },
            "type": "choropleth"
           }
          ],
          "contour": [
           {
            "colorbar": {
             "outlinewidth": 0,
             "ticks": ""
            },
            "colorscale": [
             [
              0,
              "#0d0887"
             ],
             [
              0.1111111111111111,
              "#46039f"
             ],
             [
              0.2222222222222222,
              "#7201a8"
             ],
             [
              0.3333333333333333,
              "#9c179e"
             ],
             [
              0.4444444444444444,
              "#bd3786"
             ],
             [
              0.5555555555555556,
              "#d8576b"
             ],
             [
              0.6666666666666666,
              "#ed7953"
             ],
             [
              0.7777777777777778,
              "#fb9f3a"
             ],
             [
              0.8888888888888888,
              "#fdca26"
             ],
             [
              1,
              "#f0f921"
             ]
            ],
            "type": "contour"
           }
          ],
          "contourcarpet": [
           {
            "colorbar": {
             "outlinewidth": 0,
             "ticks": ""
            },
            "type": "contourcarpet"
           }
          ],
          "heatmap": [
           {
            "colorbar": {
             "outlinewidth": 0,
             "ticks": ""
            },
            "colorscale": [
             [
              0,
              "#0d0887"
             ],
             [
              0.1111111111111111,
              "#46039f"
             ],
             [
              0.2222222222222222,
              "#7201a8"
             ],
             [
              0.3333333333333333,
              "#9c179e"
             ],
             [
              0.4444444444444444,
              "#bd3786"
             ],
             [
              0.5555555555555556,
              "#d8576b"
             ],
             [
              0.6666666666666666,
              "#ed7953"
             ],
             [
              0.7777777777777778,
              "#fb9f3a"
             ],
             [
              0.8888888888888888,
              "#fdca26"
             ],
             [
              1,
              "#f0f921"
             ]
            ],
            "type": "heatmap"
           }
          ],
          "heatmapgl": [
           {
            "colorbar": {
             "outlinewidth": 0,
             "ticks": ""
            },
            "colorscale": [
             [
              0,
              "#0d0887"
             ],
             [
              0.1111111111111111,
              "#46039f"
             ],
             [
              0.2222222222222222,
              "#7201a8"
             ],
             [
              0.3333333333333333,
              "#9c179e"
             ],
             [
              0.4444444444444444,
              "#bd3786"
             ],
             [
              0.5555555555555556,
              "#d8576b"
             ],
             [
              0.6666666666666666,
              "#ed7953"
             ],
             [
              0.7777777777777778,
              "#fb9f3a"
             ],
             [
              0.8888888888888888,
              "#fdca26"
             ],
             [
              1,
              "#f0f921"
             ]
            ],
            "type": "heatmapgl"
           }
          ],
          "histogram": [
           {
            "marker": {
             "pattern": {
              "fillmode": "overlay",
              "size": 10,
              "solidity": 0.2
             }
            },
            "type": "histogram"
           }
          ],
          "histogram2d": [
           {
            "colorbar": {
             "outlinewidth": 0,
             "ticks": ""
            },
            "colorscale": [
             [
              0,
              "#0d0887"
             ],
             [
              0.1111111111111111,
              "#46039f"
             ],
             [
              0.2222222222222222,
              "#7201a8"
             ],
             [
              0.3333333333333333,
              "#9c179e"
             ],
             [
              0.4444444444444444,
              "#bd3786"
             ],
             [
              0.5555555555555556,
              "#d8576b"
             ],
             [
              0.6666666666666666,
              "#ed7953"
             ],
             [
              0.7777777777777778,
              "#fb9f3a"
             ],
             [
              0.8888888888888888,
              "#fdca26"
             ],
             [
              1,
              "#f0f921"
             ]
            ],
            "type": "histogram2d"
           }
          ],
          "histogram2dcontour": [
           {
            "colorbar": {
             "outlinewidth": 0,
             "ticks": ""
            },
            "colorscale": [
             [
              0,
              "#0d0887"
             ],
             [
              0.1111111111111111,
              "#46039f"
             ],
             [
              0.2222222222222222,
              "#7201a8"
             ],
             [
              0.3333333333333333,
              "#9c179e"
             ],
             [
              0.4444444444444444,
              "#bd3786"
             ],
             [
              0.5555555555555556,
              "#d8576b"
             ],
             [
              0.6666666666666666,
              "#ed7953"
             ],
             [
              0.7777777777777778,
              "#fb9f3a"
             ],
             [
              0.8888888888888888,
              "#fdca26"
             ],
             [
              1,
              "#f0f921"
             ]
            ],
            "type": "histogram2dcontour"
           }
          ],
          "mesh3d": [
           {
            "colorbar": {
             "outlinewidth": 0,
             "ticks": ""
            },
            "type": "mesh3d"
           }
          ],
          "parcoords": [
           {
            "line": {
             "colorbar": {
              "outlinewidth": 0,
              "ticks": ""
             }
            },
            "type": "parcoords"
           }
          ],
          "pie": [
           {
            "automargin": true,
            "type": "pie"
           }
          ],
          "scatter": [
           {
            "fillpattern": {
             "fillmode": "overlay",
             "size": 10,
             "solidity": 0.2
            },
            "type": "scatter"
           }
          ],
          "scatter3d": [
           {
            "line": {
             "colorbar": {
              "outlinewidth": 0,
              "ticks": ""
             }
            },
            "marker": {
             "colorbar": {
              "outlinewidth": 0,
              "ticks": ""
             }
            },
            "type": "scatter3d"
           }
          ],
          "scattercarpet": [
           {
            "marker": {
             "colorbar": {
              "outlinewidth": 0,
              "ticks": ""
             }
            },
            "type": "scattercarpet"
           }
          ],
          "scattergeo": [
           {
            "marker": {
             "colorbar": {
              "outlinewidth": 0,
              "ticks": ""
             }
            },
            "type": "scattergeo"
           }
          ],
          "scattergl": [
           {
            "marker": {
             "colorbar": {
              "outlinewidth": 0,
              "ticks": ""
             }
            },
            "type": "scattergl"
           }
          ],
          "scattermapbox": [
           {
            "marker": {
             "colorbar": {
              "outlinewidth": 0,
              "ticks": ""
             }
            },
            "type": "scattermapbox"
           }
          ],
          "scatterpolar": [
           {
            "marker": {
             "colorbar": {
              "outlinewidth": 0,
              "ticks": ""
             }
            },
            "type": "scatterpolar"
           }
          ],
          "scatterpolargl": [
           {
            "marker": {
             "colorbar": {
              "outlinewidth": 0,
              "ticks": ""
             }
            },
            "type": "scatterpolargl"
           }
          ],
          "scatterternary": [
           {
            "marker": {
             "colorbar": {
              "outlinewidth": 0,
              "ticks": ""
             }
            },
            "type": "scatterternary"
           }
          ],
          "surface": [
           {
            "colorbar": {
             "outlinewidth": 0,
             "ticks": ""
            },
            "colorscale": [
             [
              0,
              "#0d0887"
             ],
             [
              0.1111111111111111,
              "#46039f"
             ],
             [
              0.2222222222222222,
              "#7201a8"
             ],
             [
              0.3333333333333333,
              "#9c179e"
             ],
             [
              0.4444444444444444,
              "#bd3786"
             ],
             [
              0.5555555555555556,
              "#d8576b"
             ],
             [
              0.6666666666666666,
              "#ed7953"
             ],
             [
              0.7777777777777778,
              "#fb9f3a"
             ],
             [
              0.8888888888888888,
              "#fdca26"
             ],
             [
              1,
              "#f0f921"
             ]
            ],
            "type": "surface"
           }
          ],
          "table": [
           {
            "cells": {
             "fill": {
              "color": "#EBF0F8"
             },
             "line": {
              "color": "white"
             }
            },
            "header": {
             "fill": {
              "color": "#C8D4E3"
             },
             "line": {
              "color": "white"
             }
            },
            "type": "table"
           }
          ]
         },
         "layout": {
          "annotationdefaults": {
           "arrowcolor": "#2a3f5f",
           "arrowhead": 0,
           "arrowwidth": 1
          },
          "autotypenumbers": "strict",
          "coloraxis": {
           "colorbar": {
            "outlinewidth": 0,
            "ticks": ""
           }
          },
          "colorscale": {
           "diverging": [
            [
             0,
             "#8e0152"
            ],
            [
             0.1,
             "#c51b7d"
            ],
            [
             0.2,
             "#de77ae"
            ],
            [
             0.3,
             "#f1b6da"
            ],
            [
             0.4,
             "#fde0ef"
            ],
            [
             0.5,
             "#f7f7f7"
            ],
            [
             0.6,
             "#e6f5d0"
            ],
            [
             0.7,
             "#b8e186"
            ],
            [
             0.8,
             "#7fbc41"
            ],
            [
             0.9,
             "#4d9221"
            ],
            [
             1,
             "#276419"
            ]
           ],
           "sequential": [
            [
             0,
             "#0d0887"
            ],
            [
             0.1111111111111111,
             "#46039f"
            ],
            [
             0.2222222222222222,
             "#7201a8"
            ],
            [
             0.3333333333333333,
             "#9c179e"
            ],
            [
             0.4444444444444444,
             "#bd3786"
            ],
            [
             0.5555555555555556,
             "#d8576b"
            ],
            [
             0.6666666666666666,
             "#ed7953"
            ],
            [
             0.7777777777777778,
             "#fb9f3a"
            ],
            [
             0.8888888888888888,
             "#fdca26"
            ],
            [
             1,
             "#f0f921"
            ]
           ],
           "sequentialminus": [
            [
             0,
             "#0d0887"
            ],
            [
             0.1111111111111111,
             "#46039f"
            ],
            [
             0.2222222222222222,
             "#7201a8"
            ],
            [
             0.3333333333333333,
             "#9c179e"
            ],
            [
             0.4444444444444444,
             "#bd3786"
            ],
            [
             0.5555555555555556,
             "#d8576b"
            ],
            [
             0.6666666666666666,
             "#ed7953"
            ],
            [
             0.7777777777777778,
             "#fb9f3a"
            ],
            [
             0.8888888888888888,
             "#fdca26"
            ],
            [
             1,
             "#f0f921"
            ]
           ]
          },
          "colorway": [
           "#636efa",
           "#EF553B",
           "#00cc96",
           "#ab63fa",
           "#FFA15A",
           "#19d3f3",
           "#FF6692",
           "#B6E880",
           "#FF97FF",
           "#FECB52"
          ],
          "font": {
           "color": "#2a3f5f"
          },
          "geo": {
           "bgcolor": "white",
           "lakecolor": "white",
           "landcolor": "#E5ECF6",
           "showlakes": true,
           "showland": true,
           "subunitcolor": "white"
          },
          "hoverlabel": {
           "align": "left"
          },
          "hovermode": "closest",
          "mapbox": {
           "style": "light"
          },
          "paper_bgcolor": "white",
          "plot_bgcolor": "#E5ECF6",
          "polar": {
           "angularaxis": {
            "gridcolor": "white",
            "linecolor": "white",
            "ticks": ""
           },
           "bgcolor": "#E5ECF6",
           "radialaxis": {
            "gridcolor": "white",
            "linecolor": "white",
            "ticks": ""
           }
          },
          "scene": {
           "xaxis": {
            "backgroundcolor": "#E5ECF6",
            "gridcolor": "white",
            "gridwidth": 2,
            "linecolor": "white",
            "showbackground": true,
            "ticks": "",
            "zerolinecolor": "white"
           },
           "yaxis": {
            "backgroundcolor": "#E5ECF6",
            "gridcolor": "white",
            "gridwidth": 2,
            "linecolor": "white",
            "showbackground": true,
            "ticks": "",
            "zerolinecolor": "white"
           },
           "zaxis": {
            "backgroundcolor": "#E5ECF6",
            "gridcolor": "white",
            "gridwidth": 2,
            "linecolor": "white",
            "showbackground": true,
            "ticks": "",
            "zerolinecolor": "white"
           }
          },
          "shapedefaults": {
           "line": {
            "color": "#2a3f5f"
           }
          },
          "ternary": {
           "aaxis": {
            "gridcolor": "white",
            "linecolor": "white",
            "ticks": ""
           },
           "baxis": {
            "gridcolor": "white",
            "linecolor": "white",
            "ticks": ""
           },
           "bgcolor": "#E5ECF6",
           "caxis": {
            "gridcolor": "white",
            "linecolor": "white",
            "ticks": ""
           }
          },
          "title": {
           "x": 0.05
          },
          "xaxis": {
           "automargin": true,
           "gridcolor": "white",
           "linecolor": "white",
           "ticks": "",
           "title": {
            "standoff": 15
           },
           "zerolinecolor": "white",
           "zerolinewidth": 2
          },
          "yaxis": {
           "automargin": true,
           "gridcolor": "white",
           "linecolor": "white",
           "ticks": "",
           "title": {
            "standoff": 15
           },
           "zerolinecolor": "white",
           "zerolinewidth": 2
          }
         }
        },
        "width": 800,
        "xaxis": {
         "anchor": "y",
         "domain": [
          0,
          1
         ],
         "title": {
          "text": "Correlation"
         }
        },
        "yaxis": {
         "anchor": "x",
         "domain": [
          0,
          1
         ],
         "title": {
          "text": "DMS_id"
         }
        }
       }
      },
      "text/html": [
       "<div>                            <div id=\"7612ed12-33c9-4ed4-8460-a9590fb30a3f\" class=\"plotly-graph-div\" style=\"height:1800px; width:800px;\"></div>            <script type=\"text/javascript\">                require([\"plotly\"], function(Plotly) {                    window.PLOTLYENV=window.PLOTLYENV || {};                                    if (document.getElementById(\"7612ed12-33c9-4ed4-8460-a9590fb30a3f\")) {                    Plotly.newPlot(                        \"7612ed12-33c9-4ed4-8460-a9590fb30a3f\",                        [{\"hovertemplate\":\"variable=Ours\\u003cbr\\u003evalue=%{x}\\u003cbr\\u003eDMS_id=%{y}\\u003cextra\\u003e\\u003c\\u002fextra\\u003e\",\"legendgroup\":\"Ours\",\"marker\":{\"color\":\"#636efa\",\"symbol\":\"circle\"},\"mode\":\"markers\",\"name\":\"Ours\",\"orientation\":\"h\",\"showlegend\":true,\"x\":[0.074,0.143,0.218,0.289,0.296,0.362,0.369,0.373,0.378,0.381,0.381,0.382,0.383,0.391,0.416,0.427,0.427,0.44,0.46,0.461,0.463,0.474,0.479,0.479,0.483,0.494,0.508,0.519,0.527,0.529,0.53,0.531,0.531,0.542,0.548,0.552,0.554,0.554,0.555,0.565,0.572,0.575,0.58,0.587,0.602,0.603,0.608,0.62,0.623,0.625,0.63,0.63,0.633,0.652,0.659,0.661,0.663,0.666,0.667,0.669,0.67,0.672,0.677,0.681,0.684,0.691,0.692,0.696,0.701,0.704,0.705,0.705,0.71,0.726,0.727,0.73,0.734,0.746,0.75,0.759,0.774,0.784,0.788,0.801,0.832],\"xaxis\":\"x\",\"y\":[\"A0A1I9GEU1_NEIME_Kennouche_2019\",\"BRCA1_HUMAN_Findlay_2018\",\"MK01_HUMAN_Brenan_2016\",\"CALM1_HUMAN_Weile_2017\",\"TPK1_HUMAN_Weile_2017\",\"ENV_HV1BR_Haddox_2016\",\"HSP82_YEAST_Flynn_2019\",\"I6TAH8_I68A0_Doud_2015\",\"MSH2_HUMAN_Jia_2020\",\"NCAP_I34A1_Doud_2015\",\"POLG_CXB3N_Mattenberger_2021\",\"A4D664_9INFA_Soh_CCL141_2019\",\"VKOR1_HUMAN_Chiasson_activity_2020\",\"UBE4B_MOUSE_Starita_2013\",\"A0A140D2T1_ZIKV_Sourisseau_growth_2019\",\"AACC1_PSEAI_Dandage_2018\",\"REV_HV1H2_Fernandes_2016\",\"PTEN_HUMAN_Mighell_2018\",\"A0A2Z5U3Z0_9INFA_Wu_2014\",\"R1AB_SARS2_Flynn_growth_2022\",\"CCDB_ECOLI_Tripathi_2016\",\"C6KNH7_9INFA_Lee_2018\",\"PA_I34A1_Wu_2015\",\"GCN4_YEAST_Staller_induction_2018\",\"SYUA_HUMAN_Newberry_2020\",\"TAT_HV1BR_Fernandes_2016\",\"TPMT_HUMAN_Matreyek_2018\",\"PTEN_HUMAN_Matreyek_2021\",\"F7YBW8_MESOW_Aakre_2015\",\"ADRB2_HUMAN_Jones_2020\",\"P53_HUMAN_Kotler_2018\",\"SC6A4_HUMAN_Young_2021\",\"ENV_HV1B9_DuenasDecamp_2016\",\"ESTA_BACSU_Nutschel_2020\",\"P53_HUMAN_Giacomelli_NULL_Etoposide_2018\",\"A0A2Z5U3Z0_9INFA_Doud_2016\",\"B3VI55_LIPST_Klesmith_2015\",\"SUMO1_HUMAN_Weile_2017\",\"A0A192B1T2_9HIV1_Haddox_2018\",\"Q2N0S5_9HIV1_Haddox_2018\",\"DYR_ECOLI_Thompson_plusLon_2019\",\"BLAT_ECOLX_Deng_2012\",\"P53_HUMAN_Giacomelli_NULL_Nutlin_2018\",\"Q59976_STRSQ_Romero_2015\",\"KCNH2_HUMAN_Kozek_2020\",\"UBC9_HUMAN_Weile_2017\",\"SRC_HUMAN_Ahler_CD_2019\",\"CP2C9_HUMAN_Amorosi_abundance_2021\",\"BLAT_ECOLX_Jacquier_2013\",\"TPOR_HUMAN_Bridgford_S505N_2020\",\"MTH3_HAEAE_Rockah-Shmuel_2015\",\"VKOR1_HUMAN_Chiasson_abundance_2020\",\"YAP1_HUMAN_Araya_2012\",\"GAL4_YEAST_Kitzman_2015\",\"DLG4_RAT_McLaughlin_2012\",\"CP2C9_HUMAN_Amorosi_activity_2021\",\"RL401_YEAST_Mavor_2016\",\"NRAM_I33A0_Jiang_standard_2016\",\"HSP82_YEAST_Mishra_2016\",\"AMIE_PSEAE_Wrenbeck_2017\",\"KKA2_KLEPN_Melnikov_2014\",\"BLAT_ECOLX_Firnberg_2014\",\"RASH_HUMAN_Bandaru_2017\",\"NUD15_HUMAN_Suiter_2020\",\"SPIKE_SARS2_Starr_expr_2020\",\"GFP_AEQVI_Sarkisyan_2016\",\"HIS7_YEAST_Pokusaeva_2019\",\"RL401_YEAST_Roscoe_2014\",\"A4GRB6_PSEAI_Chen_2020\",\"TRPC_THEMA_Chan_2017\",\"SPIKE_SARS2_Starr_bind_2020\",\"BLAT_ECOLX_Stiffler_2015\",\"P53_HUMAN_Giacomelli_WT_Nutlin_2018\",\"TRPC_SACS2_Chan_2017\",\"GRB2_HUMAN_Faure_2021\",\"CAPSD_AAV2S_Sinai_substitutions_2021\",\"IF1_ECOLI_Kelsic_2016\",\"DLG4_HUMAN_Faure_2021\",\"RL401_YEAST_Roscoe_2013\",\"P84126_THETH_Chan_2017\",\"CCDB_ECOLI_Adkar_2012\",\"A4_HUMAN_Seuma_2021\",\"TADBP_HUMAN_Bolognesi_2019\",\"PABP_YEAST_Melamed_2013\",\"SPG1_STRSG_Olson_2014\"],\"yaxis\":\"y\",\"type\":\"scatter\"},{\"hovertemplate\":\"variable=Alpha-Missense\\u003cbr\\u003evalue=%{x}\\u003cbr\\u003eDMS_id=%{y}\\u003cextra\\u003e\\u003c\\u002fextra\\u003e\",\"legendgroup\":\"Alpha-Missense\",\"marker\":{\"color\":\"#EF553B\",\"symbol\":\"circle\"},\"mode\":\"markers\",\"name\":\"Alpha-Missense\",\"orientation\":\"h\",\"showlegend\":true,\"x\":[0.0802401075160408,0.5806200212629288,0.2191227501435648,0.1836108051431387,0.30368527490157,0.3445769112322158,0.4182954024530929,0.4505181797619582,0.4150250615185993,0.4969304233081572,0.536148971068221,0.539246823134548,0.4325992712602728,0.3654446721048526,0.4986229949547539,0.4949006334131868,0.3625861815670031,0.5373778661904163,0.5677306993244723,0.694925811860491,0.5377334947401656,0.5886282602815189,0.584715826831515,0.1996627364461767,0.2526150571230843,0.4602922568120447,0.5607593908077135,0.4835286590072852,0.43014930986357,0.5576300117796028,0.7045548471669476,0.5435128446243891,0.3896022677002642,0.4475469379573326,0.5025165505685956,0.6341094381210263,0.617439165961678,0.551699480906166,0.5614221344048748,0.5650762680251498,0.4713258236758643,0.5803696578446942,0.4688253755846746,0.7352730167964082,0.3517883186332384,0.5628495410447633,0.5700170016793253,0.5982776581959092,0.780098125492694,0.4346563359416529,0.7641901292666416,0.4803687713188464,0.3856493517344284,0.6623985443240489,0.6102449805772618,0.6484148954965274,0.5399103474446839,0.6364517423377265,0.5965991108636907,0.6134921466966755,0.7059001960328869,0.8131386988436397,0.4505143288237697,0.6709288612360055,0.651552762541071,0.7717277644991574,0.6038329601336795,0.5530908455422907,0.7719642473940604,0.4177547366250582,0.5449720174949133,0.8162059199200633,0.5137198095967725,0.6194783355154183,0.4953238358621771,0.4665296470894985,0.6168273937801945,0.6459467316528785,0.6197958456423037,0.6007859358920048,0.5109638954167716,0.4426370818375096,0.0533959139107653,0.750251570720492,0.4710565029735217],\"xaxis\":\"x\",\"y\":[\"A0A1I9GEU1_NEIME_Kennouche_2019\",\"BRCA1_HUMAN_Findlay_2018\",\"MK01_HUMAN_Brenan_2016\",\"CALM1_HUMAN_Weile_2017\",\"TPK1_HUMAN_Weile_2017\",\"ENV_HV1BR_Haddox_2016\",\"HSP82_YEAST_Flynn_2019\",\"I6TAH8_I68A0_Doud_2015\",\"MSH2_HUMAN_Jia_2020\",\"NCAP_I34A1_Doud_2015\",\"POLG_CXB3N_Mattenberger_2021\",\"A4D664_9INFA_Soh_CCL141_2019\",\"VKOR1_HUMAN_Chiasson_activity_2020\",\"UBE4B_MOUSE_Starita_2013\",\"A0A140D2T1_ZIKV_Sourisseau_growth_2019\",\"AACC1_PSEAI_Dandage_2018\",\"REV_HV1H2_Fernandes_2016\",\"PTEN_HUMAN_Mighell_2018\",\"A0A2Z5U3Z0_9INFA_Wu_2014\",\"R1AB_SARS2_Flynn_growth_2022\",\"CCDB_ECOLI_Tripathi_2016\",\"C6KNH7_9INFA_Lee_2018\",\"PA_I34A1_Wu_2015\",\"GCN4_YEAST_Staller_induction_2018\",\"SYUA_HUMAN_Newberry_2020\",\"TAT_HV1BR_Fernandes_2016\",\"TPMT_HUMAN_Matreyek_2018\",\"PTEN_HUMAN_Matreyek_2021\",\"F7YBW8_MESOW_Aakre_2015\",\"ADRB2_HUMAN_Jones_2020\",\"P53_HUMAN_Kotler_2018\",\"SC6A4_HUMAN_Young_2021\",\"ENV_HV1B9_DuenasDecamp_2016\",\"ESTA_BACSU_Nutschel_2020\",\"P53_HUMAN_Giacomelli_NULL_Etoposide_2018\",\"A0A2Z5U3Z0_9INFA_Doud_2016\",\"B3VI55_LIPST_Klesmith_2015\",\"SUMO1_HUMAN_Weile_2017\",\"A0A192B1T2_9HIV1_Haddox_2018\",\"Q2N0S5_9HIV1_Haddox_2018\",\"DYR_ECOLI_Thompson_plusLon_2019\",\"BLAT_ECOLX_Deng_2012\",\"P53_HUMAN_Giacomelli_NULL_Nutlin_2018\",\"Q59976_STRSQ_Romero_2015\",\"KCNH2_HUMAN_Kozek_2020\",\"UBC9_HUMAN_Weile_2017\",\"SRC_HUMAN_Ahler_CD_2019\",\"CP2C9_HUMAN_Amorosi_abundance_2021\",\"BLAT_ECOLX_Jacquier_2013\",\"TPOR_HUMAN_Bridgford_S505N_2020\",\"MTH3_HAEAE_Rockah-Shmuel_2015\",\"VKOR1_HUMAN_Chiasson_abundance_2020\",\"YAP1_HUMAN_Araya_2012\",\"GAL4_YEAST_Kitzman_2015\",\"DLG4_RAT_McLaughlin_2012\",\"CP2C9_HUMAN_Amorosi_activity_2021\",\"RL401_YEAST_Mavor_2016\",\"NRAM_I33A0_Jiang_standard_2016\",\"HSP82_YEAST_Mishra_2016\",\"AMIE_PSEAE_Wrenbeck_2017\",\"KKA2_KLEPN_Melnikov_2014\",\"BLAT_ECOLX_Firnberg_2014\",\"RASH_HUMAN_Bandaru_2017\",\"NUD15_HUMAN_Suiter_2020\",\"SPIKE_SARS2_Starr_expr_2020\",\"GFP_AEQVI_Sarkisyan_2016\",\"HIS7_YEAST_Pokusaeva_2019\",\"RL401_YEAST_Roscoe_2014\",\"A4GRB6_PSEAI_Chen_2020\",\"TRPC_THEMA_Chan_2017\",\"SPIKE_SARS2_Starr_bind_2020\",\"BLAT_ECOLX_Stiffler_2015\",\"P53_HUMAN_Giacomelli_WT_Nutlin_2018\",\"TRPC_SACS2_Chan_2017\",\"GRB2_HUMAN_Faure_2021\",\"CAPSD_AAV2S_Sinai_substitutions_2021\",\"IF1_ECOLI_Kelsic_2016\",\"DLG4_HUMAN_Faure_2021\",\"RL401_YEAST_Roscoe_2013\",\"P84126_THETH_Chan_2017\",\"CCDB_ECOLI_Adkar_2012\",\"A4_HUMAN_Seuma_2021\",\"TADBP_HUMAN_Bolognesi_2019\",\"PABP_YEAST_Melamed_2013\",\"SPG1_STRSG_Olson_2014\"],\"yaxis\":\"y\",\"type\":\"scatter\"},{\"hovertemplate\":\"variable=Tranception_L_no_retrieval\\u003cbr\\u003evalue=%{x}\\u003cbr\\u003eDMS_id=%{y}\\u003cextra\\u003e\\u003c\\u002fextra\\u003e\",\"legendgroup\":\"Tranception_L_no_retrieval\",\"marker\":{\"color\":\"#00cc96\",\"symbol\":\"circle\"},\"mode\":\"markers\",\"name\":\"Tranception_L_no_retrieval\",\"orientation\":\"h\",\"showlegend\":true,\"x\":[0.099,0.409,0.004,0.291,0.301,0.358,0.322,0.337,0.281,0.415,0.355,0.404,0.37,0.262,0.272,0.417,0.24,0.299,0.519,0.216,0.424,0.392,0.541,0.265,0.181,0.203,0.411,0.343,0.433,0.506,0.42,0.491,0.404,0.261,0.355,0.523,0.555,0.329,0.514,0.406,0.347,0.373,0.36,0.634,0.511,0.428,0.348,0.569,0.508,0.419,0.665,0.505,0.217,0.325,0.307,0.572,0.368,0.551,0.505,0.405,0.586,0.48,0.377,0.575,0.383,0.629,0.585,0.351,0.629,0.448,0.355,0.475,0.408,0.558,0.404,0.492,0.527,0.58,0.427,0.536,0.31,0.363,0.121,0.64,0.279],\"xaxis\":\"x\",\"y\":[\"A0A1I9GEU1_NEIME_Kennouche_2019\",\"BRCA1_HUMAN_Findlay_2018\",\"MK01_HUMAN_Brenan_2016\",\"CALM1_HUMAN_Weile_2017\",\"TPK1_HUMAN_Weile_2017\",\"ENV_HV1BR_Haddox_2016\",\"HSP82_YEAST_Flynn_2019\",\"I6TAH8_I68A0_Doud_2015\",\"MSH2_HUMAN_Jia_2020\",\"NCAP_I34A1_Doud_2015\",\"POLG_CXB3N_Mattenberger_2021\",\"A4D664_9INFA_Soh_CCL141_2019\",\"VKOR1_HUMAN_Chiasson_activity_2020\",\"UBE4B_MOUSE_Starita_2013\",\"A0A140D2T1_ZIKV_Sourisseau_growth_2019\",\"AACC1_PSEAI_Dandage_2018\",\"REV_HV1H2_Fernandes_2016\",\"PTEN_HUMAN_Mighell_2018\",\"A0A2Z5U3Z0_9INFA_Wu_2014\",\"R1AB_SARS2_Flynn_growth_2022\",\"CCDB_ECOLI_Tripathi_2016\",\"C6KNH7_9INFA_Lee_2018\",\"PA_I34A1_Wu_2015\",\"GCN4_YEAST_Staller_induction_2018\",\"SYUA_HUMAN_Newberry_2020\",\"TAT_HV1BR_Fernandes_2016\",\"TPMT_HUMAN_Matreyek_2018\",\"PTEN_HUMAN_Matreyek_2021\",\"F7YBW8_MESOW_Aakre_2015\",\"ADRB2_HUMAN_Jones_2020\",\"P53_HUMAN_Kotler_2018\",\"SC6A4_HUMAN_Young_2021\",\"ENV_HV1B9_DuenasDecamp_2016\",\"ESTA_BACSU_Nutschel_2020\",\"P53_HUMAN_Giacomelli_NULL_Etoposide_2018\",\"A0A2Z5U3Z0_9INFA_Doud_2016\",\"B3VI55_LIPST_Klesmith_2015\",\"SUMO1_HUMAN_Weile_2017\",\"A0A192B1T2_9HIV1_Haddox_2018\",\"Q2N0S5_9HIV1_Haddox_2018\",\"DYR_ECOLI_Thompson_plusLon_2019\",\"BLAT_ECOLX_Deng_2012\",\"P53_HUMAN_Giacomelli_NULL_Nutlin_2018\",\"Q59976_STRSQ_Romero_2015\",\"KCNH2_HUMAN_Kozek_2020\",\"UBC9_HUMAN_Weile_2017\",\"SRC_HUMAN_Ahler_CD_2019\",\"CP2C9_HUMAN_Amorosi_abundance_2021\",\"BLAT_ECOLX_Jacquier_2013\",\"TPOR_HUMAN_Bridgford_S505N_2020\",\"MTH3_HAEAE_Rockah-Shmuel_2015\",\"VKOR1_HUMAN_Chiasson_abundance_2020\",\"YAP1_HUMAN_Araya_2012\",\"GAL4_YEAST_Kitzman_2015\",\"DLG4_RAT_McLaughlin_2012\",\"CP2C9_HUMAN_Amorosi_activity_2021\",\"RL401_YEAST_Mavor_2016\",\"NRAM_I33A0_Jiang_standard_2016\",\"HSP82_YEAST_Mishra_2016\",\"AMIE_PSEAE_Wrenbeck_2017\",\"KKA2_KLEPN_Melnikov_2014\",\"BLAT_ECOLX_Firnberg_2014\",\"RASH_HUMAN_Bandaru_2017\",\"NUD15_HUMAN_Suiter_2020\",\"SPIKE_SARS2_Starr_expr_2020\",\"GFP_AEQVI_Sarkisyan_2016\",\"HIS7_YEAST_Pokusaeva_2019\",\"RL401_YEAST_Roscoe_2014\",\"A4GRB6_PSEAI_Chen_2020\",\"TRPC_THEMA_Chan_2017\",\"SPIKE_SARS2_Starr_bind_2020\",\"BLAT_ECOLX_Stiffler_2015\",\"P53_HUMAN_Giacomelli_WT_Nutlin_2018\",\"TRPC_SACS2_Chan_2017\",\"GRB2_HUMAN_Faure_2021\",\"CAPSD_AAV2S_Sinai_substitutions_2021\",\"IF1_ECOLI_Kelsic_2016\",\"DLG4_HUMAN_Faure_2021\",\"RL401_YEAST_Roscoe_2013\",\"P84126_THETH_Chan_2017\",\"CCDB_ECOLI_Adkar_2012\",\"A4_HUMAN_Seuma_2021\",\"TADBP_HUMAN_Bolognesi_2019\",\"PABP_YEAST_Melamed_2013\",\"SPG1_STRSG_Olson_2014\"],\"yaxis\":\"y\",\"type\":\"scatter\"},{\"hovertemplate\":\"variable=Tranception_L_retrieval\\u003cbr\\u003evalue=%{x}\\u003cbr\\u003eDMS_id=%{y}\\u003cextra\\u003e\\u003c\\u002fextra\\u003e\",\"legendgroup\":\"Tranception_L_retrieval\",\"marker\":{\"color\":\"#ab63fa\",\"symbol\":\"circle\"},\"mode\":\"markers\",\"name\":\"Tranception_L_retrieval\",\"orientation\":\"h\",\"showlegend\":true,\"x\":[0.057,0.514,0.093,0.266,0.305,0.362,0.346,0.348,0.346,0.424,0.413,0.393,0.401,0.39,0.351,0.466,0.236,0.418,0.541,0.401,0.532,0.433,0.572,0.278,0.159,0.237,0.478,0.412,0.425,0.533,0.564,0.53,0.407,0.326,0.4,0.537,0.527,0.41,0.513,0.501,0.423,0.473,0.379,0.657,0.538,0.475,0.492,0.624,0.647,0.451,0.638,0.548,0.359,0.557,0.443,0.638,0.398,0.621,0.528,0.438,0.588,0.637,0.45,0.604,0.367,0.672,0.616,0.408,0.652,0.438,0.317,0.629,0.433,0.591,0.436,0.473,0.495,0.667,0.449,0.547,0.458,0.452,0.121,0.688,0.289],\"xaxis\":\"x\",\"y\":[\"A0A1I9GEU1_NEIME_Kennouche_2019\",\"BRCA1_HUMAN_Findlay_2018\",\"MK01_HUMAN_Brenan_2016\",\"CALM1_HUMAN_Weile_2017\",\"TPK1_HUMAN_Weile_2017\",\"ENV_HV1BR_Haddox_2016\",\"HSP82_YEAST_Flynn_2019\",\"I6TAH8_I68A0_Doud_2015\",\"MSH2_HUMAN_Jia_2020\",\"NCAP_I34A1_Doud_2015\",\"POLG_CXB3N_Mattenberger_2021\",\"A4D664_9INFA_Soh_CCL141_2019\",\"VKOR1_HUMAN_Chiasson_activity_2020\",\"UBE4B_MOUSE_Starita_2013\",\"A0A140D2T1_ZIKV_Sourisseau_growth_2019\",\"AACC1_PSEAI_Dandage_2018\",\"REV_HV1H2_Fernandes_2016\",\"PTEN_HUMAN_Mighell_2018\",\"A0A2Z5U3Z0_9INFA_Wu_2014\",\"R1AB_SARS2_Flynn_growth_2022\",\"CCDB_ECOLI_Tripathi_2016\",\"C6KNH7_9INFA_Lee_2018\",\"PA_I34A1_Wu_2015\",\"GCN4_YEAST_Staller_induction_2018\",\"SYUA_HUMAN_Newberry_2020\",\"TAT_HV1BR_Fernandes_2016\",\"TPMT_HUMAN_Matreyek_2018\",\"PTEN_HUMAN_Matreyek_2021\",\"F7YBW8_MESOW_Aakre_2015\",\"ADRB2_HUMAN_Jones_2020\",\"P53_HUMAN_Kotler_2018\",\"SC6A4_HUMAN_Young_2021\",\"ENV_HV1B9_DuenasDecamp_2016\",\"ESTA_BACSU_Nutschel_2020\",\"P53_HUMAN_Giacomelli_NULL_Etoposide_2018\",\"A0A2Z5U3Z0_9INFA_Doud_2016\",\"B3VI55_LIPST_Klesmith_2015\",\"SUMO1_HUMAN_Weile_2017\",\"A0A192B1T2_9HIV1_Haddox_2018\",\"Q2N0S5_9HIV1_Haddox_2018\",\"DYR_ECOLI_Thompson_plusLon_2019\",\"BLAT_ECOLX_Deng_2012\",\"P53_HUMAN_Giacomelli_NULL_Nutlin_2018\",\"Q59976_STRSQ_Romero_2015\",\"KCNH2_HUMAN_Kozek_2020\",\"UBC9_HUMAN_Weile_2017\",\"SRC_HUMAN_Ahler_CD_2019\",\"CP2C9_HUMAN_Amorosi_abundance_2021\",\"BLAT_ECOLX_Jacquier_2013\",\"TPOR_HUMAN_Bridgford_S505N_2020\",\"MTH3_HAEAE_Rockah-Shmuel_2015\",\"VKOR1_HUMAN_Chiasson_abundance_2020\",\"YAP1_HUMAN_Araya_2012\",\"GAL4_YEAST_Kitzman_2015\",\"DLG4_RAT_McLaughlin_2012\",\"CP2C9_HUMAN_Amorosi_activity_2021\",\"RL401_YEAST_Mavor_2016\",\"NRAM_I33A0_Jiang_standard_2016\",\"HSP82_YEAST_Mishra_2016\",\"AMIE_PSEAE_Wrenbeck_2017\",\"KKA2_KLEPN_Melnikov_2014\",\"BLAT_ECOLX_Firnberg_2014\",\"RASH_HUMAN_Bandaru_2017\",\"NUD15_HUMAN_Suiter_2020\",\"SPIKE_SARS2_Starr_expr_2020\",\"GFP_AEQVI_Sarkisyan_2016\",\"HIS7_YEAST_Pokusaeva_2019\",\"RL401_YEAST_Roscoe_2014\",\"A4GRB6_PSEAI_Chen_2020\",\"TRPC_THEMA_Chan_2017\",\"SPIKE_SARS2_Starr_bind_2020\",\"BLAT_ECOLX_Stiffler_2015\",\"P53_HUMAN_Giacomelli_WT_Nutlin_2018\",\"TRPC_SACS2_Chan_2017\",\"GRB2_HUMAN_Faure_2021\",\"CAPSD_AAV2S_Sinai_substitutions_2021\",\"IF1_ECOLI_Kelsic_2016\",\"DLG4_HUMAN_Faure_2021\",\"RL401_YEAST_Roscoe_2013\",\"P84126_THETH_Chan_2017\",\"CCDB_ECOLI_Adkar_2012\",\"A4_HUMAN_Seuma_2021\",\"TADBP_HUMAN_Bolognesi_2019\",\"PABP_YEAST_Melamed_2013\",\"SPG1_STRSG_Olson_2014\"],\"yaxis\":\"y\",\"type\":\"scatter\"},{\"hovertemplate\":\"variable=EVE_single\\u003cbr\\u003evalue=%{x}\\u003cbr\\u003eDMS_id=%{y}\\u003cextra\\u003e\\u003c\\u002fextra\\u003e\",\"legendgroup\":\"EVE_single\",\"marker\":{\"color\":\"#FFA15A\",\"symbol\":\"circle\"},\"mode\":\"markers\",\"name\":\"EVE_single\",\"orientation\":\"h\",\"showlegend\":true,\"x\":[0.053,0.424,0.223,0.238,0.23,0.339,0.352,0.364,0.383,0.363,0.46,0.409,0.413,0.463,0.394,0.487,0.216,0.536,0.506,0.6,0.517,0.433,0.539,0.242,0.131,0.319,0.499,0.397,0.428,0.497,0.555,0.504,0.388,0.387,0.432,0.545,0.481,0.48,0.509,0.495,0.476,0.507,0.383,0.654,0.211,0.508,0.496,0.596,0.703,0.288,0.696,0.437,0.449,0.486,0.526,0.616,0.38,0.584,0.543,0.477,0.599,0.709,0.466,0.591,0.445,0.679,0.533,0.331,0.623,0.416,0.249,0.711,0.479,0.575,0.54,0.346,0.527,0.609,0.43,0.564,0.528,0.305,0.08,0.654,0.247],\"xaxis\":\"x\",\"y\":[\"A0A1I9GEU1_NEIME_Kennouche_2019\",\"BRCA1_HUMAN_Findlay_2018\",\"MK01_HUMAN_Brenan_2016\",\"CALM1_HUMAN_Weile_2017\",\"TPK1_HUMAN_Weile_2017\",\"ENV_HV1BR_Haddox_2016\",\"HSP82_YEAST_Flynn_2019\",\"I6TAH8_I68A0_Doud_2015\",\"MSH2_HUMAN_Jia_2020\",\"NCAP_I34A1_Doud_2015\",\"POLG_CXB3N_Mattenberger_2021\",\"A4D664_9INFA_Soh_CCL141_2019\",\"VKOR1_HUMAN_Chiasson_activity_2020\",\"UBE4B_MOUSE_Starita_2013\",\"A0A140D2T1_ZIKV_Sourisseau_growth_2019\",\"AACC1_PSEAI_Dandage_2018\",\"REV_HV1H2_Fernandes_2016\",\"PTEN_HUMAN_Mighell_2018\",\"A0A2Z5U3Z0_9INFA_Wu_2014\",\"R1AB_SARS2_Flynn_growth_2022\",\"CCDB_ECOLI_Tripathi_2016\",\"C6KNH7_9INFA_Lee_2018\",\"PA_I34A1_Wu_2015\",\"GCN4_YEAST_Staller_induction_2018\",\"SYUA_HUMAN_Newberry_2020\",\"TAT_HV1BR_Fernandes_2016\",\"TPMT_HUMAN_Matreyek_2018\",\"PTEN_HUMAN_Matreyek_2021\",\"F7YBW8_MESOW_Aakre_2015\",\"ADRB2_HUMAN_Jones_2020\",\"P53_HUMAN_Kotler_2018\",\"SC6A4_HUMAN_Young_2021\",\"ENV_HV1B9_DuenasDecamp_2016\",\"ESTA_BACSU_Nutschel_2020\",\"P53_HUMAN_Giacomelli_NULL_Etoposide_2018\",\"A0A2Z5U3Z0_9INFA_Doud_2016\",\"B3VI55_LIPST_Klesmith_2015\",\"SUMO1_HUMAN_Weile_2017\",\"A0A192B1T2_9HIV1_Haddox_2018\",\"Q2N0S5_9HIV1_Haddox_2018\",\"DYR_ECOLI_Thompson_plusLon_2019\",\"BLAT_ECOLX_Deng_2012\",\"P53_HUMAN_Giacomelli_NULL_Nutlin_2018\",\"Q59976_STRSQ_Romero_2015\",\"KCNH2_HUMAN_Kozek_2020\",\"UBC9_HUMAN_Weile_2017\",\"SRC_HUMAN_Ahler_CD_2019\",\"CP2C9_HUMAN_Amorosi_abundance_2021\",\"BLAT_ECOLX_Jacquier_2013\",\"TPOR_HUMAN_Bridgford_S505N_2020\",\"MTH3_HAEAE_Rockah-Shmuel_2015\",\"VKOR1_HUMAN_Chiasson_abundance_2020\",\"YAP1_HUMAN_Araya_2012\",\"GAL4_YEAST_Kitzman_2015\",\"DLG4_RAT_McLaughlin_2012\",\"CP2C9_HUMAN_Amorosi_activity_2021\",\"RL401_YEAST_Mavor_2016\",\"NRAM_I33A0_Jiang_standard_2016\",\"HSP82_YEAST_Mishra_2016\",\"AMIE_PSEAE_Wrenbeck_2017\",\"KKA2_KLEPN_Melnikov_2014\",\"BLAT_ECOLX_Firnberg_2014\",\"RASH_HUMAN_Bandaru_2017\",\"NUD15_HUMAN_Suiter_2020\",\"SPIKE_SARS2_Starr_expr_2020\",\"GFP_AEQVI_Sarkisyan_2016\",\"HIS7_YEAST_Pokusaeva_2019\",\"RL401_YEAST_Roscoe_2014\",\"A4GRB6_PSEAI_Chen_2020\",\"TRPC_THEMA_Chan_2017\",\"SPIKE_SARS2_Starr_bind_2020\",\"BLAT_ECOLX_Stiffler_2015\",\"P53_HUMAN_Giacomelli_WT_Nutlin_2018\",\"TRPC_SACS2_Chan_2017\",\"GRB2_HUMAN_Faure_2021\",\"CAPSD_AAV2S_Sinai_substitutions_2021\",\"IF1_ECOLI_Kelsic_2016\",\"DLG4_HUMAN_Faure_2021\",\"RL401_YEAST_Roscoe_2013\",\"P84126_THETH_Chan_2017\",\"CCDB_ECOLI_Adkar_2012\",\"A4_HUMAN_Seuma_2021\",\"TADBP_HUMAN_Bolognesi_2019\",\"PABP_YEAST_Melamed_2013\",\"SPG1_STRSG_Olson_2014\"],\"yaxis\":\"y\",\"type\":\"scatter\"},{\"hovertemplate\":\"variable=ESM1v_single\\u003cbr\\u003evalue=%{x}\\u003cbr\\u003eDMS_id=%{y}\\u003cextra\\u003e\\u003c\\u002fextra\\u003e\",\"legendgroup\":\"ESM1v_single\",\"marker\":{\"color\":\"#19d3f3\",\"symbol\":\"circle\"},\"mode\":\"markers\",\"name\":\"ESM1v_single\",\"orientation\":\"h\",\"showlegend\":true,\"x\":[0.068,0.404,0.167,0.235,0.27,0.32,0.351,0.018,0.38,0.019,-0.059,0.026,0.427,0.447,-0.052,0.483,0.245,0.469,0.461,-0.03,0.435,0.428,0.054,0.272,0.242,0.343,0.517,0.409,0.382,0.526,0.538,0.531,0.415,0.305,0.457,0.516,0.537,0.467,0.492,0.509,0.416,0.501,0.447,0.519,0.244,0.477,0.561,0.588,0.656,0.368,0.692,0.447,0.28,0.458,0.557,0.642,0.285,0.162,0.547,0.613,0.597,0.665,0.36,0.6,-0.023,0.098,0.411,0.24,0.647,0.478,-0.064,0.668,0.496,0.611,0.455,0.196,0.54,0.55,0.307,0.552,0.351,0.309,0.051,0.662,0.237],\"xaxis\":\"x\",\"y\":[\"A0A1I9GEU1_NEIME_Kennouche_2019\",\"BRCA1_HUMAN_Findlay_2018\",\"MK01_HUMAN_Brenan_2016\",\"CALM1_HUMAN_Weile_2017\",\"TPK1_HUMAN_Weile_2017\",\"ENV_HV1BR_Haddox_2016\",\"HSP82_YEAST_Flynn_2019\",\"I6TAH8_I68A0_Doud_2015\",\"MSH2_HUMAN_Jia_2020\",\"NCAP_I34A1_Doud_2015\",\"POLG_CXB3N_Mattenberger_2021\",\"A4D664_9INFA_Soh_CCL141_2019\",\"VKOR1_HUMAN_Chiasson_activity_2020\",\"UBE4B_MOUSE_Starita_2013\",\"A0A140D2T1_ZIKV_Sourisseau_growth_2019\",\"AACC1_PSEAI_Dandage_2018\",\"REV_HV1H2_Fernandes_2016\",\"PTEN_HUMAN_Mighell_2018\",\"A0A2Z5U3Z0_9INFA_Wu_2014\",\"R1AB_SARS2_Flynn_growth_2022\",\"CCDB_ECOLI_Tripathi_2016\",\"C6KNH7_9INFA_Lee_2018\",\"PA_I34A1_Wu_2015\",\"GCN4_YEAST_Staller_induction_2018\",\"SYUA_HUMAN_Newberry_2020\",\"TAT_HV1BR_Fernandes_2016\",\"TPMT_HUMAN_Matreyek_2018\",\"PTEN_HUMAN_Matreyek_2021\",\"F7YBW8_MESOW_Aakre_2015\",\"ADRB2_HUMAN_Jones_2020\",\"P53_HUMAN_Kotler_2018\",\"SC6A4_HUMAN_Young_2021\",\"ENV_HV1B9_DuenasDecamp_2016\",\"ESTA_BACSU_Nutschel_2020\",\"P53_HUMAN_Giacomelli_NULL_Etoposide_2018\",\"A0A2Z5U3Z0_9INFA_Doud_2016\",\"B3VI55_LIPST_Klesmith_2015\",\"SUMO1_HUMAN_Weile_2017\",\"A0A192B1T2_9HIV1_Haddox_2018\",\"Q2N0S5_9HIV1_Haddox_2018\",\"DYR_ECOLI_Thompson_plusLon_2019\",\"BLAT_ECOLX_Deng_2012\",\"P53_HUMAN_Giacomelli_NULL_Nutlin_2018\",\"Q59976_STRSQ_Romero_2015\",\"KCNH2_HUMAN_Kozek_2020\",\"UBC9_HUMAN_Weile_2017\",\"SRC_HUMAN_Ahler_CD_2019\",\"CP2C9_HUMAN_Amorosi_abundance_2021\",\"BLAT_ECOLX_Jacquier_2013\",\"TPOR_HUMAN_Bridgford_S505N_2020\",\"MTH3_HAEAE_Rockah-Shmuel_2015\",\"VKOR1_HUMAN_Chiasson_abundance_2020\",\"YAP1_HUMAN_Araya_2012\",\"GAL4_YEAST_Kitzman_2015\",\"DLG4_RAT_McLaughlin_2012\",\"CP2C9_HUMAN_Amorosi_activity_2021\",\"RL401_YEAST_Mavor_2016\",\"NRAM_I33A0_Jiang_standard_2016\",\"HSP82_YEAST_Mishra_2016\",\"AMIE_PSEAE_Wrenbeck_2017\",\"KKA2_KLEPN_Melnikov_2014\",\"BLAT_ECOLX_Firnberg_2014\",\"RASH_HUMAN_Bandaru_2017\",\"NUD15_HUMAN_Suiter_2020\",\"SPIKE_SARS2_Starr_expr_2020\",\"GFP_AEQVI_Sarkisyan_2016\",\"HIS7_YEAST_Pokusaeva_2019\",\"RL401_YEAST_Roscoe_2014\",\"A4GRB6_PSEAI_Chen_2020\",\"TRPC_THEMA_Chan_2017\",\"SPIKE_SARS2_Starr_bind_2020\",\"BLAT_ECOLX_Stiffler_2015\",\"P53_HUMAN_Giacomelli_WT_Nutlin_2018\",\"TRPC_SACS2_Chan_2017\",\"GRB2_HUMAN_Faure_2021\",\"CAPSD_AAV2S_Sinai_substitutions_2021\",\"IF1_ECOLI_Kelsic_2016\",\"DLG4_HUMAN_Faure_2021\",\"RL401_YEAST_Roscoe_2013\",\"P84126_THETH_Chan_2017\",\"CCDB_ECOLI_Adkar_2012\",\"A4_HUMAN_Seuma_2021\",\"TADBP_HUMAN_Bolognesi_2019\",\"PABP_YEAST_Melamed_2013\",\"SPG1_STRSG_Olson_2014\"],\"yaxis\":\"y\",\"type\":\"scatter\"}],                        {\"template\":{\"data\":{\"histogram2dcontour\":[{\"type\":\"histogram2dcontour\",\"colorbar\":{\"outlinewidth\":0,\"ticks\":\"\"},\"colorscale\":[[0.0,\"#0d0887\"],[0.1111111111111111,\"#46039f\"],[0.2222222222222222,\"#7201a8\"],[0.3333333333333333,\"#9c179e\"],[0.4444444444444444,\"#bd3786\"],[0.5555555555555556,\"#d8576b\"],[0.6666666666666666,\"#ed7953\"],[0.7777777777777778,\"#fb9f3a\"],[0.8888888888888888,\"#fdca26\"],[1.0,\"#f0f921\"]]}],\"choropleth\":[{\"type\":\"choropleth\",\"colorbar\":{\"outlinewidth\":0,\"ticks\":\"\"}}],\"histogram2d\":[{\"type\":\"histogram2d\",\"colorbar\":{\"outlinewidth\":0,\"ticks\":\"\"},\"colorscale\":[[0.0,\"#0d0887\"],[0.1111111111111111,\"#46039f\"],[0.2222222222222222,\"#7201a8\"],[0.3333333333333333,\"#9c179e\"],[0.4444444444444444,\"#bd3786\"],[0.5555555555555556,\"#d8576b\"],[0.6666666666666666,\"#ed7953\"],[0.7777777777777778,\"#fb9f3a\"],[0.8888888888888888,\"#fdca26\"],[1.0,\"#f0f921\"]]}],\"heatmap\":[{\"type\":\"heatmap\",\"colorbar\":{\"outlinewidth\":0,\"ticks\":\"\"},\"colorscale\":[[0.0,\"#0d0887\"],[0.1111111111111111,\"#46039f\"],[0.2222222222222222,\"#7201a8\"],[0.3333333333333333,\"#9c179e\"],[0.4444444444444444,\"#bd3786\"],[0.5555555555555556,\"#d8576b\"],[0.6666666666666666,\"#ed7953\"],[0.7777777777777778,\"#fb9f3a\"],[0.8888888888888888,\"#fdca26\"],[1.0,\"#f0f921\"]]}],\"heatmapgl\":[{\"type\":\"heatmapgl\",\"colorbar\":{\"outlinewidth\":0,\"ticks\":\"\"},\"colorscale\":[[0.0,\"#0d0887\"],[0.1111111111111111,\"#46039f\"],[0.2222222222222222,\"#7201a8\"],[0.3333333333333333,\"#9c179e\"],[0.4444444444444444,\"#bd3786\"],[0.5555555555555556,\"#d8576b\"],[0.6666666666666666,\"#ed7953\"],[0.7777777777777778,\"#fb9f3a\"],[0.8888888888888888,\"#fdca26\"],[1.0,\"#f0f921\"]]}],\"contourcarpet\":[{\"type\":\"contourcarpet\",\"colorbar\":{\"outlinewidth\":0,\"ticks\":\"\"}}],\"contour\":[{\"type\":\"contour\",\"colorbar\":{\"outlinewidth\":0,\"ticks\":\"\"},\"colorscale\":[[0.0,\"#0d0887\"],[0.1111111111111111,\"#46039f\"],[0.2222222222222222,\"#7201a8\"],[0.3333333333333333,\"#9c179e\"],[0.4444444444444444,\"#bd3786\"],[0.5555555555555556,\"#d8576b\"],[0.6666666666666666,\"#ed7953\"],[0.7777777777777778,\"#fb9f3a\"],[0.8888888888888888,\"#fdca26\"],[1.0,\"#f0f921\"]]}],\"surface\":[{\"type\":\"surface\",\"colorbar\":{\"outlinewidth\":0,\"ticks\":\"\"},\"colorscale\":[[0.0,\"#0d0887\"],[0.1111111111111111,\"#46039f\"],[0.2222222222222222,\"#7201a8\"],[0.3333333333333333,\"#9c179e\"],[0.4444444444444444,\"#bd3786\"],[0.5555555555555556,\"#d8576b\"],[0.6666666666666666,\"#ed7953\"],[0.7777777777777778,\"#fb9f3a\"],[0.8888888888888888,\"#fdca26\"],[1.0,\"#f0f921\"]]}],\"mesh3d\":[{\"type\":\"mesh3d\",\"colorbar\":{\"outlinewidth\":0,\"ticks\":\"\"}}],\"scatter\":[{\"fillpattern\":{\"fillmode\":\"overlay\",\"size\":10,\"solidity\":0.2},\"type\":\"scatter\"}],\"parcoords\":[{\"type\":\"parcoords\",\"line\":{\"colorbar\":{\"outlinewidth\":0,\"ticks\":\"\"}}}],\"scatterpolargl\":[{\"type\":\"scatterpolargl\",\"marker\":{\"colorbar\":{\"outlinewidth\":0,\"ticks\":\"\"}}}],\"bar\":[{\"error_x\":{\"color\":\"#2a3f5f\"},\"error_y\":{\"color\":\"#2a3f5f\"},\"marker\":{\"line\":{\"color\":\"#E5ECF6\",\"width\":0.5},\"pattern\":{\"fillmode\":\"overlay\",\"size\":10,\"solidity\":0.2}},\"type\":\"bar\"}],\"scattergeo\":[{\"type\":\"scattergeo\",\"marker\":{\"colorbar\":{\"outlinewidth\":0,\"ticks\":\"\"}}}],\"scatterpolar\":[{\"type\":\"scatterpolar\",\"marker\":{\"colorbar\":{\"outlinewidth\":0,\"ticks\":\"\"}}}],\"histogram\":[{\"marker\":{\"pattern\":{\"fillmode\":\"overlay\",\"size\":10,\"solidity\":0.2}},\"type\":\"histogram\"}],\"scattergl\":[{\"type\":\"scattergl\",\"marker\":{\"colorbar\":{\"outlinewidth\":0,\"ticks\":\"\"}}}],\"scatter3d\":[{\"type\":\"scatter3d\",\"line\":{\"colorbar\":{\"outlinewidth\":0,\"ticks\":\"\"}},\"marker\":{\"colorbar\":{\"outlinewidth\":0,\"ticks\":\"\"}}}],\"scattermapbox\":[{\"type\":\"scattermapbox\",\"marker\":{\"colorbar\":{\"outlinewidth\":0,\"ticks\":\"\"}}}],\"scatterternary\":[{\"type\":\"scatterternary\",\"marker\":{\"colorbar\":{\"outlinewidth\":0,\"ticks\":\"\"}}}],\"scattercarpet\":[{\"type\":\"scattercarpet\",\"marker\":{\"colorbar\":{\"outlinewidth\":0,\"ticks\":\"\"}}}],\"carpet\":[{\"aaxis\":{\"endlinecolor\":\"#2a3f5f\",\"gridcolor\":\"white\",\"linecolor\":\"white\",\"minorgridcolor\":\"white\",\"startlinecolor\":\"#2a3f5f\"},\"baxis\":{\"endlinecolor\":\"#2a3f5f\",\"gridcolor\":\"white\",\"linecolor\":\"white\",\"minorgridcolor\":\"white\",\"startlinecolor\":\"#2a3f5f\"},\"type\":\"carpet\"}],\"table\":[{\"cells\":{\"fill\":{\"color\":\"#EBF0F8\"},\"line\":{\"color\":\"white\"}},\"header\":{\"fill\":{\"color\":\"#C8D4E3\"},\"line\":{\"color\":\"white\"}},\"type\":\"table\"}],\"barpolar\":[{\"marker\":{\"line\":{\"color\":\"#E5ECF6\",\"width\":0.5},\"pattern\":{\"fillmode\":\"overlay\",\"size\":10,\"solidity\":0.2}},\"type\":\"barpolar\"}],\"pie\":[{\"automargin\":true,\"type\":\"pie\"}]},\"layout\":{\"autotypenumbers\":\"strict\",\"colorway\":[\"#636efa\",\"#EF553B\",\"#00cc96\",\"#ab63fa\",\"#FFA15A\",\"#19d3f3\",\"#FF6692\",\"#B6E880\",\"#FF97FF\",\"#FECB52\"],\"font\":{\"color\":\"#2a3f5f\"},\"hovermode\":\"closest\",\"hoverlabel\":{\"align\":\"left\"},\"paper_bgcolor\":\"white\",\"plot_bgcolor\":\"#E5ECF6\",\"polar\":{\"bgcolor\":\"#E5ECF6\",\"angularaxis\":{\"gridcolor\":\"white\",\"linecolor\":\"white\",\"ticks\":\"\"},\"radialaxis\":{\"gridcolor\":\"white\",\"linecolor\":\"white\",\"ticks\":\"\"}},\"ternary\":{\"bgcolor\":\"#E5ECF6\",\"aaxis\":{\"gridcolor\":\"white\",\"linecolor\":\"white\",\"ticks\":\"\"},\"baxis\":{\"gridcolor\":\"white\",\"linecolor\":\"white\",\"ticks\":\"\"},\"caxis\":{\"gridcolor\":\"white\",\"linecolor\":\"white\",\"ticks\":\"\"}},\"coloraxis\":{\"colorbar\":{\"outlinewidth\":0,\"ticks\":\"\"}},\"colorscale\":{\"sequential\":[[0.0,\"#0d0887\"],[0.1111111111111111,\"#46039f\"],[0.2222222222222222,\"#7201a8\"],[0.3333333333333333,\"#9c179e\"],[0.4444444444444444,\"#bd3786\"],[0.5555555555555556,\"#d8576b\"],[0.6666666666666666,\"#ed7953\"],[0.7777777777777778,\"#fb9f3a\"],[0.8888888888888888,\"#fdca26\"],[1.0,\"#f0f921\"]],\"sequentialminus\":[[0.0,\"#0d0887\"],[0.1111111111111111,\"#46039f\"],[0.2222222222222222,\"#7201a8\"],[0.3333333333333333,\"#9c179e\"],[0.4444444444444444,\"#bd3786\"],[0.5555555555555556,\"#d8576b\"],[0.6666666666666666,\"#ed7953\"],[0.7777777777777778,\"#fb9f3a\"],[0.8888888888888888,\"#fdca26\"],[1.0,\"#f0f921\"]],\"diverging\":[[0,\"#8e0152\"],[0.1,\"#c51b7d\"],[0.2,\"#de77ae\"],[0.3,\"#f1b6da\"],[0.4,\"#fde0ef\"],[0.5,\"#f7f7f7\"],[0.6,\"#e6f5d0\"],[0.7,\"#b8e186\"],[0.8,\"#7fbc41\"],[0.9,\"#4d9221\"],[1,\"#276419\"]]},\"xaxis\":{\"gridcolor\":\"white\",\"linecolor\":\"white\",\"ticks\":\"\",\"title\":{\"standoff\":15},\"zerolinecolor\":\"white\",\"automargin\":true,\"zerolinewidth\":2},\"yaxis\":{\"gridcolor\":\"white\",\"linecolor\":\"white\",\"ticks\":\"\",\"title\":{\"standoff\":15},\"zerolinecolor\":\"white\",\"automargin\":true,\"zerolinewidth\":2},\"scene\":{\"xaxis\":{\"backgroundcolor\":\"#E5ECF6\",\"gridcolor\":\"white\",\"linecolor\":\"white\",\"showbackground\":true,\"ticks\":\"\",\"zerolinecolor\":\"white\",\"gridwidth\":2},\"yaxis\":{\"backgroundcolor\":\"#E5ECF6\",\"gridcolor\":\"white\",\"linecolor\":\"white\",\"showbackground\":true,\"ticks\":\"\",\"zerolinecolor\":\"white\",\"gridwidth\":2},\"zaxis\":{\"backgroundcolor\":\"#E5ECF6\",\"gridcolor\":\"white\",\"linecolor\":\"white\",\"showbackground\":true,\"ticks\":\"\",\"zerolinecolor\":\"white\",\"gridwidth\":2}},\"shapedefaults\":{\"line\":{\"color\":\"#2a3f5f\"}},\"annotationdefaults\":{\"arrowcolor\":\"#2a3f5f\",\"arrowhead\":0,\"arrowwidth\":1},\"geo\":{\"bgcolor\":\"white\",\"landcolor\":\"#E5ECF6\",\"subunitcolor\":\"white\",\"showland\":true,\"showlakes\":true,\"lakecolor\":\"white\"},\"title\":{\"x\":0.05},\"mapbox\":{\"style\":\"light\"}}},\"xaxis\":{\"anchor\":\"y\",\"domain\":[0.0,1.0],\"title\":{\"text\":\"Correlation\"}},\"yaxis\":{\"anchor\":\"x\",\"domain\":[0.0,1.0],\"title\":{\"text\":\"DMS_id\"}},\"legend\":{\"title\":{\"text\":\"variable\"},\"tracegroupgap\":0},\"margin\":{\"t\":60},\"width\":800,\"height\":1800},                        {\"responsive\": true}                    ).then(function(){\n",
       "                            \n",
       "var gd = document.getElementById('7612ed12-33c9-4ed4-8460-a9590fb30a3f');\n",
       "var x = new MutationObserver(function (mutations, observer) {{\n",
       "        var display = window.getComputedStyle(gd).display;\n",
       "        if (!display || display === 'none') {{\n",
       "            console.log([gd, 'removed!']);\n",
       "            Plotly.purge(gd);\n",
       "            observer.disconnect();\n",
       "        }}\n",
       "}});\n",
       "\n",
       "// Listen for the removal of the full notebook cells\n",
       "var notebookContainer = gd.closest('#notebook-container');\n",
       "if (notebookContainer) {{\n",
       "    x.observe(notebookContainer, {childList: true});\n",
       "}}\n",
       "\n",
       "// Listen for the clearing of the current output cell\n",
       "var outputEl = gd.closest('.output');\n",
       "if (outputEl) {{\n",
       "    x.observe(outputEl, {childList: true});\n",
       "}}\n",
       "\n",
       "                        })                };                });            </script>        </div>"
      ]
     },
     "metadata": {},
     "output_type": "display_data"
    }
   ],
   "source": [
    "# Figure 5\n",
    "df_sorted = df.copy()\n",
    "df_sorted.sort_values(by='Ours', inplace=True, ignore_index=True)\n",
    "fig = px.scatter(df_sorted, y='DMS_id', x=df_sorted.columns[1:])\n",
    "fig.update_layout(xaxis_title='Correlation', width=800, height=1800)\n",
    "# pio.write_image(fig, 'all.png',scale=2)"
   ]
  },
  {
   "cell_type": "code",
   "execution_count": 23,
   "metadata": {},
   "outputs": [],
   "source": [
    "ref = pd.read_csv('reference/reference_main.csv')\n",
    "ref = ref[['DMS_id', 'seq_len', 'includes_multiple_mutants', 'DMS_total_number_mutants']]\n",
    "ref = pd.merge(left=ref, right=df, how='right', on='DMS_id')\n",
    "ref.drop(['ESM1v_single'], axis=1, inplace=True)"
   ]
  },
  {
   "cell_type": "code",
   "execution_count": 24,
   "metadata": {},
   "outputs": [
    {
     "name": "stderr",
     "output_type": "stream",
     "text": [
      "/tmp/ipykernel_586316/2679039974.py:8: SettingWithCopyWarning:\n",
      "\n",
      "\n",
      "A value is trying to be set on a copy of a slice from a DataFrame\n",
      "\n",
      "See the caveats in the documentation: https://pandas.pydata.org/pandas-docs/stable/user_guide/indexing.html#returning-a-view-versus-a-copy\n",
      "\n",
      "/tmp/ipykernel_586316/2679039974.py:11: SettingWithCopyWarning:\n",
      "\n",
      "\n",
      "A value is trying to be set on a copy of a slice from a DataFrame\n",
      "\n",
      "See the caveats in the documentation: https://pandas.pydata.org/pandas-docs/stable/user_guide/indexing.html#returning-a-view-versus-a-copy\n",
      "\n"
     ]
    },
    {
     "data": {
      "application/vnd.plotly.v1+json": {
       "config": {
        "plotlyServerURL": "https://plot.ly"
       },
       "data": [
        {
         "legendgroup": "True",
         "line": {
          "color": "blue"
         },
         "meanline": {
          "visible": true
         },
         "name": "True",
         "scalegroup": "True",
         "side": "negative",
         "type": "violin",
         "width": 0.5,
         "x": [
          "Ours",
          "Ours",
          "Ours",
          "Ours",
          "Ours",
          "Ours",
          "Ours",
          "Ours",
          "Ours",
          "Ours",
          "Ours",
          "Alpha-Missense",
          "Alpha-Missense",
          "Alpha-Missense",
          "Alpha-Missense",
          "Alpha-Missense",
          "Alpha-Missense",
          "Alpha-Missense",
          "Alpha-Missense",
          "Alpha-Missense",
          "Alpha-Missense",
          "Alpha-Missense",
          "Tranception_L_no_retrieval",
          "Tranception_L_no_retrieval",
          "Tranception_L_no_retrieval",
          "Tranception_L_no_retrieval",
          "Tranception_L_no_retrieval",
          "Tranception_L_no_retrieval",
          "Tranception_L_no_retrieval",
          "Tranception_L_no_retrieval",
          "Tranception_L_no_retrieval",
          "Tranception_L_no_retrieval",
          "Tranception_L_no_retrieval",
          "Tranception_L_retrieval",
          "Tranception_L_retrieval",
          "Tranception_L_retrieval",
          "Tranception_L_retrieval",
          "Tranception_L_retrieval",
          "Tranception_L_retrieval",
          "Tranception_L_retrieval",
          "Tranception_L_retrieval",
          "Tranception_L_retrieval",
          "Tranception_L_retrieval",
          "Tranception_L_retrieval",
          "EVE_single",
          "EVE_single",
          "EVE_single",
          "EVE_single",
          "EVE_single",
          "EVE_single",
          "EVE_single",
          "EVE_single",
          "EVE_single",
          "EVE_single",
          "EVE_single"
         ],
         "y": [
          0.479,
          0.527,
          0.633,
          0.691,
          0.692,
          0.727,
          0.73,
          0.746,
          0.784,
          0.801,
          0.832,
          0.1996627364461767,
          0.43014930986357,
          0.3856493517344284,
          0.7717277644991574,
          0.6038329601336795,
          0.4953238358621771,
          0.4665296470894985,
          0.6459467316528785,
          0.4426370818375096,
          0.750251570720492,
          0.4710565029735217,
          0.265,
          0.433,
          0.217,
          0.629,
          0.585,
          0.404,
          0.492,
          0.58,
          0.363,
          0.64,
          0.279,
          0.278,
          0.425,
          0.359,
          0.672,
          0.616,
          0.436,
          0.473,
          0.667,
          0.452,
          0.688,
          0.289,
          0.242,
          0.428,
          0.449,
          0.679,
          0.533,
          0.54,
          0.346,
          0.609,
          0.305,
          0.654,
          0.247
         ]
        },
        {
         "legendgroup": "False",
         "line": {
          "color": "orange"
         },
         "meanline": {
          "visible": true
         },
         "name": "False",
         "scalegroup": "False",
         "side": "positive",
         "type": "violin",
         "width": 0.5,
         "x": [
          "Ours",
          "Ours",
          "Ours",
          "Ours",
          "Ours",
          "Ours",
          "Ours",
          "Ours",
          "Ours",
          "Ours",
          "Ours",
          "Ours",
          "Ours",
          "Ours",
          "Ours",
          "Ours",
          "Ours",
          "Ours",
          "Ours",
          "Ours",
          "Ours",
          "Ours",
          "Ours",
          "Ours",
          "Ours",
          "Ours",
          "Ours",
          "Ours",
          "Ours",
          "Ours",
          "Ours",
          "Ours",
          "Ours",
          "Ours",
          "Ours",
          "Ours",
          "Ours",
          "Ours",
          "Ours",
          "Ours",
          "Ours",
          "Ours",
          "Ours",
          "Ours",
          "Ours",
          "Ours",
          "Ours",
          "Ours",
          "Ours",
          "Ours",
          "Ours",
          "Ours",
          "Ours",
          "Ours",
          "Ours",
          "Ours",
          "Ours",
          "Ours",
          "Ours",
          "Ours",
          "Ours",
          "Ours",
          "Ours",
          "Ours",
          "Ours",
          "Ours",
          "Ours",
          "Ours",
          "Ours",
          "Ours",
          "Ours",
          "Ours",
          "Ours",
          "Ours",
          "Alpha-Missense",
          "Alpha-Missense",
          "Alpha-Missense",
          "Alpha-Missense",
          "Alpha-Missense",
          "Alpha-Missense",
          "Alpha-Missense",
          "Alpha-Missense",
          "Alpha-Missense",
          "Alpha-Missense",
          "Alpha-Missense",
          "Alpha-Missense",
          "Alpha-Missense",
          "Alpha-Missense",
          "Alpha-Missense",
          "Alpha-Missense",
          "Alpha-Missense",
          "Alpha-Missense",
          "Alpha-Missense",
          "Alpha-Missense",
          "Alpha-Missense",
          "Alpha-Missense",
          "Alpha-Missense",
          "Alpha-Missense",
          "Alpha-Missense",
          "Alpha-Missense",
          "Alpha-Missense",
          "Alpha-Missense",
          "Alpha-Missense",
          "Alpha-Missense",
          "Alpha-Missense",
          "Alpha-Missense",
          "Alpha-Missense",
          "Alpha-Missense",
          "Alpha-Missense",
          "Alpha-Missense",
          "Alpha-Missense",
          "Alpha-Missense",
          "Alpha-Missense",
          "Alpha-Missense",
          "Alpha-Missense",
          "Alpha-Missense",
          "Alpha-Missense",
          "Alpha-Missense",
          "Alpha-Missense",
          "Alpha-Missense",
          "Alpha-Missense",
          "Alpha-Missense",
          "Alpha-Missense",
          "Alpha-Missense",
          "Alpha-Missense",
          "Alpha-Missense",
          "Alpha-Missense",
          "Alpha-Missense",
          "Alpha-Missense",
          "Alpha-Missense",
          "Alpha-Missense",
          "Alpha-Missense",
          "Alpha-Missense",
          "Alpha-Missense",
          "Alpha-Missense",
          "Alpha-Missense",
          "Alpha-Missense",
          "Alpha-Missense",
          "Alpha-Missense",
          "Alpha-Missense",
          "Alpha-Missense",
          "Alpha-Missense",
          "Alpha-Missense",
          "Alpha-Missense",
          "Alpha-Missense",
          "Alpha-Missense",
          "Alpha-Missense",
          "Alpha-Missense",
          "Tranception_L_no_retrieval",
          "Tranception_L_no_retrieval",
          "Tranception_L_no_retrieval",
          "Tranception_L_no_retrieval",
          "Tranception_L_no_retrieval",
          "Tranception_L_no_retrieval",
          "Tranception_L_no_retrieval",
          "Tranception_L_no_retrieval",
          "Tranception_L_no_retrieval",
          "Tranception_L_no_retrieval",
          "Tranception_L_no_retrieval",
          "Tranception_L_no_retrieval",
          "Tranception_L_no_retrieval",
          "Tranception_L_no_retrieval",
          "Tranception_L_no_retrieval",
          "Tranception_L_no_retrieval",
          "Tranception_L_no_retrieval",
          "Tranception_L_no_retrieval",
          "Tranception_L_no_retrieval",
          "Tranception_L_no_retrieval",
          "Tranception_L_no_retrieval",
          "Tranception_L_no_retrieval",
          "Tranception_L_no_retrieval",
          "Tranception_L_no_retrieval",
          "Tranception_L_no_retrieval",
          "Tranception_L_no_retrieval",
          "Tranception_L_no_retrieval",
          "Tranception_L_no_retrieval",
          "Tranception_L_no_retrieval",
          "Tranception_L_no_retrieval",
          "Tranception_L_no_retrieval",
          "Tranception_L_no_retrieval",
          "Tranception_L_no_retrieval",
          "Tranception_L_no_retrieval",
          "Tranception_L_no_retrieval",
          "Tranception_L_no_retrieval",
          "Tranception_L_no_retrieval",
          "Tranception_L_no_retrieval",
          "Tranception_L_no_retrieval",
          "Tranception_L_no_retrieval",
          "Tranception_L_no_retrieval",
          "Tranception_L_no_retrieval",
          "Tranception_L_no_retrieval",
          "Tranception_L_no_retrieval",
          "Tranception_L_no_retrieval",
          "Tranception_L_no_retrieval",
          "Tranception_L_no_retrieval",
          "Tranception_L_no_retrieval",
          "Tranception_L_no_retrieval",
          "Tranception_L_no_retrieval",
          "Tranception_L_no_retrieval",
          "Tranception_L_no_retrieval",
          "Tranception_L_no_retrieval",
          "Tranception_L_no_retrieval",
          "Tranception_L_no_retrieval",
          "Tranception_L_no_retrieval",
          "Tranception_L_no_retrieval",
          "Tranception_L_no_retrieval",
          "Tranception_L_no_retrieval",
          "Tranception_L_no_retrieval",
          "Tranception_L_no_retrieval",
          "Tranception_L_no_retrieval",
          "Tranception_L_no_retrieval",
          "Tranception_L_no_retrieval",
          "Tranception_L_no_retrieval",
          "Tranception_L_no_retrieval",
          "Tranception_L_no_retrieval",
          "Tranception_L_no_retrieval",
          "Tranception_L_no_retrieval",
          "Tranception_L_no_retrieval",
          "Tranception_L_no_retrieval",
          "Tranception_L_no_retrieval",
          "Tranception_L_no_retrieval",
          "Tranception_L_no_retrieval",
          "Tranception_L_retrieval",
          "Tranception_L_retrieval",
          "Tranception_L_retrieval",
          "Tranception_L_retrieval",
          "Tranception_L_retrieval",
          "Tranception_L_retrieval",
          "Tranception_L_retrieval",
          "Tranception_L_retrieval",
          "Tranception_L_retrieval",
          "Tranception_L_retrieval",
          "Tranception_L_retrieval",
          "Tranception_L_retrieval",
          "Tranception_L_retrieval",
          "Tranception_L_retrieval",
          "Tranception_L_retrieval",
          "Tranception_L_retrieval",
          "Tranception_L_retrieval",
          "Tranception_L_retrieval",
          "Tranception_L_retrieval",
          "Tranception_L_retrieval",
          "Tranception_L_retrieval",
          "Tranception_L_retrieval",
          "Tranception_L_retrieval",
          "Tranception_L_retrieval",
          "Tranception_L_retrieval",
          "Tranception_L_retrieval",
          "Tranception_L_retrieval",
          "Tranception_L_retrieval",
          "Tranception_L_retrieval",
          "Tranception_L_retrieval",
          "Tranception_L_retrieval",
          "Tranception_L_retrieval",
          "Tranception_L_retrieval",
          "Tranception_L_retrieval",
          "Tranception_L_retrieval",
          "Tranception_L_retrieval",
          "Tranception_L_retrieval",
          "Tranception_L_retrieval",
          "Tranception_L_retrieval",
          "Tranception_L_retrieval",
          "Tranception_L_retrieval",
          "Tranception_L_retrieval",
          "Tranception_L_retrieval",
          "Tranception_L_retrieval",
          "Tranception_L_retrieval",
          "Tranception_L_retrieval",
          "Tranception_L_retrieval",
          "Tranception_L_retrieval",
          "Tranception_L_retrieval",
          "Tranception_L_retrieval",
          "Tranception_L_retrieval",
          "Tranception_L_retrieval",
          "Tranception_L_retrieval",
          "Tranception_L_retrieval",
          "Tranception_L_retrieval",
          "Tranception_L_retrieval",
          "Tranception_L_retrieval",
          "Tranception_L_retrieval",
          "Tranception_L_retrieval",
          "Tranception_L_retrieval",
          "Tranception_L_retrieval",
          "Tranception_L_retrieval",
          "Tranception_L_retrieval",
          "Tranception_L_retrieval",
          "Tranception_L_retrieval",
          "Tranception_L_retrieval",
          "Tranception_L_retrieval",
          "Tranception_L_retrieval",
          "Tranception_L_retrieval",
          "Tranception_L_retrieval",
          "Tranception_L_retrieval",
          "Tranception_L_retrieval",
          "Tranception_L_retrieval",
          "Tranception_L_retrieval",
          "EVE_single",
          "EVE_single",
          "EVE_single",
          "EVE_single",
          "EVE_single",
          "EVE_single",
          "EVE_single",
          "EVE_single",
          "EVE_single",
          "EVE_single",
          "EVE_single",
          "EVE_single",
          "EVE_single",
          "EVE_single",
          "EVE_single",
          "EVE_single",
          "EVE_single",
          "EVE_single",
          "EVE_single",
          "EVE_single",
          "EVE_single",
          "EVE_single",
          "EVE_single",
          "EVE_single",
          "EVE_single",
          "EVE_single",
          "EVE_single",
          "EVE_single",
          "EVE_single",
          "EVE_single",
          "EVE_single",
          "EVE_single",
          "EVE_single",
          "EVE_single",
          "EVE_single",
          "EVE_single",
          "EVE_single",
          "EVE_single",
          "EVE_single",
          "EVE_single",
          "EVE_single",
          "EVE_single",
          "EVE_single",
          "EVE_single",
          "EVE_single",
          "EVE_single",
          "EVE_single",
          "EVE_single",
          "EVE_single",
          "EVE_single",
          "EVE_single",
          "EVE_single",
          "EVE_single",
          "EVE_single",
          "EVE_single",
          "EVE_single",
          "EVE_single",
          "EVE_single",
          "EVE_single",
          "EVE_single",
          "EVE_single",
          "EVE_single",
          "EVE_single",
          "EVE_single",
          "EVE_single",
          "EVE_single",
          "EVE_single",
          "EVE_single",
          "EVE_single",
          "EVE_single",
          "EVE_single",
          "EVE_single",
          "EVE_single",
          "EVE_single"
         ],
         "y": [
          0.074,
          0.143,
          0.218,
          0.289,
          0.296,
          0.362,
          0.369,
          0.373,
          0.378,
          0.381,
          0.381,
          0.382,
          0.383,
          0.391,
          0.416,
          0.427,
          0.427,
          0.44,
          0.46,
          0.461,
          0.463,
          0.474,
          0.479,
          0.483,
          0.494,
          0.508,
          0.519,
          0.529,
          0.53,
          0.531,
          0.531,
          0.542,
          0.548,
          0.552,
          0.554,
          0.554,
          0.555,
          0.565,
          0.572,
          0.575,
          0.58,
          0.587,
          0.602,
          0.603,
          0.608,
          0.62,
          0.623,
          0.625,
          0.63,
          0.63,
          0.652,
          0.659,
          0.661,
          0.663,
          0.666,
          0.667,
          0.669,
          0.67,
          0.672,
          0.677,
          0.681,
          0.684,
          0.696,
          0.701,
          0.704,
          0.705,
          0.705,
          0.71,
          0.726,
          0.734,
          0.75,
          0.759,
          0.774,
          0.788,
          0.0802401075160408,
          0.5806200212629288,
          0.2191227501435648,
          0.1836108051431387,
          0.30368527490157,
          0.3445769112322158,
          0.4182954024530929,
          0.4505181797619582,
          0.4150250615185993,
          0.536148971068221,
          0.4969304233081572,
          0.539246823134548,
          0.4325992712602728,
          0.3654446721048526,
          0.4986229949547539,
          0.4949006334131868,
          0.3625861815670031,
          0.5373778661904163,
          0.5677306993244723,
          0.694925811860491,
          0.5377334947401656,
          0.5886282602815189,
          0.584715826831515,
          0.2526150571230843,
          0.4602922568120447,
          0.5607593908077135,
          0.4835286590072852,
          0.5576300117796028,
          0.7045548471669476,
          0.3896022677002642,
          0.5435128446243891,
          0.4475469379573326,
          0.5025165505685956,
          0.6341094381210263,
          0.617439165961678,
          0.551699480906166,
          0.5614221344048748,
          0.5650762680251498,
          0.4713258236758643,
          0.5803696578446942,
          0.4688253755846746,
          0.7352730167964082,
          0.3517883186332384,
          0.5628495410447633,
          0.5700170016793253,
          0.5982776581959092,
          0.780098125492694,
          0.4346563359416529,
          0.7641901292666416,
          0.4803687713188464,
          0.6623985443240489,
          0.6102449805772618,
          0.6484148954965274,
          0.5399103474446839,
          0.6364517423377265,
          0.5965991108636907,
          0.6134921466966755,
          0.7059001960328869,
          0.8131386988436397,
          0.4505143288237697,
          0.6709288612360055,
          0.651552762541071,
          0.5530908455422907,
          0.7719642473940604,
          0.4177547366250582,
          0.5449720174949133,
          0.8162059199200633,
          0.5137198095967725,
          0.6194783355154183,
          0.6168273937801945,
          0.6197958456423037,
          0.6007859358920048,
          0.5109638954167716,
          0.0533959139107653,
          0.099,
          0.409,
          0.004,
          0.291,
          0.301,
          0.358,
          0.322,
          0.337,
          0.281,
          0.355,
          0.415,
          0.404,
          0.37,
          0.262,
          0.272,
          0.417,
          0.24,
          0.299,
          0.519,
          0.216,
          0.424,
          0.392,
          0.541,
          0.181,
          0.203,
          0.411,
          0.343,
          0.506,
          0.42,
          0.404,
          0.491,
          0.261,
          0.355,
          0.523,
          0.555,
          0.329,
          0.514,
          0.406,
          0.347,
          0.373,
          0.36,
          0.634,
          0.511,
          0.428,
          0.348,
          0.569,
          0.508,
          0.419,
          0.665,
          0.505,
          0.325,
          0.307,
          0.572,
          0.368,
          0.551,
          0.505,
          0.405,
          0.586,
          0.48,
          0.377,
          0.575,
          0.383,
          0.351,
          0.629,
          0.448,
          0.355,
          0.475,
          0.408,
          0.558,
          0.527,
          0.427,
          0.536,
          0.31,
          0.121,
          0.057,
          0.514,
          0.093,
          0.266,
          0.305,
          0.362,
          0.346,
          0.348,
          0.346,
          0.413,
          0.424,
          0.393,
          0.401,
          0.39,
          0.351,
          0.466,
          0.236,
          0.418,
          0.541,
          0.401,
          0.532,
          0.433,
          0.572,
          0.159,
          0.237,
          0.478,
          0.412,
          0.533,
          0.564,
          0.407,
          0.53,
          0.326,
          0.4,
          0.537,
          0.527,
          0.41,
          0.513,
          0.501,
          0.423,
          0.473,
          0.379,
          0.657,
          0.538,
          0.475,
          0.492,
          0.624,
          0.647,
          0.451,
          0.638,
          0.548,
          0.557,
          0.443,
          0.638,
          0.398,
          0.621,
          0.528,
          0.438,
          0.588,
          0.637,
          0.45,
          0.604,
          0.367,
          0.408,
          0.652,
          0.438,
          0.317,
          0.629,
          0.433,
          0.591,
          0.495,
          0.449,
          0.547,
          0.458,
          0.121,
          0.053,
          0.424,
          0.223,
          0.238,
          0.23,
          0.339,
          0.352,
          0.364,
          0.383,
          0.46,
          0.363,
          0.409,
          0.413,
          0.463,
          0.394,
          0.487,
          0.216,
          0.536,
          0.506,
          0.6,
          0.517,
          0.433,
          0.539,
          0.131,
          0.319,
          0.499,
          0.397,
          0.497,
          0.555,
          0.388,
          0.504,
          0.387,
          0.432,
          0.545,
          0.481,
          0.48,
          0.509,
          0.495,
          0.476,
          0.507,
          0.383,
          0.654,
          0.211,
          0.508,
          0.496,
          0.596,
          0.703,
          0.288,
          0.696,
          0.437,
          0.486,
          0.526,
          0.616,
          0.38,
          0.584,
          0.543,
          0.477,
          0.599,
          0.709,
          0.466,
          0.591,
          0.445,
          0.331,
          0.623,
          0.416,
          0.249,
          0.711,
          0.479,
          0.575,
          0.527,
          0.43,
          0.564,
          0.528,
          0.08
         ]
        }
       ],
       "layout": {
        "template": {
         "data": {
          "bar": [
           {
            "error_x": {
             "color": "#2a3f5f"
            },
            "error_y": {
             "color": "#2a3f5f"
            },
            "marker": {
             "line": {
              "color": "#E5ECF6",
              "width": 0.5
             },
             "pattern": {
              "fillmode": "overlay",
              "size": 10,
              "solidity": 0.2
             }
            },
            "type": "bar"
           }
          ],
          "barpolar": [
           {
            "marker": {
             "line": {
              "color": "#E5ECF6",
              "width": 0.5
             },
             "pattern": {
              "fillmode": "overlay",
              "size": 10,
              "solidity": 0.2
             }
            },
            "type": "barpolar"
           }
          ],
          "carpet": [
           {
            "aaxis": {
             "endlinecolor": "#2a3f5f",
             "gridcolor": "white",
             "linecolor": "white",
             "minorgridcolor": "white",
             "startlinecolor": "#2a3f5f"
            },
            "baxis": {
             "endlinecolor": "#2a3f5f",
             "gridcolor": "white",
             "linecolor": "white",
             "minorgridcolor": "white",
             "startlinecolor": "#2a3f5f"
            },
            "type": "carpet"
           }
          ],
          "choropleth": [
           {
            "colorbar": {
             "outlinewidth": 0,
             "ticks": ""
            },
            "type": "choropleth"
           }
          ],
          "contour": [
           {
            "colorbar": {
             "outlinewidth": 0,
             "ticks": ""
            },
            "colorscale": [
             [
              0,
              "#0d0887"
             ],
             [
              0.1111111111111111,
              "#46039f"
             ],
             [
              0.2222222222222222,
              "#7201a8"
             ],
             [
              0.3333333333333333,
              "#9c179e"
             ],
             [
              0.4444444444444444,
              "#bd3786"
             ],
             [
              0.5555555555555556,
              "#d8576b"
             ],
             [
              0.6666666666666666,
              "#ed7953"
             ],
             [
              0.7777777777777778,
              "#fb9f3a"
             ],
             [
              0.8888888888888888,
              "#fdca26"
             ],
             [
              1,
              "#f0f921"
             ]
            ],
            "type": "contour"
           }
          ],
          "contourcarpet": [
           {
            "colorbar": {
             "outlinewidth": 0,
             "ticks": ""
            },
            "type": "contourcarpet"
           }
          ],
          "heatmap": [
           {
            "colorbar": {
             "outlinewidth": 0,
             "ticks": ""
            },
            "colorscale": [
             [
              0,
              "#0d0887"
             ],
             [
              0.1111111111111111,
              "#46039f"
             ],
             [
              0.2222222222222222,
              "#7201a8"
             ],
             [
              0.3333333333333333,
              "#9c179e"
             ],
             [
              0.4444444444444444,
              "#bd3786"
             ],
             [
              0.5555555555555556,
              "#d8576b"
             ],
             [
              0.6666666666666666,
              "#ed7953"
             ],
             [
              0.7777777777777778,
              "#fb9f3a"
             ],
             [
              0.8888888888888888,
              "#fdca26"
             ],
             [
              1,
              "#f0f921"
             ]
            ],
            "type": "heatmap"
           }
          ],
          "heatmapgl": [
           {
            "colorbar": {
             "outlinewidth": 0,
             "ticks": ""
            },
            "colorscale": [
             [
              0,
              "#0d0887"
             ],
             [
              0.1111111111111111,
              "#46039f"
             ],
             [
              0.2222222222222222,
              "#7201a8"
             ],
             [
              0.3333333333333333,
              "#9c179e"
             ],
             [
              0.4444444444444444,
              "#bd3786"
             ],
             [
              0.5555555555555556,
              "#d8576b"
             ],
             [
              0.6666666666666666,
              "#ed7953"
             ],
             [
              0.7777777777777778,
              "#fb9f3a"
             ],
             [
              0.8888888888888888,
              "#fdca26"
             ],
             [
              1,
              "#f0f921"
             ]
            ],
            "type": "heatmapgl"
           }
          ],
          "histogram": [
           {
            "marker": {
             "pattern": {
              "fillmode": "overlay",
              "size": 10,
              "solidity": 0.2
             }
            },
            "type": "histogram"
           }
          ],
          "histogram2d": [
           {
            "colorbar": {
             "outlinewidth": 0,
             "ticks": ""
            },
            "colorscale": [
             [
              0,
              "#0d0887"
             ],
             [
              0.1111111111111111,
              "#46039f"
             ],
             [
              0.2222222222222222,
              "#7201a8"
             ],
             [
              0.3333333333333333,
              "#9c179e"
             ],
             [
              0.4444444444444444,
              "#bd3786"
             ],
             [
              0.5555555555555556,
              "#d8576b"
             ],
             [
              0.6666666666666666,
              "#ed7953"
             ],
             [
              0.7777777777777778,
              "#fb9f3a"
             ],
             [
              0.8888888888888888,
              "#fdca26"
             ],
             [
              1,
              "#f0f921"
             ]
            ],
            "type": "histogram2d"
           }
          ],
          "histogram2dcontour": [
           {
            "colorbar": {
             "outlinewidth": 0,
             "ticks": ""
            },
            "colorscale": [
             [
              0,
              "#0d0887"
             ],
             [
              0.1111111111111111,
              "#46039f"
             ],
             [
              0.2222222222222222,
              "#7201a8"
             ],
             [
              0.3333333333333333,
              "#9c179e"
             ],
             [
              0.4444444444444444,
              "#bd3786"
             ],
             [
              0.5555555555555556,
              "#d8576b"
             ],
             [
              0.6666666666666666,
              "#ed7953"
             ],
             [
              0.7777777777777778,
              "#fb9f3a"
             ],
             [
              0.8888888888888888,
              "#fdca26"
             ],
             [
              1,
              "#f0f921"
             ]
            ],
            "type": "histogram2dcontour"
           }
          ],
          "mesh3d": [
           {
            "colorbar": {
             "outlinewidth": 0,
             "ticks": ""
            },
            "type": "mesh3d"
           }
          ],
          "parcoords": [
           {
            "line": {
             "colorbar": {
              "outlinewidth": 0,
              "ticks": ""
             }
            },
            "type": "parcoords"
           }
          ],
          "pie": [
           {
            "automargin": true,
            "type": "pie"
           }
          ],
          "scatter": [
           {
            "fillpattern": {
             "fillmode": "overlay",
             "size": 10,
             "solidity": 0.2
            },
            "type": "scatter"
           }
          ],
          "scatter3d": [
           {
            "line": {
             "colorbar": {
              "outlinewidth": 0,
              "ticks": ""
             }
            },
            "marker": {
             "colorbar": {
              "outlinewidth": 0,
              "ticks": ""
             }
            },
            "type": "scatter3d"
           }
          ],
          "scattercarpet": [
           {
            "marker": {
             "colorbar": {
              "outlinewidth": 0,
              "ticks": ""
             }
            },
            "type": "scattercarpet"
           }
          ],
          "scattergeo": [
           {
            "marker": {
             "colorbar": {
              "outlinewidth": 0,
              "ticks": ""
             }
            },
            "type": "scattergeo"
           }
          ],
          "scattergl": [
           {
            "marker": {
             "colorbar": {
              "outlinewidth": 0,
              "ticks": ""
             }
            },
            "type": "scattergl"
           }
          ],
          "scattermapbox": [
           {
            "marker": {
             "colorbar": {
              "outlinewidth": 0,
              "ticks": ""
             }
            },
            "type": "scattermapbox"
           }
          ],
          "scatterpolar": [
           {
            "marker": {
             "colorbar": {
              "outlinewidth": 0,
              "ticks": ""
             }
            },
            "type": "scatterpolar"
           }
          ],
          "scatterpolargl": [
           {
            "marker": {
             "colorbar": {
              "outlinewidth": 0,
              "ticks": ""
             }
            },
            "type": "scatterpolargl"
           }
          ],
          "scatterternary": [
           {
            "marker": {
             "colorbar": {
              "outlinewidth": 0,
              "ticks": ""
             }
            },
            "type": "scatterternary"
           }
          ],
          "surface": [
           {
            "colorbar": {
             "outlinewidth": 0,
             "ticks": ""
            },
            "colorscale": [
             [
              0,
              "#0d0887"
             ],
             [
              0.1111111111111111,
              "#46039f"
             ],
             [
              0.2222222222222222,
              "#7201a8"
             ],
             [
              0.3333333333333333,
              "#9c179e"
             ],
             [
              0.4444444444444444,
              "#bd3786"
             ],
             [
              0.5555555555555556,
              "#d8576b"
             ],
             [
              0.6666666666666666,
              "#ed7953"
             ],
             [
              0.7777777777777778,
              "#fb9f3a"
             ],
             [
              0.8888888888888888,
              "#fdca26"
             ],
             [
              1,
              "#f0f921"
             ]
            ],
            "type": "surface"
           }
          ],
          "table": [
           {
            "cells": {
             "fill": {
              "color": "#EBF0F8"
             },
             "line": {
              "color": "white"
             }
            },
            "header": {
             "fill": {
              "color": "#C8D4E3"
             },
             "line": {
              "color": "white"
             }
            },
            "type": "table"
           }
          ]
         },
         "layout": {
          "annotationdefaults": {
           "arrowcolor": "#2a3f5f",
           "arrowhead": 0,
           "arrowwidth": 1
          },
          "autotypenumbers": "strict",
          "coloraxis": {
           "colorbar": {
            "outlinewidth": 0,
            "ticks": ""
           }
          },
          "colorscale": {
           "diverging": [
            [
             0,
             "#8e0152"
            ],
            [
             0.1,
             "#c51b7d"
            ],
            [
             0.2,
             "#de77ae"
            ],
            [
             0.3,
             "#f1b6da"
            ],
            [
             0.4,
             "#fde0ef"
            ],
            [
             0.5,
             "#f7f7f7"
            ],
            [
             0.6,
             "#e6f5d0"
            ],
            [
             0.7,
             "#b8e186"
            ],
            [
             0.8,
             "#7fbc41"
            ],
            [
             0.9,
             "#4d9221"
            ],
            [
             1,
             "#276419"
            ]
           ],
           "sequential": [
            [
             0,
             "#0d0887"
            ],
            [
             0.1111111111111111,
             "#46039f"
            ],
            [
             0.2222222222222222,
             "#7201a8"
            ],
            [
             0.3333333333333333,
             "#9c179e"
            ],
            [
             0.4444444444444444,
             "#bd3786"
            ],
            [
             0.5555555555555556,
             "#d8576b"
            ],
            [
             0.6666666666666666,
             "#ed7953"
            ],
            [
             0.7777777777777778,
             "#fb9f3a"
            ],
            [
             0.8888888888888888,
             "#fdca26"
            ],
            [
             1,
             "#f0f921"
            ]
           ],
           "sequentialminus": [
            [
             0,
             "#0d0887"
            ],
            [
             0.1111111111111111,
             "#46039f"
            ],
            [
             0.2222222222222222,
             "#7201a8"
            ],
            [
             0.3333333333333333,
             "#9c179e"
            ],
            [
             0.4444444444444444,
             "#bd3786"
            ],
            [
             0.5555555555555556,
             "#d8576b"
            ],
            [
             0.6666666666666666,
             "#ed7953"
            ],
            [
             0.7777777777777778,
             "#fb9f3a"
            ],
            [
             0.8888888888888888,
             "#fdca26"
            ],
            [
             1,
             "#f0f921"
            ]
           ]
          },
          "colorway": [
           "#636efa",
           "#EF553B",
           "#00cc96",
           "#ab63fa",
           "#FFA15A",
           "#19d3f3",
           "#FF6692",
           "#B6E880",
           "#FF97FF",
           "#FECB52"
          ],
          "font": {
           "color": "#2a3f5f"
          },
          "geo": {
           "bgcolor": "white",
           "lakecolor": "white",
           "landcolor": "#E5ECF6",
           "showlakes": true,
           "showland": true,
           "subunitcolor": "white"
          },
          "hoverlabel": {
           "align": "left"
          },
          "hovermode": "closest",
          "mapbox": {
           "style": "light"
          },
          "paper_bgcolor": "white",
          "plot_bgcolor": "#E5ECF6",
          "polar": {
           "angularaxis": {
            "gridcolor": "white",
            "linecolor": "white",
            "ticks": ""
           },
           "bgcolor": "#E5ECF6",
           "radialaxis": {
            "gridcolor": "white",
            "linecolor": "white",
            "ticks": ""
           }
          },
          "scene": {
           "xaxis": {
            "backgroundcolor": "#E5ECF6",
            "gridcolor": "white",
            "gridwidth": 2,
            "linecolor": "white",
            "showbackground": true,
            "ticks": "",
            "zerolinecolor": "white"
           },
           "yaxis": {
            "backgroundcolor": "#E5ECF6",
            "gridcolor": "white",
            "gridwidth": 2,
            "linecolor": "white",
            "showbackground": true,
            "ticks": "",
            "zerolinecolor": "white"
           },
           "zaxis": {
            "backgroundcolor": "#E5ECF6",
            "gridcolor": "white",
            "gridwidth": 2,
            "linecolor": "white",
            "showbackground": true,
            "ticks": "",
            "zerolinecolor": "white"
           }
          },
          "shapedefaults": {
           "line": {
            "color": "#2a3f5f"
           }
          },
          "ternary": {
           "aaxis": {
            "gridcolor": "white",
            "linecolor": "white",
            "ticks": ""
           },
           "baxis": {
            "gridcolor": "white",
            "linecolor": "white",
            "ticks": ""
           },
           "bgcolor": "#E5ECF6",
           "caxis": {
            "gridcolor": "white",
            "linecolor": "white",
            "ticks": ""
           }
          },
          "title": {
           "x": 0.05
          },
          "xaxis": {
           "automargin": true,
           "gridcolor": "white",
           "linecolor": "white",
           "ticks": "",
           "title": {
            "standoff": 15
           },
           "zerolinecolor": "white",
           "zerolinewidth": 2
          },
          "yaxis": {
           "automargin": true,
           "gridcolor": "white",
           "linecolor": "white",
           "ticks": "",
           "title": {
            "standoff": 15
           },
           "zerolinecolor": "white",
           "zerolinewidth": 2
          }
         }
        },
        "violingap": 0,
        "violinmode": "overlay"
       }
      },
      "text/html": [
       "<div>                            <div id=\"2699da58-d517-47e8-9bdb-da5d2fc2f941\" class=\"plotly-graph-div\" style=\"height:525px; width:100%;\"></div>            <script type=\"text/javascript\">                require([\"plotly\"], function(Plotly) {                    window.PLOTLYENV=window.PLOTLYENV || {};                                    if (document.getElementById(\"2699da58-d517-47e8-9bdb-da5d2fc2f941\")) {                    Plotly.newPlot(                        \"2699da58-d517-47e8-9bdb-da5d2fc2f941\",                        [{\"legendgroup\":\"True\",\"line\":{\"color\":\"blue\"},\"name\":\"True\",\"scalegroup\":\"True\",\"side\":\"negative\",\"width\":0.5,\"x\":[\"Ours\",\"Ours\",\"Ours\",\"Ours\",\"Ours\",\"Ours\",\"Ours\",\"Ours\",\"Ours\",\"Ours\",\"Ours\",\"Alpha-Missense\",\"Alpha-Missense\",\"Alpha-Missense\",\"Alpha-Missense\",\"Alpha-Missense\",\"Alpha-Missense\",\"Alpha-Missense\",\"Alpha-Missense\",\"Alpha-Missense\",\"Alpha-Missense\",\"Alpha-Missense\",\"Tranception_L_no_retrieval\",\"Tranception_L_no_retrieval\",\"Tranception_L_no_retrieval\",\"Tranception_L_no_retrieval\",\"Tranception_L_no_retrieval\",\"Tranception_L_no_retrieval\",\"Tranception_L_no_retrieval\",\"Tranception_L_no_retrieval\",\"Tranception_L_no_retrieval\",\"Tranception_L_no_retrieval\",\"Tranception_L_no_retrieval\",\"Tranception_L_retrieval\",\"Tranception_L_retrieval\",\"Tranception_L_retrieval\",\"Tranception_L_retrieval\",\"Tranception_L_retrieval\",\"Tranception_L_retrieval\",\"Tranception_L_retrieval\",\"Tranception_L_retrieval\",\"Tranception_L_retrieval\",\"Tranception_L_retrieval\",\"Tranception_L_retrieval\",\"EVE_single\",\"EVE_single\",\"EVE_single\",\"EVE_single\",\"EVE_single\",\"EVE_single\",\"EVE_single\",\"EVE_single\",\"EVE_single\",\"EVE_single\",\"EVE_single\"],\"y\":[0.479,0.527,0.633,0.691,0.692,0.727,0.73,0.746,0.784,0.801,0.832,0.1996627364461767,0.43014930986357,0.3856493517344284,0.7717277644991574,0.6038329601336795,0.4953238358621771,0.4665296470894985,0.6459467316528785,0.4426370818375096,0.750251570720492,0.4710565029735217,0.265,0.433,0.217,0.629,0.585,0.404,0.492,0.58,0.363,0.64,0.279,0.278,0.425,0.359,0.672,0.616,0.436,0.473,0.667,0.452,0.688,0.289,0.242,0.428,0.449,0.679,0.533,0.54,0.346,0.609,0.305,0.654,0.247],\"type\":\"violin\",\"meanline\":{\"visible\":true}},{\"legendgroup\":\"False\",\"line\":{\"color\":\"orange\"},\"name\":\"False\",\"scalegroup\":\"False\",\"side\":\"positive\",\"width\":0.5,\"x\":[\"Ours\",\"Ours\",\"Ours\",\"Ours\",\"Ours\",\"Ours\",\"Ours\",\"Ours\",\"Ours\",\"Ours\",\"Ours\",\"Ours\",\"Ours\",\"Ours\",\"Ours\",\"Ours\",\"Ours\",\"Ours\",\"Ours\",\"Ours\",\"Ours\",\"Ours\",\"Ours\",\"Ours\",\"Ours\",\"Ours\",\"Ours\",\"Ours\",\"Ours\",\"Ours\",\"Ours\",\"Ours\",\"Ours\",\"Ours\",\"Ours\",\"Ours\",\"Ours\",\"Ours\",\"Ours\",\"Ours\",\"Ours\",\"Ours\",\"Ours\",\"Ours\",\"Ours\",\"Ours\",\"Ours\",\"Ours\",\"Ours\",\"Ours\",\"Ours\",\"Ours\",\"Ours\",\"Ours\",\"Ours\",\"Ours\",\"Ours\",\"Ours\",\"Ours\",\"Ours\",\"Ours\",\"Ours\",\"Ours\",\"Ours\",\"Ours\",\"Ours\",\"Ours\",\"Ours\",\"Ours\",\"Ours\",\"Ours\",\"Ours\",\"Ours\",\"Ours\",\"Alpha-Missense\",\"Alpha-Missense\",\"Alpha-Missense\",\"Alpha-Missense\",\"Alpha-Missense\",\"Alpha-Missense\",\"Alpha-Missense\",\"Alpha-Missense\",\"Alpha-Missense\",\"Alpha-Missense\",\"Alpha-Missense\",\"Alpha-Missense\",\"Alpha-Missense\",\"Alpha-Missense\",\"Alpha-Missense\",\"Alpha-Missense\",\"Alpha-Missense\",\"Alpha-Missense\",\"Alpha-Missense\",\"Alpha-Missense\",\"Alpha-Missense\",\"Alpha-Missense\",\"Alpha-Missense\",\"Alpha-Missense\",\"Alpha-Missense\",\"Alpha-Missense\",\"Alpha-Missense\",\"Alpha-Missense\",\"Alpha-Missense\",\"Alpha-Missense\",\"Alpha-Missense\",\"Alpha-Missense\",\"Alpha-Missense\",\"Alpha-Missense\",\"Alpha-Missense\",\"Alpha-Missense\",\"Alpha-Missense\",\"Alpha-Missense\",\"Alpha-Missense\",\"Alpha-Missense\",\"Alpha-Missense\",\"Alpha-Missense\",\"Alpha-Missense\",\"Alpha-Missense\",\"Alpha-Missense\",\"Alpha-Missense\",\"Alpha-Missense\",\"Alpha-Missense\",\"Alpha-Missense\",\"Alpha-Missense\",\"Alpha-Missense\",\"Alpha-Missense\",\"Alpha-Missense\",\"Alpha-Missense\",\"Alpha-Missense\",\"Alpha-Missense\",\"Alpha-Missense\",\"Alpha-Missense\",\"Alpha-Missense\",\"Alpha-Missense\",\"Alpha-Missense\",\"Alpha-Missense\",\"Alpha-Missense\",\"Alpha-Missense\",\"Alpha-Missense\",\"Alpha-Missense\",\"Alpha-Missense\",\"Alpha-Missense\",\"Alpha-Missense\",\"Alpha-Missense\",\"Alpha-Missense\",\"Alpha-Missense\",\"Alpha-Missense\",\"Alpha-Missense\",\"Tranception_L_no_retrieval\",\"Tranception_L_no_retrieval\",\"Tranception_L_no_retrieval\",\"Tranception_L_no_retrieval\",\"Tranception_L_no_retrieval\",\"Tranception_L_no_retrieval\",\"Tranception_L_no_retrieval\",\"Tranception_L_no_retrieval\",\"Tranception_L_no_retrieval\",\"Tranception_L_no_retrieval\",\"Tranception_L_no_retrieval\",\"Tranception_L_no_retrieval\",\"Tranception_L_no_retrieval\",\"Tranception_L_no_retrieval\",\"Tranception_L_no_retrieval\",\"Tranception_L_no_retrieval\",\"Tranception_L_no_retrieval\",\"Tranception_L_no_retrieval\",\"Tranception_L_no_retrieval\",\"Tranception_L_no_retrieval\",\"Tranception_L_no_retrieval\",\"Tranception_L_no_retrieval\",\"Tranception_L_no_retrieval\",\"Tranception_L_no_retrieval\",\"Tranception_L_no_retrieval\",\"Tranception_L_no_retrieval\",\"Tranception_L_no_retrieval\",\"Tranception_L_no_retrieval\",\"Tranception_L_no_retrieval\",\"Tranception_L_no_retrieval\",\"Tranception_L_no_retrieval\",\"Tranception_L_no_retrieval\",\"Tranception_L_no_retrieval\",\"Tranception_L_no_retrieval\",\"Tranception_L_no_retrieval\",\"Tranception_L_no_retrieval\",\"Tranception_L_no_retrieval\",\"Tranception_L_no_retrieval\",\"Tranception_L_no_retrieval\",\"Tranception_L_no_retrieval\",\"Tranception_L_no_retrieval\",\"Tranception_L_no_retrieval\",\"Tranception_L_no_retrieval\",\"Tranception_L_no_retrieval\",\"Tranception_L_no_retrieval\",\"Tranception_L_no_retrieval\",\"Tranception_L_no_retrieval\",\"Tranception_L_no_retrieval\",\"Tranception_L_no_retrieval\",\"Tranception_L_no_retrieval\",\"Tranception_L_no_retrieval\",\"Tranception_L_no_retrieval\",\"Tranception_L_no_retrieval\",\"Tranception_L_no_retrieval\",\"Tranception_L_no_retrieval\",\"Tranception_L_no_retrieval\",\"Tranception_L_no_retrieval\",\"Tranception_L_no_retrieval\",\"Tranception_L_no_retrieval\",\"Tranception_L_no_retrieval\",\"Tranception_L_no_retrieval\",\"Tranception_L_no_retrieval\",\"Tranception_L_no_retrieval\",\"Tranception_L_no_retrieval\",\"Tranception_L_no_retrieval\",\"Tranception_L_no_retrieval\",\"Tranception_L_no_retrieval\",\"Tranception_L_no_retrieval\",\"Tranception_L_no_retrieval\",\"Tranception_L_no_retrieval\",\"Tranception_L_no_retrieval\",\"Tranception_L_no_retrieval\",\"Tranception_L_no_retrieval\",\"Tranception_L_no_retrieval\",\"Tranception_L_retrieval\",\"Tranception_L_retrieval\",\"Tranception_L_retrieval\",\"Tranception_L_retrieval\",\"Tranception_L_retrieval\",\"Tranception_L_retrieval\",\"Tranception_L_retrieval\",\"Tranception_L_retrieval\",\"Tranception_L_retrieval\",\"Tranception_L_retrieval\",\"Tranception_L_retrieval\",\"Tranception_L_retrieval\",\"Tranception_L_retrieval\",\"Tranception_L_retrieval\",\"Tranception_L_retrieval\",\"Tranception_L_retrieval\",\"Tranception_L_retrieval\",\"Tranception_L_retrieval\",\"Tranception_L_retrieval\",\"Tranception_L_retrieval\",\"Tranception_L_retrieval\",\"Tranception_L_retrieval\",\"Tranception_L_retrieval\",\"Tranception_L_retrieval\",\"Tranception_L_retrieval\",\"Tranception_L_retrieval\",\"Tranception_L_retrieval\",\"Tranception_L_retrieval\",\"Tranception_L_retrieval\",\"Tranception_L_retrieval\",\"Tranception_L_retrieval\",\"Tranception_L_retrieval\",\"Tranception_L_retrieval\",\"Tranception_L_retrieval\",\"Tranception_L_retrieval\",\"Tranception_L_retrieval\",\"Tranception_L_retrieval\",\"Tranception_L_retrieval\",\"Tranception_L_retrieval\",\"Tranception_L_retrieval\",\"Tranception_L_retrieval\",\"Tranception_L_retrieval\",\"Tranception_L_retrieval\",\"Tranception_L_retrieval\",\"Tranception_L_retrieval\",\"Tranception_L_retrieval\",\"Tranception_L_retrieval\",\"Tranception_L_retrieval\",\"Tranception_L_retrieval\",\"Tranception_L_retrieval\",\"Tranception_L_retrieval\",\"Tranception_L_retrieval\",\"Tranception_L_retrieval\",\"Tranception_L_retrieval\",\"Tranception_L_retrieval\",\"Tranception_L_retrieval\",\"Tranception_L_retrieval\",\"Tranception_L_retrieval\",\"Tranception_L_retrieval\",\"Tranception_L_retrieval\",\"Tranception_L_retrieval\",\"Tranception_L_retrieval\",\"Tranception_L_retrieval\",\"Tranception_L_retrieval\",\"Tranception_L_retrieval\",\"Tranception_L_retrieval\",\"Tranception_L_retrieval\",\"Tranception_L_retrieval\",\"Tranception_L_retrieval\",\"Tranception_L_retrieval\",\"Tranception_L_retrieval\",\"Tranception_L_retrieval\",\"Tranception_L_retrieval\",\"Tranception_L_retrieval\",\"EVE_single\",\"EVE_single\",\"EVE_single\",\"EVE_single\",\"EVE_single\",\"EVE_single\",\"EVE_single\",\"EVE_single\",\"EVE_single\",\"EVE_single\",\"EVE_single\",\"EVE_single\",\"EVE_single\",\"EVE_single\",\"EVE_single\",\"EVE_single\",\"EVE_single\",\"EVE_single\",\"EVE_single\",\"EVE_single\",\"EVE_single\",\"EVE_single\",\"EVE_single\",\"EVE_single\",\"EVE_single\",\"EVE_single\",\"EVE_single\",\"EVE_single\",\"EVE_single\",\"EVE_single\",\"EVE_single\",\"EVE_single\",\"EVE_single\",\"EVE_single\",\"EVE_single\",\"EVE_single\",\"EVE_single\",\"EVE_single\",\"EVE_single\",\"EVE_single\",\"EVE_single\",\"EVE_single\",\"EVE_single\",\"EVE_single\",\"EVE_single\",\"EVE_single\",\"EVE_single\",\"EVE_single\",\"EVE_single\",\"EVE_single\",\"EVE_single\",\"EVE_single\",\"EVE_single\",\"EVE_single\",\"EVE_single\",\"EVE_single\",\"EVE_single\",\"EVE_single\",\"EVE_single\",\"EVE_single\",\"EVE_single\",\"EVE_single\",\"EVE_single\",\"EVE_single\",\"EVE_single\",\"EVE_single\",\"EVE_single\",\"EVE_single\",\"EVE_single\",\"EVE_single\",\"EVE_single\",\"EVE_single\",\"EVE_single\",\"EVE_single\"],\"y\":[0.074,0.143,0.218,0.289,0.296,0.362,0.369,0.373,0.378,0.381,0.381,0.382,0.383,0.391,0.416,0.427,0.427,0.44,0.46,0.461,0.463,0.474,0.479,0.483,0.494,0.508,0.519,0.529,0.53,0.531,0.531,0.542,0.548,0.552,0.554,0.554,0.555,0.565,0.572,0.575,0.58,0.587,0.602,0.603,0.608,0.62,0.623,0.625,0.63,0.63,0.652,0.659,0.661,0.663,0.666,0.667,0.669,0.67,0.672,0.677,0.681,0.684,0.696,0.701,0.704,0.705,0.705,0.71,0.726,0.734,0.75,0.759,0.774,0.788,0.0802401075160408,0.5806200212629288,0.2191227501435648,0.1836108051431387,0.30368527490157,0.3445769112322158,0.4182954024530929,0.4505181797619582,0.4150250615185993,0.536148971068221,0.4969304233081572,0.539246823134548,0.4325992712602728,0.3654446721048526,0.4986229949547539,0.4949006334131868,0.3625861815670031,0.5373778661904163,0.5677306993244723,0.694925811860491,0.5377334947401656,0.5886282602815189,0.584715826831515,0.2526150571230843,0.4602922568120447,0.5607593908077135,0.4835286590072852,0.5576300117796028,0.7045548471669476,0.3896022677002642,0.5435128446243891,0.4475469379573326,0.5025165505685956,0.6341094381210263,0.617439165961678,0.551699480906166,0.5614221344048748,0.5650762680251498,0.4713258236758643,0.5803696578446942,0.4688253755846746,0.7352730167964082,0.3517883186332384,0.5628495410447633,0.5700170016793253,0.5982776581959092,0.780098125492694,0.4346563359416529,0.7641901292666416,0.4803687713188464,0.6623985443240489,0.6102449805772618,0.6484148954965274,0.5399103474446839,0.6364517423377265,0.5965991108636907,0.6134921466966755,0.7059001960328869,0.8131386988436397,0.4505143288237697,0.6709288612360055,0.651552762541071,0.5530908455422907,0.7719642473940604,0.4177547366250582,0.5449720174949133,0.8162059199200633,0.5137198095967725,0.6194783355154183,0.6168273937801945,0.6197958456423037,0.6007859358920048,0.5109638954167716,0.0533959139107653,0.099,0.409,0.004,0.291,0.301,0.358,0.322,0.337,0.281,0.355,0.415,0.404,0.37,0.262,0.272,0.417,0.24,0.299,0.519,0.216,0.424,0.392,0.541,0.181,0.203,0.411,0.343,0.506,0.42,0.404,0.491,0.261,0.355,0.523,0.555,0.329,0.514,0.406,0.347,0.373,0.36,0.634,0.511,0.428,0.348,0.569,0.508,0.419,0.665,0.505,0.325,0.307,0.572,0.368,0.551,0.505,0.405,0.586,0.48,0.377,0.575,0.383,0.351,0.629,0.448,0.355,0.475,0.408,0.558,0.527,0.427,0.536,0.31,0.121,0.057,0.514,0.093,0.266,0.305,0.362,0.346,0.348,0.346,0.413,0.424,0.393,0.401,0.39,0.351,0.466,0.236,0.418,0.541,0.401,0.532,0.433,0.572,0.159,0.237,0.478,0.412,0.533,0.564,0.407,0.53,0.326,0.4,0.537,0.527,0.41,0.513,0.501,0.423,0.473,0.379,0.657,0.538,0.475,0.492,0.624,0.647,0.451,0.638,0.548,0.557,0.443,0.638,0.398,0.621,0.528,0.438,0.588,0.637,0.45,0.604,0.367,0.408,0.652,0.438,0.317,0.629,0.433,0.591,0.495,0.449,0.547,0.458,0.121,0.053,0.424,0.223,0.238,0.23,0.339,0.352,0.364,0.383,0.46,0.363,0.409,0.413,0.463,0.394,0.487,0.216,0.536,0.506,0.6,0.517,0.433,0.539,0.131,0.319,0.499,0.397,0.497,0.555,0.388,0.504,0.387,0.432,0.545,0.481,0.48,0.509,0.495,0.476,0.507,0.383,0.654,0.211,0.508,0.496,0.596,0.703,0.288,0.696,0.437,0.486,0.526,0.616,0.38,0.584,0.543,0.477,0.599,0.709,0.466,0.591,0.445,0.331,0.623,0.416,0.249,0.711,0.479,0.575,0.527,0.43,0.564,0.528,0.08],\"type\":\"violin\",\"meanline\":{\"visible\":true}}],                        {\"template\":{\"data\":{\"histogram2dcontour\":[{\"type\":\"histogram2dcontour\",\"colorbar\":{\"outlinewidth\":0,\"ticks\":\"\"},\"colorscale\":[[0.0,\"#0d0887\"],[0.1111111111111111,\"#46039f\"],[0.2222222222222222,\"#7201a8\"],[0.3333333333333333,\"#9c179e\"],[0.4444444444444444,\"#bd3786\"],[0.5555555555555556,\"#d8576b\"],[0.6666666666666666,\"#ed7953\"],[0.7777777777777778,\"#fb9f3a\"],[0.8888888888888888,\"#fdca26\"],[1.0,\"#f0f921\"]]}],\"choropleth\":[{\"type\":\"choropleth\",\"colorbar\":{\"outlinewidth\":0,\"ticks\":\"\"}}],\"histogram2d\":[{\"type\":\"histogram2d\",\"colorbar\":{\"outlinewidth\":0,\"ticks\":\"\"},\"colorscale\":[[0.0,\"#0d0887\"],[0.1111111111111111,\"#46039f\"],[0.2222222222222222,\"#7201a8\"],[0.3333333333333333,\"#9c179e\"],[0.4444444444444444,\"#bd3786\"],[0.5555555555555556,\"#d8576b\"],[0.6666666666666666,\"#ed7953\"],[0.7777777777777778,\"#fb9f3a\"],[0.8888888888888888,\"#fdca26\"],[1.0,\"#f0f921\"]]}],\"heatmap\":[{\"type\":\"heatmap\",\"colorbar\":{\"outlinewidth\":0,\"ticks\":\"\"},\"colorscale\":[[0.0,\"#0d0887\"],[0.1111111111111111,\"#46039f\"],[0.2222222222222222,\"#7201a8\"],[0.3333333333333333,\"#9c179e\"],[0.4444444444444444,\"#bd3786\"],[0.5555555555555556,\"#d8576b\"],[0.6666666666666666,\"#ed7953\"],[0.7777777777777778,\"#fb9f3a\"],[0.8888888888888888,\"#fdca26\"],[1.0,\"#f0f921\"]]}],\"heatmapgl\":[{\"type\":\"heatmapgl\",\"colorbar\":{\"outlinewidth\":0,\"ticks\":\"\"},\"colorscale\":[[0.0,\"#0d0887\"],[0.1111111111111111,\"#46039f\"],[0.2222222222222222,\"#7201a8\"],[0.3333333333333333,\"#9c179e\"],[0.4444444444444444,\"#bd3786\"],[0.5555555555555556,\"#d8576b\"],[0.6666666666666666,\"#ed7953\"],[0.7777777777777778,\"#fb9f3a\"],[0.8888888888888888,\"#fdca26\"],[1.0,\"#f0f921\"]]}],\"contourcarpet\":[{\"type\":\"contourcarpet\",\"colorbar\":{\"outlinewidth\":0,\"ticks\":\"\"}}],\"contour\":[{\"type\":\"contour\",\"colorbar\":{\"outlinewidth\":0,\"ticks\":\"\"},\"colorscale\":[[0.0,\"#0d0887\"],[0.1111111111111111,\"#46039f\"],[0.2222222222222222,\"#7201a8\"],[0.3333333333333333,\"#9c179e\"],[0.4444444444444444,\"#bd3786\"],[0.5555555555555556,\"#d8576b\"],[0.6666666666666666,\"#ed7953\"],[0.7777777777777778,\"#fb9f3a\"],[0.8888888888888888,\"#fdca26\"],[1.0,\"#f0f921\"]]}],\"surface\":[{\"type\":\"surface\",\"colorbar\":{\"outlinewidth\":0,\"ticks\":\"\"},\"colorscale\":[[0.0,\"#0d0887\"],[0.1111111111111111,\"#46039f\"],[0.2222222222222222,\"#7201a8\"],[0.3333333333333333,\"#9c179e\"],[0.4444444444444444,\"#bd3786\"],[0.5555555555555556,\"#d8576b\"],[0.6666666666666666,\"#ed7953\"],[0.7777777777777778,\"#fb9f3a\"],[0.8888888888888888,\"#fdca26\"],[1.0,\"#f0f921\"]]}],\"mesh3d\":[{\"type\":\"mesh3d\",\"colorbar\":{\"outlinewidth\":0,\"ticks\":\"\"}}],\"scatter\":[{\"fillpattern\":{\"fillmode\":\"overlay\",\"size\":10,\"solidity\":0.2},\"type\":\"scatter\"}],\"parcoords\":[{\"type\":\"parcoords\",\"line\":{\"colorbar\":{\"outlinewidth\":0,\"ticks\":\"\"}}}],\"scatterpolargl\":[{\"type\":\"scatterpolargl\",\"marker\":{\"colorbar\":{\"outlinewidth\":0,\"ticks\":\"\"}}}],\"bar\":[{\"error_x\":{\"color\":\"#2a3f5f\"},\"error_y\":{\"color\":\"#2a3f5f\"},\"marker\":{\"line\":{\"color\":\"#E5ECF6\",\"width\":0.5},\"pattern\":{\"fillmode\":\"overlay\",\"size\":10,\"solidity\":0.2}},\"type\":\"bar\"}],\"scattergeo\":[{\"type\":\"scattergeo\",\"marker\":{\"colorbar\":{\"outlinewidth\":0,\"ticks\":\"\"}}}],\"scatterpolar\":[{\"type\":\"scatterpolar\",\"marker\":{\"colorbar\":{\"outlinewidth\":0,\"ticks\":\"\"}}}],\"histogram\":[{\"marker\":{\"pattern\":{\"fillmode\":\"overlay\",\"size\":10,\"solidity\":0.2}},\"type\":\"histogram\"}],\"scattergl\":[{\"type\":\"scattergl\",\"marker\":{\"colorbar\":{\"outlinewidth\":0,\"ticks\":\"\"}}}],\"scatter3d\":[{\"type\":\"scatter3d\",\"line\":{\"colorbar\":{\"outlinewidth\":0,\"ticks\":\"\"}},\"marker\":{\"colorbar\":{\"outlinewidth\":0,\"ticks\":\"\"}}}],\"scattermapbox\":[{\"type\":\"scattermapbox\",\"marker\":{\"colorbar\":{\"outlinewidth\":0,\"ticks\":\"\"}}}],\"scatterternary\":[{\"type\":\"scatterternary\",\"marker\":{\"colorbar\":{\"outlinewidth\":0,\"ticks\":\"\"}}}],\"scattercarpet\":[{\"type\":\"scattercarpet\",\"marker\":{\"colorbar\":{\"outlinewidth\":0,\"ticks\":\"\"}}}],\"carpet\":[{\"aaxis\":{\"endlinecolor\":\"#2a3f5f\",\"gridcolor\":\"white\",\"linecolor\":\"white\",\"minorgridcolor\":\"white\",\"startlinecolor\":\"#2a3f5f\"},\"baxis\":{\"endlinecolor\":\"#2a3f5f\",\"gridcolor\":\"white\",\"linecolor\":\"white\",\"minorgridcolor\":\"white\",\"startlinecolor\":\"#2a3f5f\"},\"type\":\"carpet\"}],\"table\":[{\"cells\":{\"fill\":{\"color\":\"#EBF0F8\"},\"line\":{\"color\":\"white\"}},\"header\":{\"fill\":{\"color\":\"#C8D4E3\"},\"line\":{\"color\":\"white\"}},\"type\":\"table\"}],\"barpolar\":[{\"marker\":{\"line\":{\"color\":\"#E5ECF6\",\"width\":0.5},\"pattern\":{\"fillmode\":\"overlay\",\"size\":10,\"solidity\":0.2}},\"type\":\"barpolar\"}],\"pie\":[{\"automargin\":true,\"type\":\"pie\"}]},\"layout\":{\"autotypenumbers\":\"strict\",\"colorway\":[\"#636efa\",\"#EF553B\",\"#00cc96\",\"#ab63fa\",\"#FFA15A\",\"#19d3f3\",\"#FF6692\",\"#B6E880\",\"#FF97FF\",\"#FECB52\"],\"font\":{\"color\":\"#2a3f5f\"},\"hovermode\":\"closest\",\"hoverlabel\":{\"align\":\"left\"},\"paper_bgcolor\":\"white\",\"plot_bgcolor\":\"#E5ECF6\",\"polar\":{\"bgcolor\":\"#E5ECF6\",\"angularaxis\":{\"gridcolor\":\"white\",\"linecolor\":\"white\",\"ticks\":\"\"},\"radialaxis\":{\"gridcolor\":\"white\",\"linecolor\":\"white\",\"ticks\":\"\"}},\"ternary\":{\"bgcolor\":\"#E5ECF6\",\"aaxis\":{\"gridcolor\":\"white\",\"linecolor\":\"white\",\"ticks\":\"\"},\"baxis\":{\"gridcolor\":\"white\",\"linecolor\":\"white\",\"ticks\":\"\"},\"caxis\":{\"gridcolor\":\"white\",\"linecolor\":\"white\",\"ticks\":\"\"}},\"coloraxis\":{\"colorbar\":{\"outlinewidth\":0,\"ticks\":\"\"}},\"colorscale\":{\"sequential\":[[0.0,\"#0d0887\"],[0.1111111111111111,\"#46039f\"],[0.2222222222222222,\"#7201a8\"],[0.3333333333333333,\"#9c179e\"],[0.4444444444444444,\"#bd3786\"],[0.5555555555555556,\"#d8576b\"],[0.6666666666666666,\"#ed7953\"],[0.7777777777777778,\"#fb9f3a\"],[0.8888888888888888,\"#fdca26\"],[1.0,\"#f0f921\"]],\"sequentialminus\":[[0.0,\"#0d0887\"],[0.1111111111111111,\"#46039f\"],[0.2222222222222222,\"#7201a8\"],[0.3333333333333333,\"#9c179e\"],[0.4444444444444444,\"#bd3786\"],[0.5555555555555556,\"#d8576b\"],[0.6666666666666666,\"#ed7953\"],[0.7777777777777778,\"#fb9f3a\"],[0.8888888888888888,\"#fdca26\"],[1.0,\"#f0f921\"]],\"diverging\":[[0,\"#8e0152\"],[0.1,\"#c51b7d\"],[0.2,\"#de77ae\"],[0.3,\"#f1b6da\"],[0.4,\"#fde0ef\"],[0.5,\"#f7f7f7\"],[0.6,\"#e6f5d0\"],[0.7,\"#b8e186\"],[0.8,\"#7fbc41\"],[0.9,\"#4d9221\"],[1,\"#276419\"]]},\"xaxis\":{\"gridcolor\":\"white\",\"linecolor\":\"white\",\"ticks\":\"\",\"title\":{\"standoff\":15},\"zerolinecolor\":\"white\",\"automargin\":true,\"zerolinewidth\":2},\"yaxis\":{\"gridcolor\":\"white\",\"linecolor\":\"white\",\"ticks\":\"\",\"title\":{\"standoff\":15},\"zerolinecolor\":\"white\",\"automargin\":true,\"zerolinewidth\":2},\"scene\":{\"xaxis\":{\"backgroundcolor\":\"#E5ECF6\",\"gridcolor\":\"white\",\"linecolor\":\"white\",\"showbackground\":true,\"ticks\":\"\",\"zerolinecolor\":\"white\",\"gridwidth\":2},\"yaxis\":{\"backgroundcolor\":\"#E5ECF6\",\"gridcolor\":\"white\",\"linecolor\":\"white\",\"showbackground\":true,\"ticks\":\"\",\"zerolinecolor\":\"white\",\"gridwidth\":2},\"zaxis\":{\"backgroundcolor\":\"#E5ECF6\",\"gridcolor\":\"white\",\"linecolor\":\"white\",\"showbackground\":true,\"ticks\":\"\",\"zerolinecolor\":\"white\",\"gridwidth\":2}},\"shapedefaults\":{\"line\":{\"color\":\"#2a3f5f\"}},\"annotationdefaults\":{\"arrowcolor\":\"#2a3f5f\",\"arrowhead\":0,\"arrowwidth\":1},\"geo\":{\"bgcolor\":\"white\",\"landcolor\":\"#E5ECF6\",\"subunitcolor\":\"white\",\"showland\":true,\"showlakes\":true,\"lakecolor\":\"white\"},\"title\":{\"x\":0.05},\"mapbox\":{\"style\":\"light\"}}},\"violingap\":0,\"violinmode\":\"overlay\"},                        {\"responsive\": true}                    ).then(function(){\n",
       "                            \n",
       "var gd = document.getElementById('2699da58-d517-47e8-9bdb-da5d2fc2f941');\n",
       "var x = new MutationObserver(function (mutations, observer) {{\n",
       "        var display = window.getComputedStyle(gd).display;\n",
       "        if (!display || display === 'none') {{\n",
       "            console.log([gd, 'removed!']);\n",
       "            Plotly.purge(gd);\n",
       "            observer.disconnect();\n",
       "        }}\n",
       "}});\n",
       "\n",
       "// Listen for the removal of the full notebook cells\n",
       "var notebookContainer = gd.closest('#notebook-container');\n",
       "if (notebookContainer) {{\n",
       "    x.observe(notebookContainer, {childList: true});\n",
       "}}\n",
       "\n",
       "// Listen for the clearing of the current output cell\n",
       "var outputEl = gd.closest('.output');\n",
       "if (outputEl) {{\n",
       "    x.observe(outputEl, {childList: true});\n",
       "}}\n",
       "\n",
       "                        })                };                });            </script>        </div>"
      ]
     },
     "metadata": {},
     "output_type": "display_data"
    }
   ],
   "source": [
    "# Figure 3\n",
    "import plotly.graph_objects as go\n",
    "fig = go.Figure()\n",
    "\n",
    "yes = ref[ref['includes_multiple_mutants'] == True]\n",
    "no = ref[ref['includes_multiple_mutants'] == False]\n",
    "\n",
    "yes.drop(['DMS_id', 'includes_multiple_mutants', 'DMS_total_number_mutants', 'seq_len'], axis=1, inplace=True)\n",
    "yes = yes.melt(var_name='Method', value_name='Value')\n",
    "\n",
    "no.drop(['DMS_id', 'includes_multiple_mutants', 'DMS_total_number_mutants', 'seq_len'], axis=1, inplace=True)\n",
    "no = no.melt(var_name='Method', value_name='Value')\n",
    "\n",
    "fig.add_trace(go.Violin(x=yes['Method'],\n",
    "                        y=yes['Value'],\n",
    "                        legendgroup='True', scalegroup='True', name='True',\n",
    "                        side='negative',\n",
    "                        line_color='blue', width=0.5)\n",
    "             )\n",
    "fig.add_trace(go.Violin(x=no['Method'],\n",
    "                    y=no['Value'],\n",
    "                    legendgroup='False', scalegroup='False', name='False',\n",
    "                    side='positive',\n",
    "                    line_color='orange', width=0.5)\n",
    "            )\n",
    "fig.update_traces(meanline_visible=True)\n",
    "fig.update_layout(violingap=0, violinmode='overlay')\n",
    "\n",
    "fig.show()"
   ]
  }
 ],
 "metadata": {
  "kernelspec": {
   "display_name": "tranception",
   "language": "python",
   "name": "python3"
  },
  "language_info": {
   "codemirror_mode": {
    "name": "ipython",
    "version": 3
   },
   "file_extension": ".py",
   "mimetype": "text/x-python",
   "name": "python",
   "nbconvert_exporter": "python",
   "pygments_lexer": "ipython3",
   "version": "3.8.18"
  },
  "orig_nbformat": 4
 },
 "nbformat": 4,
 "nbformat_minor": 2
}
